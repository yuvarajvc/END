{
  "nbformat": 4,
  "nbformat_minor": 0,
  "metadata": {
    "colab": {
      "name": "Copy of Python101.ipynb",
      "provenance": [],
      "collapsed_sections": []
    },
    "kernelspec": {
      "name": "python3",
      "display_name": "Python 3"
    }
  },
  "cells": [
    {
      "cell_type": "markdown",
      "metadata": {
        "id": "jXS_TkEMZXiG"
      },
      "source": [
        ""
      ]
    },
    {
      "cell_type": "markdown",
      "metadata": {
        "id": "mnJ8ar0thqYq"
      },
      "source": [
        "# Python 101\n",
        "![alt text](https://encrypted-tbn0.gstatic.com/images?q=tbn%3AANd9GcRZpTmijaNOH6MmycM_eiPKcEl5mVvbwl7a8YKVGpEEMIanDcSt)\n",
        "\n",
        "This is a MUST Python Refresher. You must finish this notebook as a part of overall grading.\n",
        "\n",
        "Majority of this notebook is inspired from: Stanford's Python Refresher which can be found at: https://cs231n.github.io/python-numpy-tutorial/\n",
        "\n",
        "\n",
        "\n",
        "---\n",
        "\n",
        "**We have modified the original notebook and added some questions here. You need to find the solutions and provide answers in your Q1 - Python 101 Quiz.**\n"
      ]
    },
    {
      "cell_type": "markdown",
      "metadata": {
        "id": "nq-sNhAjiAxa"
      },
      "source": [
        "# Python\n",
        "Python is a high-level, dynamically typed multiparadigm programming language. Python code is often said to be almost like pseudocode, since it allows you to express very powerful ideas in very few lines of code while being very readable.\n",
        "\n",
        "---\n",
        "\n",
        "## Python Versions\n",
        "\n",
        "There are currently two different supported versions of Python, 2.7 and 3.5. Somewhat confusingly, Python 3.0 introduced many backwards-incompatible changes to the language, so code written for 2.7 may not work under 3.5 and vice versa. For this class all code will use Python 3.5 or higher.\n",
        "\n",
        "You can check your Python version at the command line by running `python --version`\n"
      ]
    },
    {
      "cell_type": "code",
      "metadata": {
        "id": "83uo1kNDhaoU",
        "outputId": "767e443a-baaf-4db2-b689-8604a3dc6748",
        "colab": {
          "base_uri": "https://localhost:8080/",
          "height": 34
        }
      },
      "source": [
        "!python --version"
      ],
      "execution_count": 1,
      "outputs": [
        {
          "output_type": "stream",
          "text": [
            "Python 3.6.9\n"
          ],
          "name": "stdout"
        }
      ]
    },
    {
      "cell_type": "markdown",
      "metadata": {
        "id": "_6vYrEaCi1Ml"
      },
      "source": [
        "## Basic data types\n",
        "\n",
        "Like most languages, Python has a number of basic types including integers, floats, booleans, and strings. These data types behave in ways that are familiar from other programming languages.\n",
        "\n",
        "**Numbers**: Integers and floats work as you would expect from other languages:"
      ]
    },
    {
      "cell_type": "code",
      "metadata": {
        "id": "y25Qd5G77lUZ",
        "outputId": "7e72a200-36be-4975-c48a-cafe1609afd5",
        "colab": {
          "base_uri": "https://localhost:8080/",
          "height": 158
        }
      },
      "source": [
        "x = 37\n",
        "print(type(x))\n",
        "print(x + 1)\n",
        "print(x - 1)\n",
        "print(x * 2)\n",
        "print(x ** 2)\n",
        "x += 1\n",
        "print(x)\n",
        "x *= 2\n",
        "print(x)\n",
        "y = 2.5\n",
        "x = x * y + x + y\n",
        "print(\"Final Value of x is:\", x)\n"
      ],
      "execution_count": 11,
      "outputs": [
        {
          "output_type": "stream",
          "text": [
            "<class 'int'>\n",
            "38\n",
            "36\n",
            "74\n",
            "1369\n",
            "38\n",
            "76\n",
            "Final Value of x is: 268.5\n"
          ],
          "name": "stdout"
        }
      ]
    },
    {
      "cell_type": "markdown",
      "metadata": {
        "id": "0IIODSSfjaCd"
      },
      "source": [
        "# Quiz Question 1\n",
        "With what integer value shall x be initialized as, such that Final Value of x is 268.5? Please mention the answer in INT value without decimal (e.g. 4, 2, 12, etc.).\n",
        "\n",
        "Please answer this question in the Quiz Section.\n",
        "\n",
        "# 37\n",
        "\n",
        "---\n",
        "\n",
        "**Booleans**\n",
        "\n",
        "Python implements all of the usual operators for Boolean logic, but uses English words rather than symbols (&&, ||, etc.):\n",
        "\n"
      ]
    },
    {
      "cell_type": "code",
      "metadata": {
        "id": "71wNg5mgi-th",
        "outputId": "edce8137-d6b5-4cb8-9924-7219af87ed4c",
        "colab": {
          "base_uri": "https://localhost:8080/",
          "height": 105
        }
      },
      "source": [
        "t = True\n",
        "f = False\n",
        "print(type(t)) # Prints \"<class 'bool'>\"\n",
        "print(t and f) # Logical AND; prints \"False\"\n",
        "print(t or f)  # Logical OR; prints \"True\"\n",
        "print(not t)   # Logical NOT; prints \"False\"\n",
        "print(t != f)  # Logical XOR; prints \"True\""
      ],
      "execution_count": 12,
      "outputs": [
        {
          "output_type": "stream",
          "text": [
            "<class 'bool'>\n",
            "False\n",
            "True\n",
            "False\n",
            "True\n"
          ],
          "name": "stdout"
        }
      ]
    },
    {
      "cell_type": "code",
      "metadata": {
        "id": "ELcgjZpp94um",
        "outputId": "58502c6d-6dd9-42fc-d417-97c2aaf4db59",
        "colab": {
          "base_uri": "https://localhost:8080/",
          "height": 34
        }
      },
      "source": [
        "not ( not t + f * t)"
      ],
      "execution_count": 15,
      "outputs": [
        {
          "output_type": "execute_result",
          "data": {
            "text/plain": [
              "True"
            ]
          },
          "metadata": {
            "tags": []
          },
          "execution_count": 15
        }
      ]
    },
    {
      "cell_type": "markdown",
      "metadata": {
        "id": "JM1p20Yml9gI"
      },
      "source": [
        "# Quiz Question 2\n",
        "What is the value of \n",
        "\n",
        "```\n",
        "not ( not t + f * t)\n",
        "```\n",
        "if executed after the code block above?\n",
        "\n",
        "# TRUE\n",
        "\n"
      ]
    },
    {
      "cell_type": "markdown",
      "metadata": {
        "id": "eDZGqwnam36m"
      },
      "source": [
        "\n",
        "**Strings**\n",
        "\n",
        "Python has great support for strings:"
      ]
    },
    {
      "cell_type": "code",
      "metadata": {
        "id": "RLLlfEVSlg4A",
        "outputId": "7c1f2afe-38fb-4c06-9f06-a24b594b1a48",
        "colab": {
          "base_uri": "https://localhost:8080/",
          "height": 105
        }
      },
      "source": [
        "hello = 'hello'    # String literals can use single quotes\n",
        "world = \"world\"    # or double quotes; it does not matter.\n",
        "print(hello)       # Prints \"hello\"\n",
        "print(len(hello))  # String length; prints \"5\"\n",
        "hw = hello + ' ' + world  # String concatenation\n",
        "print(hw)  # prints \"hello world\"\n",
        "hw6 = '%s %s %d' % (hello, world, 6)  # sprintf style string formatting\n",
        "print(hw6)  # prints \"hello world 6\"\n",
        "\n",
        "location = 12\n",
        "print(hw6[location])"
      ],
      "execution_count": 17,
      "outputs": [
        {
          "output_type": "stream",
          "text": [
            "hello\n",
            "5\n",
            "hello world\n",
            "hello world 6\n",
            "6\n"
          ],
          "name": "stdout"
        }
      ]
    },
    {
      "cell_type": "markdown",
      "metadata": {
        "id": "bxRbRr7jng8C"
      },
      "source": [
        "# Quiz Question 3\n",
        "\n",
        "What should be the value of \"location\" such that print(hw6[location]) prints 6?\n",
        "\n",
        "# 12"
      ]
    },
    {
      "cell_type": "markdown",
      "metadata": {
        "id": "rwkFgdCSn4th"
      },
      "source": [
        "## Containers\n",
        "\n",
        "Python includes several built-in container types: lists, dictionaries,sets, and tuples.\n",
        "\n",
        "**Lists**\n",
        "A list is the Python equivalent of an array, but is resizeable and can contain elements of different types:\n",
        "\n"
      ]
    },
    {
      "cell_type": "code",
      "metadata": {
        "id": "UBa5s5SYnNoT",
        "outputId": "123e850a-4de2-4c56-9ceb-558fb77de3fd",
        "colab": {
          "base_uri": "https://localhost:8080/",
          "height": 105
        }
      },
      "source": [
        "xs = [3, 1, 2]    # Create a list\n",
        "print(xs, xs[2])  # Prints \"[3, 1, 2] 2\"\n",
        "print(xs[-1])     # Negative indices count from the end of the list; prints \"2\"\n",
        "xs[2] = 'foo'     # Lists can contain elements of different types\n",
        "print(xs)         # Prints \"[3, 1, 'foo']\"\n",
        "xs.append('bar')  # Add a new element to the end of the list\n",
        "print(xs)         # Prints \"[3, 1, 'foo', 'bar']\"\n",
        "x = xs.pop()      # Remove and return the last element of the list\n",
        "print(x, xs)      # Prints \"bar [3, 1, 'foo']\""
      ],
      "execution_count": 18,
      "outputs": [
        {
          "output_type": "stream",
          "text": [
            "[3, 1, 2] 2\n",
            "2\n",
            "[3, 1, 'foo']\n",
            "[3, 1, 'foo', 'bar']\n",
            "bar [3, 1, 'foo']\n"
          ],
          "name": "stdout"
        }
      ]
    },
    {
      "cell_type": "code",
      "metadata": {
        "id": "uSOQA85xoEU9",
        "outputId": "bc39ad2c-dcf8-45e6-affe-d35483416997",
        "colab": {
          "base_uri": "https://localhost:8080/",
          "height": 158
        }
      },
      "source": [
        "rng = 9\n",
        "nums = list(range(rng))     # range is a built-in function that creates a list of integers\n",
        "print(nums)               # Prints \"[0, 1, 2, 3, 4]\"\n",
        "print(nums[2:4])          # Get a slice from index 2 to 4 (exclusive); prints \"[2, 3]\"\n",
        "print(nums[2:])           # Get a slice from index 2 to the end; prints \"[2, 3, 4]\"\n",
        "print(nums[:2])           # Get a slice from the start to index 2 (exclusive); prints \"[0, 1]\"\n",
        "print(nums[:])            # Get a slice of the whole list; prints \"[0, 1, 2, 3, 4]\"\n",
        "print(nums[:-1])          # Slice indices can be negative; prints \"[0, 1, 2, 3]\"\n",
        "nums[2:4] = [8, 9]        # Assign a new sublist to a slice\n",
        "print(nums)               # Prints \"[0, 1, 8, 9, 4]\"\n",
        "print(sum(nums))"
      ],
      "execution_count": 20,
      "outputs": [
        {
          "output_type": "stream",
          "text": [
            "[0, 1, 2, 3, 4, 5, 6, 7, 8]\n",
            "[2, 3]\n",
            "[2, 3, 4, 5, 6, 7, 8]\n",
            "[0, 1]\n",
            "[0, 1, 2, 3, 4, 5, 6, 7, 8]\n",
            "[0, 1, 2, 3, 4, 5, 6, 7]\n",
            "[0, 1, 8, 9, 4, 5, 6, 7, 8]\n",
            "48\n"
          ],
          "name": "stdout"
        }
      ]
    },
    {
      "cell_type": "markdown",
      "metadata": {
        "id": "CEZWL3raol4N"
      },
      "source": [
        "# Quiz Question 4\n",
        "\n",
        "What should be the value of rng, such that print(sum(nums)) prints 48?\n",
        "\n",
        "# 9"
      ]
    },
    {
      "cell_type": "markdown",
      "metadata": {
        "id": "KZ209w-wpD13"
      },
      "source": [
        "**Loops**\n",
        "\n",
        "You can loop over elements of a list like this:\n"
      ]
    },
    {
      "cell_type": "code",
      "metadata": {
        "id": "Zaus1Jfqoej1",
        "outputId": "f2788408-81b4-4713-b8b3-46ea5d1bdbb0",
        "colab": {
          "base_uri": "https://localhost:8080/",
          "height": 70
        }
      },
      "source": [
        "animals = ['cat', 'dog', 'monkey']\n",
        "for animal in animals:\n",
        "    print(animal)"
      ],
      "execution_count": 21,
      "outputs": [
        {
          "output_type": "stream",
          "text": [
            "cat\n",
            "dog\n",
            "monkey\n"
          ],
          "name": "stdout"
        }
      ]
    },
    {
      "cell_type": "markdown",
      "metadata": {
        "id": "1RaBN3jYpX1f"
      },
      "source": [
        "If you want access to the index of each element within the body of a loop, use the built-in `enumerate` function:"
      ]
    },
    {
      "cell_type": "code",
      "metadata": {
        "id": "QmkdTkicpJ9y"
      },
      "source": [
        "animals = ['cat', 'dog', 'monkey']\n",
        "for idx, animal in enumerate(animals):\n",
        "    print('#%d: %s' % (idx + 1, animal))"
      ],
      "execution_count": null,
      "outputs": []
    },
    {
      "cell_type": "markdown",
      "metadata": {
        "id": "xoMtCthyphX6"
      },
      "source": [
        "**List comprehensions**\n",
        "\n",
        "When programming, frequently we want to transform one type of data into another. As a simple example, consider the following code that computes square numbers:"
      ]
    },
    {
      "cell_type": "code",
      "metadata": {
        "id": "OQscx7VMpawj",
        "outputId": "b4b6c677-e4cc-4309-8240-7051d8391638",
        "colab": {
          "base_uri": "https://localhost:8080/",
          "height": 34
        }
      },
      "source": [
        "rng2 = 7\n",
        "nums = range(rng2)\n",
        "squares = []\n",
        "for x in nums:\n",
        "    squares.append(x ** 2)\n",
        "print(sum(squares))"
      ],
      "execution_count": 23,
      "outputs": [
        {
          "output_type": "stream",
          "text": [
            "91\n"
          ],
          "name": "stdout"
        }
      ]
    },
    {
      "cell_type": "markdown",
      "metadata": {
        "id": "51YLXn81p45I"
      },
      "source": [
        "# Quiz Question 5\n",
        "What should be the value of rng2, such that the code block above prints 91?\n",
        "\n",
        "# 7"
      ]
    },
    {
      "cell_type": "markdown",
      "metadata": {
        "id": "yRS97sf2qelf"
      },
      "source": [
        "You can make this code simpler using a **list comprehension**:"
      ]
    },
    {
      "cell_type": "code",
      "metadata": {
        "id": "23oZl87VponY",
        "outputId": "b2009b34-7e3a-4324-ad50-51a68e76d09a",
        "colab": {
          "base_uri": "https://localhost:8080/",
          "height": 34
        }
      },
      "source": [
        "nums = [0, 1, 2, 3, 4]\n",
        "squares = [x ** 2 for x in nums]\n",
        "print(squares) "
      ],
      "execution_count": 24,
      "outputs": [
        {
          "output_type": "stream",
          "text": [
            "[0, 1, 4, 9, 16]\n"
          ],
          "name": "stdout"
        }
      ]
    },
    {
      "cell_type": "markdown",
      "metadata": {
        "id": "5OjCcNtXqj8v"
      },
      "source": [
        "List comprehensions can also contain **conditions**:"
      ]
    },
    {
      "cell_type": "code",
      "metadata": {
        "id": "9DFWQ0Paqlxb",
        "outputId": "5e0afdfb-5c32-4444-8fea-ec5402961736",
        "colab": {
          "base_uri": "https://localhost:8080/",
          "height": 34
        }
      },
      "source": [
        "rng3 = 13\n",
        "nums = range(rng3)\n",
        "even_squares = [x ** 2 for x in nums if x % 2 == 0]\n",
        "print(sum(even_squares))"
      ],
      "execution_count": 62,
      "outputs": [
        {
          "output_type": "stream",
          "text": [
            "364\n"
          ],
          "name": "stdout"
        }
      ]
    },
    {
      "cell_type": "markdown",
      "metadata": {
        "id": "-9nL0W3Jq9Uo"
      },
      "source": [
        "# Quiz Question 6\n",
        "\n",
        "What is the **sum of the two values** to which rng3 can be set such that the output above is 364?\n",
        "\n",
        "# 13"
      ]
    },
    {
      "cell_type": "markdown",
      "metadata": {
        "id": "rqy0ypQKrnb_"
      },
      "source": [
        "## Dictionaries\n",
        "\n",
        "A dictionary stores (key, value) pairs, similar to a `Map` in Java or an object in Javascript. You can use it like this:"
      ]
    },
    {
      "cell_type": "code",
      "metadata": {
        "id": "S-obxQS9quER",
        "outputId": "f5b98546-3df2-4d71-c8b7-a315066a8a7d",
        "colab": {
          "base_uri": "https://localhost:8080/",
          "height": 123
        }
      },
      "source": [
        "d = {'cat': 'cute', 'dog': 'furry'}  # Create a new dictionary with some data\n",
        "print(d['cat'])       # Get an entry from a dictionary; prints \"cute\"\n",
        "print('cat' in d)     # Check if a dictionary has a given key; prints \"True\"\n",
        "d['fish'] = 'wet'     # Set an entry in a dictionary\n",
        "print(d['fish'])      # Prints \"wet\"\n",
        "# print(d['monkey'])  # KeyError: 'monkey' not a key of d\n",
        "print(d.get('monkey', 'N/A'))  # Get an element with a default; prints \"N/A\"\n",
        "print(d.get('fish', 'N/A'))    # Get an element with a default; prints \"wet\"\n",
        "del d['fish']         # Remove an element from a dictionary\n",
        "print(d.get('fish', 'N/A')) # \"fish\" is no longer a key; prints \"N/A\""
      ],
      "execution_count": 27,
      "outputs": [
        {
          "output_type": "stream",
          "text": [
            "cute\n",
            "True\n",
            "wet\n",
            "N/A\n",
            "wet\n",
            "N/A\n"
          ],
          "name": "stdout"
        }
      ]
    },
    {
      "cell_type": "markdown",
      "metadata": {
        "id": "ZY6vTNV5rwDZ"
      },
      "source": [
        "**Loops**: It is easy to iterate over the keys in a dictionary:"
      ]
    },
    {
      "cell_type": "code",
      "metadata": {
        "id": "MDs1ZBkerx4p",
        "outputId": "17248621-2fed-4129-f248-5af825345d2b",
        "colab": {
          "base_uri": "https://localhost:8080/",
          "height": 70
        }
      },
      "source": [
        "d = {'person': 2, 'cat': 4, 'spider': 8}\n",
        "for animal in d:\n",
        "    legs = d[animal]\n",
        "    print('A %s has %d legs' % (animal, legs))"
      ],
      "execution_count": 28,
      "outputs": [
        {
          "output_type": "stream",
          "text": [
            "A person has 2 legs\n",
            "A cat has 4 legs\n",
            "A spider has 8 legs\n"
          ],
          "name": "stdout"
        }
      ]
    },
    {
      "cell_type": "markdown",
      "metadata": {
        "id": "ssuwj7Slr2_l"
      },
      "source": [
        "If you want access to keys and their corresponding values, use the `items` method:"
      ]
    },
    {
      "cell_type": "code",
      "metadata": {
        "id": "H3V3iok8rz1Q",
        "outputId": "60f812b8-8899-4485-e264-d9b9a0418302",
        "colab": {
          "base_uri": "https://localhost:8080/",
          "height": 70
        }
      },
      "source": [
        "d = {'person': 2, 'cat': 4, 'spider': 8}\n",
        "for animal, legs in d.items():\n",
        "    print('A %s has %d legs' % (animal, legs))"
      ],
      "execution_count": 29,
      "outputs": [
        {
          "output_type": "stream",
          "text": [
            "A person has 2 legs\n",
            "A cat has 4 legs\n",
            "A spider has 8 legs\n"
          ],
          "name": "stdout"
        }
      ]
    },
    {
      "cell_type": "markdown",
      "metadata": {
        "id": "2sLbIbpLsDtC"
      },
      "source": [
        "**Dictionary comprehensions**\n",
        "\n",
        "These are similar to list comprehensions, but allow you to easily construct dictionaries. For example:"
      ]
    },
    {
      "cell_type": "code",
      "metadata": {
        "id": "55LbErmbr5uo",
        "outputId": "edc93b7e-529c-4a23-b971-aa3a73dd8ec2",
        "colab": {
          "base_uri": "https://localhost:8080/",
          "height": 34
        }
      },
      "source": [
        "nums = [0, 1, 2, 3, 4]\n",
        "even_num_to_square = {x: x ** 2 for x in nums if x % 2 == 0}\n",
        "print(even_num_to_square)"
      ],
      "execution_count": 31,
      "outputs": [
        {
          "output_type": "stream",
          "text": [
            "{0: 0, 2: 4, 4: 16}\n"
          ],
          "name": "stdout"
        }
      ]
    },
    {
      "cell_type": "markdown",
      "metadata": {
        "id": "mZEdOdr9sOk9"
      },
      "source": [
        "## Sets\n",
        "A set is an unordered collection of distinct elements. As a simple example, consider the following:\n"
      ]
    },
    {
      "cell_type": "code",
      "metadata": {
        "id": "kXzFjXrvsH_n",
        "outputId": "b7b03237-b80b-4fdc-e104-3b2e02af0daf",
        "colab": {
          "base_uri": "https://localhost:8080/",
          "height": 212
        }
      },
      "source": [
        "animals = {'cat', 'dog'}\n",
        "print(animals)\n",
        "print('cat' in animals)   # Check if an element is in a set; prints \"True\"\n",
        "print('fish' in animals)  # prints \"False\"\n",
        "animals.add('fish')      # Add an element to a set\n",
        "print(animals)\n",
        "print('fish' in animals)  # Prints \"True\"\n",
        "print(animals)\n",
        "print(len(animals))       # Number of elements in a set; prints \"3\"\n",
        "animals.add('cat')        # Adding an element that is already in the set does nothing\n",
        "print(animals)\n",
        "print(len(animals))       # Prints \"3\"\n",
        "animals.remove('cat')     # Remove an element from a set\n",
        "print(animals)\n",
        "print(len(animals))       # Prints \"2\""
      ],
      "execution_count": 33,
      "outputs": [
        {
          "output_type": "stream",
          "text": [
            "{'dog', 'cat'}\n",
            "True\n",
            "False\n",
            "{'fish', 'dog', 'cat'}\n",
            "True\n",
            "{'fish', 'dog', 'cat'}\n",
            "3\n",
            "{'fish', 'dog', 'cat'}\n",
            "3\n",
            "{'fish', 'dog'}\n",
            "2\n"
          ],
          "name": "stdout"
        }
      ]
    },
    {
      "cell_type": "markdown",
      "metadata": {
        "id": "dfzd9kD3sVsh"
      },
      "source": [
        "## Functions\n",
        "\n",
        "\n",
        "Python functions are defined using the def keyword. For example:"
      ]
    },
    {
      "cell_type": "code",
      "metadata": {
        "id": "IrAFUE-AsR9K",
        "outputId": "542d8212-f5a3-4112-ab6a-1af979c7d2c2",
        "colab": {
          "base_uri": "https://localhost:8080/",
          "height": 70
        }
      },
      "source": [
        "def sign(x):\n",
        "    if x > 0:\n",
        "        return 'positive'\n",
        "    elif x < 0:\n",
        "        return 'negative'\n",
        "    else:\n",
        "        return 'zero'\n",
        "\n",
        "for x in [-1, 0, 1]:\n",
        "    print(sign(x))"
      ],
      "execution_count": 34,
      "outputs": [
        {
          "output_type": "stream",
          "text": [
            "negative\n",
            "zero\n",
            "positive\n"
          ],
          "name": "stdout"
        }
      ]
    },
    {
      "cell_type": "markdown",
      "metadata": {
        "id": "RohxLiO0sd4X"
      },
      "source": [
        "We will often define functions to take optional keyword arguments, like this:"
      ]
    },
    {
      "cell_type": "code",
      "metadata": {
        "id": "LnMrX3ONsavI",
        "outputId": "785fbc8e-ae88-4223-f781-9c69a448783c",
        "colab": {
          "base_uri": "https://localhost:8080/",
          "height": 52
        }
      },
      "source": [
        "def hello(name, loud=False):\n",
        "    if loud:\n",
        "        print('HELLO, %s!' % name.upper())\n",
        "    else:\n",
        "        print('Hello, %s' % name)\n",
        "\n",
        "hello('Bob') # Prints \"Hello, Bob\"\n",
        "hello('Fred', loud=True)  # Prints \"HELLO, FRED!\""
      ],
      "execution_count": 35,
      "outputs": [
        {
          "output_type": "stream",
          "text": [
            "Hello, Bob\n",
            "HELLO, FRED!\n"
          ],
          "name": "stdout"
        }
      ]
    },
    {
      "cell_type": "markdown",
      "metadata": {
        "id": "1LbAt_RSsipu"
      },
      "source": [
        "## Classes\n",
        "\n",
        "The syntax for defining classes in Python is straightforward:\n"
      ]
    },
    {
      "cell_type": "code",
      "metadata": {
        "id": "glAkPfN1sfci",
        "outputId": "6dcbb21b-827b-4d42-8511-329970f406ba",
        "colab": {
          "base_uri": "https://localhost:8080/",
          "height": 52
        }
      },
      "source": [
        "class Greeter(object):\n",
        "\n",
        "    # Constructor\n",
        "    def __init__(self, name):\n",
        "        self.name = name  # Create an instance variable\n",
        "\n",
        "    # Instance method\n",
        "    def greet(self, loud=False):\n",
        "        if loud:\n",
        "            print('HELLO, %s!' % self.name.upper())\n",
        "        else:\n",
        "            print('Hello, %s' % self.name)\n",
        "\n",
        "g = Greeter('Fred')  # Construct an instance of the Greeter class\n",
        "g.greet()            # Call an instance method; prints \"Hello, Fred\"\n",
        "g.greet(loud=True)   # Call an instance method; prints \"HELLO, FRED!\""
      ],
      "execution_count": 36,
      "outputs": [
        {
          "output_type": "stream",
          "text": [
            "Hello, Fred\n",
            "HELLO, FRED!\n"
          ],
          "name": "stdout"
        }
      ]
    },
    {
      "cell_type": "code",
      "metadata": {
        "id": "J6DZ-rFIGn66"
      },
      "source": [
        "class Greeter1(object):\n",
        "\n",
        "    # Constructor\n",
        "    def __init__(self, name):\n",
        "        self.name = name  # Create an instance variable\n",
        "\n",
        "    # Instance method\n",
        "    def greet(self, loud=False):\n",
        "        if loud:\n",
        "            print('HELLO, %s!' % self.name.upper())\n",
        "        else:\n",
        "            print('Hello, %s' % self.name)"
      ],
      "execution_count": 37,
      "outputs": []
    },
    {
      "cell_type": "code",
      "metadata": {
        "id": "7XbqIi1FGqv8",
        "outputId": "39ba10c5-cd3a-40b4-becc-654b376795b1",
        "colab": {
          "base_uri": "https://localhost:8080/",
          "height": 34
        }
      },
      "source": [
        "Greeter1('Fred')"
      ],
      "execution_count": 38,
      "outputs": [
        {
          "output_type": "execute_result",
          "data": {
            "text/plain": [
              "<__main__.Greeter1 at 0x7fceef763cc0>"
            ]
          },
          "metadata": {
            "tags": []
          },
          "execution_count": 38
        }
      ]
    },
    {
      "cell_type": "code",
      "metadata": {
        "id": "lDDQMrGMHU9Q",
        "outputId": "413efa8e-404a-4224-fc61-96a9a7b75b84",
        "colab": {
          "base_uri": "https://localhost:8080/",
          "height": 34
        }
      },
      "source": [
        "g.greet(loud=False) "
      ],
      "execution_count": 40,
      "outputs": [
        {
          "output_type": "stream",
          "text": [
            "Hello, Fred\n"
          ],
          "name": "stdout"
        }
      ]
    },
    {
      "cell_type": "markdown",
      "metadata": {
        "id": "9jXYX9nvsxMV"
      },
      "source": [
        "# Quiz Question 7\n",
        "\n",
        "What does g.greet(lout=False) prints above?\n",
        "\n",
        "# Hello, Fred"
      ]
    },
    {
      "cell_type": "markdown",
      "metadata": {
        "id": "gRXVgzSFtHfT"
      },
      "source": [
        "# Numpy\n",
        "\n",
        "\n",
        "Numpy is the core library for scientific computing in Python. It provides a high-performance multidimensional array object, and tools for working with these arrays. If you are already familiar with MATLAB, you might find [this tutorial](https://docs.scipy.org/doc/numpy/user/numpy-for-matlab-users.html) useful to get started with Numpy.\n",
        "\n",
        "\n",
        "\n",
        "---\n",
        "\n",
        "\n",
        "Arrays\n",
        "A numpy array is a grid of values, all of the same type, and is indexed by a tuple of nonnegative integers. The number of dimensions is the rank of the array; the shape of an array is a tuple of integers giving the size of the array along each dimension.\n",
        "\n",
        "We can initialize numpy arrays from nested Python lists, and access elements using square brackets:\n"
      ]
    },
    {
      "cell_type": "code",
      "metadata": {
        "id": "wUDXZDEfsuiD",
        "outputId": "475596fb-b1c2-47ce-e053-5115662c9668",
        "colab": {
          "base_uri": "https://localhost:8080/",
          "height": 247
        }
      },
      "source": [
        "import numpy as np\n",
        "\n",
        "a = np.array([1, 2, 3])   # Create a rank 1 array\n",
        "print(type(a))            # Prints \"<class 'numpy.ndarray'>\"\n",
        "print(a.shape)            # Prints \"(3,)\"\n",
        "print(a[0], a[1], a[2])   # Prints \"1 2 3\"\n",
        "a[0] = 15                  # Change an element of the array\n",
        "print(a)                  # Prints \"[5, 2, 3]\"\n",
        "\n",
        "b = np.array([[1,2,3],[4,5,6]])    # Create a rank 2 array\n",
        "print(b.shape)                     # Prints \"(2, 3)\"\n",
        "print(b[0, 0], b[0, 1], b[1, 0])   # Prints \"1 2 4\"\n",
        "print(b)\n",
        "print(a)\n",
        "print(sum(a))\n",
        "print(sum(b))\n",
        "print(sum(a)*sum(b))\n",
        "\n",
        "print(sum(sum(a)*sum(b)))"
      ],
      "execution_count": 46,
      "outputs": [
        {
          "output_type": "stream",
          "text": [
            "<class 'numpy.ndarray'>\n",
            "(3,)\n",
            "1 2 3\n",
            "[15  2  3]\n",
            "(2, 3)\n",
            "1 2 4\n",
            "[[1 2 3]\n",
            " [4 5 6]]\n",
            "[15  2  3]\n",
            "20\n",
            "[5 7 9]\n",
            "[100 140 180]\n",
            "420\n"
          ],
          "name": "stdout"
        }
      ]
    },
    {
      "cell_type": "markdown",
      "metadata": {
        "id": "hLNB0LKjtsiG"
      },
      "source": [
        "# Quiz Question 8\n",
        "\n",
        "What should a[0] be set equal to such that print(sum(sum(a)*sum(b))) prints 420?\n",
        "\n",
        "# 15\n",
        "\n",
        "\n",
        "\n",
        "\n",
        "---\n",
        "\n",
        "\n",
        "Numpy also provides many functions to create arrays:\n"
      ]
    },
    {
      "cell_type": "code",
      "metadata": {
        "id": "uQQ1uhHGtdgd",
        "outputId": "1d734f66-f035-440c-fff4-5b9f9edba41f",
        "colab": {
          "base_uri": "https://localhost:8080/",
          "height": 194
        }
      },
      "source": [
        "import numpy as np\n",
        "\n",
        "a = np.zeros((2,2))   # Create an array of all zeros\n",
        "print(a)              # Prints \"[[ 0.  0.]\n",
        "                      #          [ 0.  0.]]\"\n",
        "\n",
        "b = np.ones((1,2))    # Create an array of all ones\n",
        "print(b)              # Prints \"[[ 1.  1.]]\"\n",
        "\n",
        "c = np.full((2,2), 7)  # Create a constant array\n",
        "print(c)               # Prints \"[[ 7.  7.]\n",
        "                       #          [ 7.  7.]]\"\n",
        "\n",
        "d = np.eye(2)         # Create a 2x2 identity matrix\n",
        "print(d)              # Prints \"[[ 1.  0.]\n",
        "                      #          [ 0.  1.]]\"\n",
        "\n",
        "e = np.random.random((2,2))  # Create an array filled with random values\n",
        "print(e)                     # Might print \"[[ 0.91940167  0.08143941]\n",
        "                             #               [ 0.68744134  0.87236687]]\"\n",
        "print(np.prod(e))"
      ],
      "execution_count": 57,
      "outputs": [
        {
          "output_type": "stream",
          "text": [
            "[[0. 0.]\n",
            " [0. 0.]]\n",
            "[[1. 1.]]\n",
            "[[7 7]\n",
            " [7 7]]\n",
            "[[1. 0.]\n",
            " [0. 1.]]\n",
            "[[0.29584967 0.39234571]\n",
            " [0.36805652 0.35989152]]\n",
            "0.015375389623656956\n"
          ],
          "name": "stdout"
        }
      ]
    },
    {
      "cell_type": "markdown",
      "metadata": {
        "id": "Y7UF8HPuujzV"
      },
      "source": [
        "# Quiz Question 9\n",
        "\n",
        "Is it guaranteed that print(np.prod(e)) will always be less than 1?"
      ]
    },
    {
      "cell_type": "markdown",
      "metadata": {
        "id": "qpa5jn3PMRcz"
      },
      "source": [
        "# TRUE"
      ]
    },
    {
      "cell_type": "markdown",
      "metadata": {
        "id": "8ozSHrmzuzay"
      },
      "source": [
        "## Array indexing\n",
        "\n",
        "Numpy offers several ways to index into arrays.\n",
        "\n",
        "**Slicing**\n",
        "Similar to Python lists, numpy arrays can be sliced. Since arrays may be multidimensional, you must specify a slice for each dimension of the array:"
      ]
    },
    {
      "cell_type": "code",
      "metadata": {
        "id": "QypVe8W6t_Y2",
        "outputId": "e33cd6b0-b4ea-46eb-fd91-bb7b26dcf535",
        "colab": {
          "base_uri": "https://localhost:8080/",
          "height": 123
        }
      },
      "source": [
        "import numpy as np\n",
        "\n",
        "# Create the following rank 2 array with shape (3, 4)\n",
        "# [[ 1  2  3  4]\n",
        "#  [ 5  6  7  8]\n",
        "#  [ 9 10 11 12]]\n",
        "a = np.array([[1,2,3,4], [5,6,7,8], [9,10,11,12]])\n",
        "a[0, 0] = 4\n",
        "\n",
        "# Use slicing to pull out the subarray consisting of the first 2 rows\n",
        "# and columns 1 and 2; b is the following array of shape (2, 2):\n",
        "# [[2 3]\n",
        "#  [6 7]]\n",
        "b = a[:2, 1:3]\n",
        "\n",
        "# A slice of an array is a view into the same data, so modifying it\n",
        "# will modify the original array.\n",
        "print(a[0, 1])   # Prints \"2\"\n",
        "b[0, 0] = 77     # b[0, 0] is the same piece of data as a[0, 1]\n",
        "print(a[0, 1])   # Prints \"77\"\n",
        "\n",
        "c = a[:1, 2:4]\n",
        "print(c)\n",
        "c[0, 0] = 99\n",
        "print(a)"
      ],
      "execution_count": 60,
      "outputs": [
        {
          "output_type": "stream",
          "text": [
            "2\n",
            "77\n",
            "[[3 4]]\n",
            "[[ 4 77 99  4]\n",
            " [ 5  6  7  8]\n",
            " [ 9 10 11 12]]\n"
          ],
          "name": "stdout"
        }
      ]
    },
    {
      "cell_type": "markdown",
      "metadata": {
        "id": "QEoDyYAmwA0J"
      },
      "source": [
        "# Quiz Question 10\n",
        "At which index of a, 99 values is stored? See quiz for options. "
      ]
    },
    {
      "cell_type": "markdown",
      "metadata": {
        "id": "phzn_89Iwk0I"
      },
      "source": [
        "You can also mix integer indexing with slice indexing. However, doing so will yield an array of lower rank than the original array. Note that this is quite different from the way that MATLAB handles array slicing:"
      ]
    },
    {
      "cell_type": "markdown",
      "metadata": {
        "id": "z5DD4xi1MVbW"
      },
      "source": [
        "# 0,2"
      ]
    },
    {
      "cell_type": "code",
      "metadata": {
        "id": "AlkFtgkUvGFz",
        "outputId": "cfffb563-8117-43cd-eb65-1eb34a9dfc59",
        "colab": {
          "base_uri": "https://localhost:8080/",
          "height": 123
        }
      },
      "source": [
        "import numpy as np\n",
        "\n",
        "# Create the following rank 2 array with shape (3, 4)\n",
        "# [[ 1  2  3  4]\n",
        "#  [ 5  6  7  8]\n",
        "#  [ 9 10 11 12]]\n",
        "a = np.array([[1,2,3,4], [5,6,7,8], [9,10,11,12]])\n",
        "\n",
        "# Two ways of accessing the data in the middle row of the array.\n",
        "# Mixing integer indexing with slices yields an array of lower rank,\n",
        "# while using only slices yields an array of the same rank as the\n",
        "# original array:\n",
        "row_r1 = a[1, :]    # Rank 1 view of the second row of a\n",
        "row_r2 = a[1:2, :]  # Rank 2 view of the second row of a\n",
        "print(row_r1, row_r1.shape)  # Prints \"[5 6 7 8] (4,)\"\n",
        "print(row_r2, row_r2.shape)  # Prints \"[[5 6 7 8]] (1, 4)\"\n",
        "\n",
        "# We can make the same distinction when accessing columns of an array:\n",
        "col_r1 = a[:, 1]\n",
        "col_r2 = a[:, 1:2]\n",
        "print(col_r1, col_r1.shape)  # Prints \"[ 2  6 10] (3,)\"\n",
        "print(col_r2, col_r2.shape)  # Prints \"[[ 2]\n",
        "                             #          [ 6]\n",
        "                             #          [10]] (3, 1)\""
      ],
      "execution_count": 63,
      "outputs": [
        {
          "output_type": "stream",
          "text": [
            "[5 6 7 8] (4,)\n",
            "[[5 6 7 8]] (1, 4)\n",
            "[ 2  6 10] (3,)\n",
            "[[ 2]\n",
            " [ 6]\n",
            " [10]] (3, 1)\n"
          ],
          "name": "stdout"
        }
      ]
    },
    {
      "cell_type": "markdown",
      "metadata": {
        "id": "-8ya9ZHlwqK7"
      },
      "source": [
        "Integer array indexing: When you index into numpy arrays using slicing, the resulting array view will always be a subarray of the original array. In contrast, integer array indexing allows you to construct arbitrary arrays using the data from another array. Here is an example:"
      ]
    },
    {
      "cell_type": "code",
      "metadata": {
        "id": "Knk1HhLownX8",
        "outputId": "3576a877-b292-48cf-9134-7bad69067f6a",
        "colab": {
          "base_uri": "https://localhost:8080/",
          "height": 141
        }
      },
      "source": [
        "import numpy as np\n",
        "\n",
        "a = np.array([[1,2], [3, 4], [5, 6]])\n",
        "print(a)\n",
        "\n",
        "# An example of integer array indexing.\n",
        "# The returned array will have shape (3,) and\n",
        "print(a[[0, 1, 2], [0, 1, 0]])  # Prints \"[1 4 5]\"\n",
        "\n",
        "# The above example of integer array indexing is equivalent to this:\n",
        "print(np.array([a[0, 0], a[1, 1], a[2, 0]]))  # Prints \"[1 4 5]\"\n",
        "\n",
        "# When using integer array indexing, you can reuse the same\n",
        "# element from the source array:\n",
        "print(a[[0, 0], [1, 1]])  # Prints \"[2 2]\"\n",
        "\n",
        "# Equivalent to the previous integer array indexing example\n",
        "print(np.array([a[0, 1], a[0, 1]]))  # Prints \"[2 2]\""
      ],
      "execution_count": 66,
      "outputs": [
        {
          "output_type": "stream",
          "text": [
            "[[1 2]\n",
            " [3 4]\n",
            " [5 6]]\n",
            "[1 4 5]\n",
            "[1 4 5]\n",
            "[2 2]\n",
            "[2 2]\n"
          ],
          "name": "stdout"
        }
      ]
    },
    {
      "cell_type": "markdown",
      "metadata": {
        "id": "pPY2c_kBw4tV"
      },
      "source": [
        "## Datatypes\n",
        "\n",
        "Every numpy array is a grid of elements of the same type. Numpy provides a large set of numeric datatypes that you can use to construct arrays. Numpy tries to guess a datatype when you create an array, but functions that construct arrays usually also include an optional argument to explicitly specify the datatype. Here is an example:"
      ]
    },
    {
      "cell_type": "code",
      "metadata": {
        "id": "QX4zPCdTwsb6",
        "outputId": "7947b642-2acd-43f8-96cc-ff43d9488354",
        "colab": {
          "base_uri": "https://localhost:8080/",
          "height": 70
        }
      },
      "source": [
        "import numpy as np\n",
        "\n",
        "x = np.array([1, 2])   # Let numpy choose the datatype\n",
        "print(x.dtype)         # Prints \"int64\"\n",
        "\n",
        "x = np.array([1.0, 2.0])   # Let numpy choose the datatype\n",
        "print(x.dtype)             # Prints \"float64\"\n",
        "\n",
        "x = np.array([1, 2], dtype=np.int64)   # Force a particular datatype\n",
        "print(x.dtype)                         # Prints \"int64\""
      ],
      "execution_count": 67,
      "outputs": [
        {
          "output_type": "stream",
          "text": [
            "int64\n",
            "float64\n",
            "int64\n"
          ],
          "name": "stdout"
        }
      ]
    },
    {
      "cell_type": "markdown",
      "metadata": {
        "id": "LFa1S7jWw-vK"
      },
      "source": [
        "## Array math\n",
        "\n",
        "Basic mathematical functions operate elementwise on arrays, and are available both as operator overloads and as functions in the numpy module:"
      ]
    },
    {
      "cell_type": "code",
      "metadata": {
        "id": "ZgAIP41Tw81b",
        "outputId": "90f7ce68-018f-4161-fec6-98cc806ac055",
        "colab": {
          "base_uri": "https://localhost:8080/",
          "height": 336
        }
      },
      "source": [
        "import numpy as np\n",
        "\n",
        "x = np.array([[1,2],[3,4]], dtype=np.float64)\n",
        "y = np.array([[5,6],[7,8]], dtype=np.float64)\n",
        "\n",
        "# Elementwise sum; both produce the array\n",
        "# [[ 6.0  8.0]\n",
        "#  [10.0 12.0]]\n",
        "print(x + y)\n",
        "print(np.add(x, y))\n",
        "\n",
        "# Elementwise difference; both produce the array\n",
        "# [[-4.0 -4.0]\n",
        "#  [-4.0 -4.0]]\n",
        "print(x - y)\n",
        "print(np.subtract(x, y))\n",
        "\n",
        "# Elementwise product; both produce the array\n",
        "# [[ 5.0 12.0]\n",
        "#  [21.0 32.0]]\n",
        "print(x * y)\n",
        "print(np.multiply(x, y))\n",
        "\n",
        "# Elementwise division; both produce the array\n",
        "# [[ 0.2         0.33333333]\n",
        "#  [ 0.42857143  0.5       ]]\n",
        "print(x / y)\n",
        "print(np.divide(x, y))\n",
        "\n",
        "# Elementwise square root; produces the array\n",
        "# [[ 1.          1.41421356]\n",
        "#  [ 1.73205081  2.        ]]\n",
        "print(np.sqrt(x))"
      ],
      "execution_count": 68,
      "outputs": [
        {
          "output_type": "stream",
          "text": [
            "[[ 6.  8.]\n",
            " [10. 12.]]\n",
            "[[ 6.  8.]\n",
            " [10. 12.]]\n",
            "[[-4. -4.]\n",
            " [-4. -4.]]\n",
            "[[-4. -4.]\n",
            " [-4. -4.]]\n",
            "[[ 5. 12.]\n",
            " [21. 32.]]\n",
            "[[ 5. 12.]\n",
            " [21. 32.]]\n",
            "[[0.2        0.33333333]\n",
            " [0.42857143 0.5       ]]\n",
            "[[0.2        0.33333333]\n",
            " [0.42857143 0.5       ]]\n",
            "[[1.         1.41421356]\n",
            " [1.73205081 2.        ]]\n"
          ],
          "name": "stdout"
        }
      ]
    },
    {
      "cell_type": "markdown",
      "metadata": {
        "id": "7MnEOHMGxOUx"
      },
      "source": [
        "Note that unlike MATLAB, `*` is elementwise multiplication, not matrix multiplication. We instead use the dot function to compute inner products of vectors, to multiply a vector by a matrix, and to multiply matrices. dot is available both as a function in the numpy module and as an instance method of array objects:"
      ]
    },
    {
      "cell_type": "code",
      "metadata": {
        "id": "5Hw97GNpxC8f",
        "outputId": "38498173-4560-4f7c-9a60-34c65c69a6a7",
        "colab": {
          "base_uri": "https://localhost:8080/",
          "height": 158
        }
      },
      "source": [
        "import numpy as np\n",
        "\n",
        "x = np.array([[1,2],[3,4]])\n",
        "y = np.array([[5,6],[7,8]])\n",
        "\n",
        "v = np.array([9,10])\n",
        "w = np.array([11, 12])\n",
        "\n",
        "# Inner product of vectors; both produce 219\n",
        "print(v.dot(w))\n",
        "print(np.dot(v, w))\n",
        "\n",
        "# Matrix / vector product; both produce the rank 1 array [29 67]\n",
        "print(x.dot(v))\n",
        "print(np.dot(x, v))\n",
        "\n",
        "# Matrix / matrix product; both produce the rank 2 array\n",
        "# [[19 22]\n",
        "#  [43 50]]\n",
        "print(x.dot(y))\n",
        "print(np.dot(x, y))"
      ],
      "execution_count": 71,
      "outputs": [
        {
          "output_type": "stream",
          "text": [
            "219\n",
            "219\n",
            "[29 67]\n",
            "[29 67]\n",
            "[[19 22]\n",
            " [43 50]]\n",
            "[[19 22]\n",
            " [43 50]]\n"
          ],
          "name": "stdout"
        }
      ]
    },
    {
      "cell_type": "markdown",
      "metadata": {
        "id": "TqrBwA9yxob5"
      },
      "source": [
        "# Quiz Question 11\n",
        "\n",
        "What is the value of the square-root of sum of the dot product between y and the square-root of x? (answer up to 5 decimal points only, e.g. 0.12345)"
      ]
    },
    {
      "cell_type": "code",
      "metadata": {
        "id": "a-sltL7WS9tp",
        "outputId": "a17defa4-61de-4786-d55b-ca2449e42069",
        "colab": {
          "base_uri": "https://localhost:8080/",
          "height": 52
        }
      },
      "source": [
        "sqrt_x = np.sqrt(x)\n",
        "#print(sqrt_x)\n",
        "#print(y)\n",
        "prod = np.dot(y, sqrt_x)\n",
        "print(np.sqrt(prod))"
      ],
      "execution_count": 72,
      "outputs": [
        {
          "output_type": "stream",
          "text": [
            "[[3.9233028  4.36704337]\n",
            " [4.56688148 5.08915464]]\n"
          ],
          "name": "stdout"
        }
      ]
    },
    {
      "cell_type": "markdown",
      "metadata": {
        "id": "Ysu6nTdVyk3r"
      },
      "source": [
        "Numpy provides many useful functions for performing computations on arrays; one of the most useful is `sum`:"
      ]
    },
    {
      "cell_type": "markdown",
      "metadata": {
        "id": "-tcekTGqSWgV"
      },
      "source": [
        "# 9.01217"
      ]
    },
    {
      "cell_type": "code",
      "metadata": {
        "id": "TREMQheFxRSD",
        "outputId": "42d92e88-c57d-4b5a-a603-3245d5347523",
        "colab": {
          "base_uri": "https://localhost:8080/",
          "height": 70
        }
      },
      "source": [
        "import numpy as np\n",
        "\n",
        "x = np.array([[1,2],[3,4]])\n",
        "\n",
        "print(np.sum(x))  # Compute sum of all elements; prints \"10\"\n",
        "print(np.sum(x, axis=0))  # Compute sum of each column; prints \"[4 6]\"\n",
        "print(np.sum(x, axis=1))  # Compute sum of each row; prints \"[3 7]\""
      ],
      "execution_count": 70,
      "outputs": [
        {
          "output_type": "stream",
          "text": [
            "10\n",
            "[4 6]\n",
            "[3 7]\n"
          ],
          "name": "stdout"
        }
      ]
    },
    {
      "cell_type": "markdown",
      "metadata": {
        "id": "uahkTbYJzIK1"
      },
      "source": [
        "# Quiz Question 12\n",
        "\n",
        "What is the sum of all the elements of x and square-root of dot-product of sum of each coloumn of x and sum of each row of x? (answer up to 5 decimal points only, e.g. 0.12345)"
      ]
    },
    {
      "cell_type": "code",
      "metadata": {
        "id": "nNn5fPJ2TEEN",
        "outputId": "705258be-4d4c-46e0-828e-d5efd194414c",
        "colab": {
          "base_uri": "https://localhost:8080/",
          "height": 52
        }
      },
      "source": [
        "dot_prod = np.dot(np.sum(x, axis=0), np.sum(x, axis=1))\n",
        "\n",
        "print(dot_prod)\n",
        "\n",
        "sqrt_dotprod = np.sqrt(dot_prod)\n",
        "\n",
        "print(sqrt_dotprod)"
      ],
      "execution_count": 73,
      "outputs": [
        {
          "output_type": "stream",
          "text": [
            "54\n",
            "7.3484692283495345\n"
          ],
          "name": "stdout"
        }
      ]
    },
    {
      "cell_type": "code",
      "metadata": {
        "id": "40OxIyYVTOYp"
      },
      "source": [
        "17.34846"
      ],
      "execution_count": null,
      "outputs": []
    },
    {
      "cell_type": "markdown",
      "metadata": {
        "id": "WcrVRbQPzveH"
      },
      "source": [
        "## Broadcasting\n",
        "\n",
        "Broadcasting is a powerful mechanism that allows numpy to work with arrays of different shapes when performing arithmetic operations. Frequently we have a smaller array and a larger array, and we want to use the smaller array multiple times to perform some operation on the larger array.\n",
        "\n",
        "For example, suppose that we want to add a constant vector to each row of a matrix. We could do it like this:"
      ]
    },
    {
      "cell_type": "code",
      "metadata": {
        "id": "MtO9pH8qyn9o",
        "outputId": "dc8294d2-9629-4d86-aabe-ba51ef4720e9",
        "colab": {
          "base_uri": "https://localhost:8080/",
          "height": 87
        }
      },
      "source": [
        "import numpy as np\n",
        "\n",
        "# We will add the vector v to each row of the matrix x,\n",
        "# storing the result in the matrix y\n",
        "x = np.array([[1,2,3], [4,5,6], [7,8,9], [10, 11, 12]])\n",
        "v = np.array([1, 0, 1])\n",
        "y = np.empty_like(x)   # Create an empty matrix with the same shape as x\n",
        "\n",
        "# Add the vector v to each row of the matrix x with an explicit loop\n",
        "for i in range(4):\n",
        "    y[i, :] = x[i, :] + v\n",
        "\n",
        "# Now y is the following\n",
        "# [[ 2  2  4]\n",
        "#  [ 5  5  7]\n",
        "#  [ 8  8 10]\n",
        "#  [11 11 13]]\n",
        "print(y)"
      ],
      "execution_count": 74,
      "outputs": [
        {
          "output_type": "stream",
          "text": [
            "[[ 2  2  4]\n",
            " [ 5  5  7]\n",
            " [ 8  8 10]\n",
            " [11 11 13]]\n"
          ],
          "name": "stdout"
        }
      ]
    },
    {
      "cell_type": "markdown",
      "metadata": {
        "id": "IFnoEMTMz-hv"
      },
      "source": [
        "## Image operations\n",
        "\n",
        "PIL is the Python Imaging Library by Fredrik Lundh and Contributors. You should learn PIL as we would be using it a lot along with PyTorch"
      ]
    },
    {
      "cell_type": "code",
      "metadata": {
        "id": "egyBkthR0hPg",
        "outputId": "e4ef5481-b9e6-4564-c2b2-e76bcb266c1b",
        "colab": {
          "base_uri": "https://localhost:8080/",
          "height": 220
        }
      },
      "source": [
        "from PIL import Image\n",
        "import requests\n",
        "from io import BytesIO\n",
        "\n",
        "response = requests.get('https://encrypted-tbn0.gstatic.com/images?q=tbn%3AANd9GcRZpTmijaNOH6MmycM_eiPKcEl5mVvbwl7a8YKVGpEEMIanDcSt')\n",
        "img = Image.open(BytesIO(response.content))\n",
        "display(img)"
      ],
      "execution_count": 75,
      "outputs": [
        {
          "output_type": "display_data",
          "data": {
            "image/png": "[encoded data removed]",
            "text/plain": [
              "<PIL.PngImagePlugin.PngImageFile image mode=P size=601x203 at 0x7FCEE7BF9CF8>"
            ]
          },
          "metadata": {
            "tags": []
          }
        }
      ]
    },
    {
      "cell_type": "markdown",
      "metadata": {
        "id": "uPvz1COw02YV"
      },
      "source": [
        "Copying a subrectangle from an image:"
      ]
    },
    {
      "cell_type": "code",
      "metadata": {
        "id": "ZW3VI_Sw0mJl",
        "outputId": "f29b7c9c-b4f0-44a3-dcc2-bd7e4b54f2de",
        "colab": {
          "base_uri": "https://localhost:8080/",
          "height": 216
        }
      },
      "source": [
        "box1 = (150, 150, 300, 300)\n",
        "box2 = (200, 100, 250, 200)\n",
        "box3 = (100, 0, 200, 200)\n",
        "box4 = (100, 400, 200, 200)\n",
        "box5 = (0, 0, 100, 100)\n",
        "box6 = (200, 0, 200, 200)\n",
        "box7 = (0, 0, 200, 200)\n",
        "box8 = (100, 100, 200, 200)\n",
        "box9 = (100, 250, 400, 300)\n",
        "region = img.crop(box7)\n",
        "display(region)"
      ],
      "execution_count": 77,
      "outputs": [
        {
          "output_type": "display_data",
          "data": {
            "image/png": "[encoded data removed]",
            "text/plain": [
              "<PIL.Image.Image image mode=P size=200x200 at 0x7FCEE7701550>"
            ]
          },
          "metadata": {
            "tags": []
          }
        }
      ]
    },
    {
      "cell_type": "markdown",
      "metadata": {
        "id": "MA2lphrQcWvW"
      },
      "source": [
        "# Quiz Question 13\n",
        "\n",
        "Which box value shall be used in img.crop such that the colorful Python Logo is completely visible?\n",
        "\n",
        "# box7"
      ]
    },
    {
      "cell_type": "markdown",
      "metadata": {
        "id": "38xNwb1td0u3"
      },
      "source": [
        "## Playing with images\n"
      ]
    },
    {
      "cell_type": "code",
      "metadata": {
        "id": "nzDtSnzu069u",
        "outputId": "1bb0d71b-e08e-4744-9892-6214f9045273",
        "colab": {
          "base_uri": "https://localhost:8080/",
          "height": 423
        }
      },
      "source": [
        "from PIL import Image\n",
        "\n",
        "#Let's first convert our png (4 channel, R, G, B , Alpha) image into jpg (3 channel, R, G, B) image.\n",
        "img_jpg = Image.new(\"RGB\", img.size, (255, 255, 255))\n",
        "img_jpg.paste(img)\n",
        "# display jpg image\n",
        "display(img_jpg)\n",
        "\n",
        "#convert our image into numpy array\n",
        "npimg = np.array(img_jpg)\n",
        "\n",
        "#convert numpy image back to PIL image and display it\n",
        "npimg = Image.fromarray(npimg)\n",
        "display(npimg)"
      ],
      "execution_count": 78,
      "outputs": [
        {
          "output_type": "display_data",
          "data": {
            "image/png": "[encoded data removed]",
            "text/plain": [
              "<PIL.Image.Image image mode=RGB size=601x203 at 0x7FCEE7BF9860>"
            ]
          },
          "metadata": {
            "tags": []
          }
        },
        {
          "output_type": "display_data",
          "data": {
            "image/png": "[encoded data removed]",
            "text/plain": [
              "<PIL.Image.Image image mode=RGB size=601x203 at 0x7FCEE7BF9C50>"
            ]
          },
          "metadata": {
            "tags": []
          }
        }
      ]
    },
    {
      "cell_type": "code",
      "metadata": {
        "id": "vGGLY19mgk3F",
        "outputId": "c200435b-f42c-4c5d-f081-7fc0bd5286f4",
        "colab": {
          "base_uri": "https://localhost:8080/",
          "height": 220
        }
      },
      "source": [
        "npimg = np.array(img_jpg)\n",
        "# print(img_jpg.size)\n",
        "# print(npimg.shape)\n",
        "# Operation 1: \n",
        "# npimg[0:0, 100:100] = 255\n",
        "# Operation 2: \n",
        "# npimg[50:200, 50:200] = 255\n",
        "# Operation 3: \n",
        "# npimg[100:150, 0:100] = 255\n",
        "# Operation 4: \n",
        "npimg[0:150, 50:200] = 255\n",
        "\n",
        "npimg = Image.fromarray(npimg)\n",
        "display(npimg)"
      ],
      "execution_count": 80,
      "outputs": [
        {
          "output_type": "display_data",
          "data": {
            "image/png": "[encoded data removed]",
            "text/plain": [
              "<PIL.Image.Image image mode=RGB size=601x203 at 0x7FCEE7BF97F0>"
            ]
          },
          "metadata": {
            "tags": []
          }
        }
      ]
    },
    {
      "cell_type": "markdown",
      "metadata": {
        "id": "xs3pNYEcjvh4"
      },
      "source": [
        "# Quiz Question 14\n",
        "Which Operation will hide the Colorful Python logo completely?\n",
        "\n",
        "# Operation 4: \n",
        "\n",
        "# Quiz Question 15\n",
        "Numpy Axies are (y, x), where as PIL axies are (x, y). True or False?\n",
        "\n",
        "# true"
      ]
    },
    {
      "cell_type": "markdown",
      "metadata": {
        "id": "N5Bl4tULmA-f"
      },
      "source": [
        "## Gradients\n",
        "Notice how cleanly we calculated (x or y? you can find out if your 15th answer was correct) gradient!"
      ]
    },
    {
      "cell_type": "code",
      "metadata": {
        "id": "dnfMUmOYdBQP",
        "outputId": "56493bb8-58f0-4668-eed9-e33e3d3e8d14",
        "colab": {
          "base_uri": "https://localhost:8080/",
          "height": 218
        }
      },
      "source": [
        "npimg = np.array(img_jpg)\n",
        "# Gradient Operation\n",
        "newimg = npimg[:-1, :] - npimg[1:, :]\n",
        "npimg = Image.fromarray(newimg)\n",
        "display(npimg)"
      ],
      "execution_count": 83,
      "outputs": [
        {
          "output_type": "display_data",
          "data": {
            "image/png": "[encoded data removed]",
            "text/plain": [
              "<PIL.Image.Image image mode=RGB size=601x202 at 0x7FCEE76EECC0>"
            ]
          },
          "metadata": {
            "tags": []
          }
        }
      ]
    },
    {
      "cell_type": "code",
      "metadata": {
        "id": "nJRWvztDWC4A",
        "outputId": "6846f628-6834-4b07-ca3c-5c2e43999365",
        "colab": {
          "base_uri": "https://localhost:8080/",
          "height": 220
        }
      },
      "source": [
        "npimg = np.array(img_jpg)\n",
        "# Gradient Operation\n",
        "newimg =  npimg[:, :-1] - npimg[:, 1:]\n",
        "npimg = Image.fromarray(newimg)\n",
        "display(npimg)"
      ],
      "execution_count": 84,
      "outputs": [
        {
          "output_type": "display_data",
          "data": {
            "image/png": "[encoded data removed]",
            "text/plain": [
              "<PIL.Image.Image image mode=RGB size=600x203 at 0x7FCEE76EED68>"
            ]
          },
          "metadata": {
            "tags": []
          }
        }
      ]
    },
    {
      "cell_type": "markdown",
      "metadata": {
        "id": "e6aALYGYld2d"
      },
      "source": [
        "# Quiz Question 16\n",
        "\n",
        "From the options available below, which operation will give us \"other\" gradient? (Other means if we got x-gradient above then y-gradients and vice-verse)\n",
        "\n",
        "1. newimg = npimg[:-1, :] - npimg[1:, :]\n",
        "2. newimg = npimg[:, 1:] - npimg[1:, :]\n",
        "3. newimg = npimg[:-1, :] - npimg[:, 1:]\n",
        "4. newimg = npimg[:, :-1] - npimg[:, 1:]\n",
        "\n"
      ]
    },
    {
      "cell_type": "markdown",
      "metadata": {
        "id": "G5rXtpBBWH3H"
      },
      "source": [
        "#  npimg[:, :-1] - npimg[:, 1:]"
      ]
    },
    {
      "cell_type": "markdown",
      "metadata": {
        "id": "Wvq1z8Rqnqds"
      },
      "source": [
        "What you have done above is one of the very important operation as you will see in future. This is used in Loss function as well.\n",
        "\n",
        "## Convolution\n",
        "\n",
        "We are going to use filter2D function which is built into OpenCV to perform Convolution.\n"
      ]
    },
    {
      "cell_type": "code",
      "metadata": {
        "id": "xDXsqPRXk5-y"
      },
      "source": [
        "# import the necessary packages\n",
        "import numpy as np\n",
        "from urllib.request import urlopen\n",
        "import cv2\n",
        "from matplotlib import pyplot as plt\n",
        "\n",
        "# METHOD #1: OpenCV, NumPy, and urllib\n",
        "def url_to_image(url):\n",
        "\t# download the image, convert it to a NumPy array, and then read\n",
        "\t# it into OpenCV format\n",
        "\tresp = urlopen(url)\n",
        "\timage = np.asarray(bytearray(resp.read()), dtype=\"uint8\")\n",
        "\timage = cv2.imdecode(image, cv2.IMREAD_COLOR)\n",
        " \n",
        "\t# return the image\n",
        "\treturn image"
      ],
      "execution_count": 85,
      "outputs": []
    },
    {
      "cell_type": "code",
      "metadata": {
        "id": "Vdg5KfQXohjP",
        "outputId": "435cc076-4062-42dc-f1e6-71e5841336a2",
        "colab": {
          "base_uri": "https://localhost:8080/",
          "height": 352
        }
      },
      "source": [
        "image = url_to_image(\"https://lh4.googleusercontent.com/Ev_vU-tSCzT_rxkz3nVTlkdi8qVv1oI1n6l6cLFzprccpaNvpWMXHLvVDW5D5yRU1ZmdhLvg=w16383\")\n",
        "from google.colab.patches import cv2_imshow\n",
        "cv2_imshow(image)"
      ],
      "execution_count": 86,
      "outputs": [
        {
          "output_type": "error",
          "ename": "HTTPError",
          "evalue": "ignored",
          "traceback": [
            "\u001b[0;31m---------------------------------------------------------------------------\u001b[0m",
            "\u001b[0;31mHTTPError\u001b[0m                                 Traceback (most recent call last)",
            "\u001b[0;32m<ipython-input-86-858bc890c568>\u001b[0m in \u001b[0;36m<module>\u001b[0;34m()\u001b[0m\n\u001b[0;32m----> 1\u001b[0;31m \u001b[0mimage\u001b[0m \u001b[0;34m=\u001b[0m \u001b[0murl_to_image\u001b[0m\u001b[0;34m(\u001b[0m\u001b[0;34m\"https://lh4.googleusercontent.com/Ev_vU-tSCzT_rxkz3nVTlkdi8qVv1oI1n6l6cLFzprccpaNvpWMXHLvVDW5D5yRU1ZmdhLvg=w16383\"\u001b[0m\u001b[0;34m)\u001b[0m\u001b[0;34m\u001b[0m\u001b[0;34m\u001b[0m\u001b[0m\n\u001b[0m\u001b[1;32m      2\u001b[0m \u001b[0;32mfrom\u001b[0m \u001b[0mgoogle\u001b[0m\u001b[0;34m.\u001b[0m\u001b[0mcolab\u001b[0m\u001b[0;34m.\u001b[0m\u001b[0mpatches\u001b[0m \u001b[0;32mimport\u001b[0m \u001b[0mcv2_imshow\u001b[0m\u001b[0;34m\u001b[0m\u001b[0;34m\u001b[0m\u001b[0m\n\u001b[1;32m      3\u001b[0m \u001b[0mcv2_imshow\u001b[0m\u001b[0;34m(\u001b[0m\u001b[0mimage\u001b[0m\u001b[0;34m)\u001b[0m\u001b[0;34m\u001b[0m\u001b[0;34m\u001b[0m\u001b[0m\n",
            "\u001b[0;32m<ipython-input-85-7c890f36fd0a>\u001b[0m in \u001b[0;36murl_to_image\u001b[0;34m(url)\u001b[0m\n\u001b[1;32m      9\u001b[0m         \u001b[0;31m# download the image, convert it to a NumPy array, and then read\u001b[0m\u001b[0;34m\u001b[0m\u001b[0;34m\u001b[0m\u001b[0;34m\u001b[0m\u001b[0m\n\u001b[1;32m     10\u001b[0m         \u001b[0;31m# it into OpenCV format\u001b[0m\u001b[0;34m\u001b[0m\u001b[0;34m\u001b[0m\u001b[0;34m\u001b[0m\u001b[0m\n\u001b[0;32m---> 11\u001b[0;31m         \u001b[0mresp\u001b[0m \u001b[0;34m=\u001b[0m \u001b[0murlopen\u001b[0m\u001b[0;34m(\u001b[0m\u001b[0murl\u001b[0m\u001b[0;34m)\u001b[0m\u001b[0;34m\u001b[0m\u001b[0;34m\u001b[0m\u001b[0m\n\u001b[0m\u001b[1;32m     12\u001b[0m         \u001b[0mimage\u001b[0m \u001b[0;34m=\u001b[0m \u001b[0mnp\u001b[0m\u001b[0;34m.\u001b[0m\u001b[0masarray\u001b[0m\u001b[0;34m(\u001b[0m\u001b[0mbytearray\u001b[0m\u001b[0;34m(\u001b[0m\u001b[0mresp\u001b[0m\u001b[0;34m.\u001b[0m\u001b[0mread\u001b[0m\u001b[0;34m(\u001b[0m\u001b[0;34m)\u001b[0m\u001b[0;34m)\u001b[0m\u001b[0;34m,\u001b[0m \u001b[0mdtype\u001b[0m\u001b[0;34m=\u001b[0m\u001b[0;34m\"uint8\"\u001b[0m\u001b[0;34m)\u001b[0m\u001b[0;34m\u001b[0m\u001b[0;34m\u001b[0m\u001b[0m\n\u001b[1;32m     13\u001b[0m         \u001b[0mimage\u001b[0m \u001b[0;34m=\u001b[0m \u001b[0mcv2\u001b[0m\u001b[0;34m.\u001b[0m\u001b[0mimdecode\u001b[0m\u001b[0;34m(\u001b[0m\u001b[0mimage\u001b[0m\u001b[0;34m,\u001b[0m \u001b[0mcv2\u001b[0m\u001b[0;34m.\u001b[0m\u001b[0mIMREAD_COLOR\u001b[0m\u001b[0;34m)\u001b[0m\u001b[0;34m\u001b[0m\u001b[0;34m\u001b[0m\u001b[0m\n",
            "\u001b[0;32m/usr/lib/python3.6/urllib/request.py\u001b[0m in \u001b[0;36murlopen\u001b[0;34m(url, data, timeout, cafile, capath, cadefault, context)\u001b[0m\n\u001b[1;32m    221\u001b[0m     \u001b[0;32melse\u001b[0m\u001b[0;34m:\u001b[0m\u001b[0;34m\u001b[0m\u001b[0;34m\u001b[0m\u001b[0m\n\u001b[1;32m    222\u001b[0m         \u001b[0mopener\u001b[0m \u001b[0;34m=\u001b[0m \u001b[0m_opener\u001b[0m\u001b[0;34m\u001b[0m\u001b[0;34m\u001b[0m\u001b[0m\n\u001b[0;32m--> 223\u001b[0;31m     \u001b[0;32mreturn\u001b[0m \u001b[0mopener\u001b[0m\u001b[0;34m.\u001b[0m\u001b[0mopen\u001b[0m\u001b[0;34m(\u001b[0m\u001b[0murl\u001b[0m\u001b[0;34m,\u001b[0m \u001b[0mdata\u001b[0m\u001b[0;34m,\u001b[0m \u001b[0mtimeout\u001b[0m\u001b[0;34m)\u001b[0m\u001b[0;34m\u001b[0m\u001b[0;34m\u001b[0m\u001b[0m\n\u001b[0m\u001b[1;32m    224\u001b[0m \u001b[0;34m\u001b[0m\u001b[0m\n\u001b[1;32m    225\u001b[0m \u001b[0;32mdef\u001b[0m \u001b[0minstall_opener\u001b[0m\u001b[0;34m(\u001b[0m\u001b[0mopener\u001b[0m\u001b[0;34m)\u001b[0m\u001b[0;34m:\u001b[0m\u001b[0;34m\u001b[0m\u001b[0;34m\u001b[0m\u001b[0m\n",
            "\u001b[0;32m/usr/lib/python3.6/urllib/request.py\u001b[0m in \u001b[0;36mopen\u001b[0;34m(self, fullurl, data, timeout)\u001b[0m\n\u001b[1;32m    530\u001b[0m         \u001b[0;32mfor\u001b[0m \u001b[0mprocessor\u001b[0m \u001b[0;32min\u001b[0m \u001b[0mself\u001b[0m\u001b[0;34m.\u001b[0m\u001b[0mprocess_response\u001b[0m\u001b[0;34m.\u001b[0m\u001b[0mget\u001b[0m\u001b[0;34m(\u001b[0m\u001b[0mprotocol\u001b[0m\u001b[0;34m,\u001b[0m \u001b[0;34m[\u001b[0m\u001b[0;34m]\u001b[0m\u001b[0;34m)\u001b[0m\u001b[0;34m:\u001b[0m\u001b[0;34m\u001b[0m\u001b[0;34m\u001b[0m\u001b[0m\n\u001b[1;32m    531\u001b[0m             \u001b[0mmeth\u001b[0m \u001b[0;34m=\u001b[0m \u001b[0mgetattr\u001b[0m\u001b[0;34m(\u001b[0m\u001b[0mprocessor\u001b[0m\u001b[0;34m,\u001b[0m \u001b[0mmeth_name\u001b[0m\u001b[0;34m)\u001b[0m\u001b[0;34m\u001b[0m\u001b[0;34m\u001b[0m\u001b[0m\n\u001b[0;32m--> 532\u001b[0;31m             \u001b[0mresponse\u001b[0m \u001b[0;34m=\u001b[0m \u001b[0mmeth\u001b[0m\u001b[0;34m(\u001b[0m\u001b[0mreq\u001b[0m\u001b[0;34m,\u001b[0m \u001b[0mresponse\u001b[0m\u001b[0;34m)\u001b[0m\u001b[0;34m\u001b[0m\u001b[0;34m\u001b[0m\u001b[0m\n\u001b[0m\u001b[1;32m    533\u001b[0m \u001b[0;34m\u001b[0m\u001b[0m\n\u001b[1;32m    534\u001b[0m         \u001b[0;32mreturn\u001b[0m \u001b[0mresponse\u001b[0m\u001b[0;34m\u001b[0m\u001b[0;34m\u001b[0m\u001b[0m\n",
            "\u001b[0;32m/usr/lib/python3.6/urllib/request.py\u001b[0m in \u001b[0;36mhttp_response\u001b[0;34m(self, request, response)\u001b[0m\n\u001b[1;32m    640\u001b[0m         \u001b[0;32mif\u001b[0m \u001b[0;32mnot\u001b[0m \u001b[0;34m(\u001b[0m\u001b[0;36m200\u001b[0m \u001b[0;34m<=\u001b[0m \u001b[0mcode\u001b[0m \u001b[0;34m<\u001b[0m \u001b[0;36m300\u001b[0m\u001b[0;34m)\u001b[0m\u001b[0;34m:\u001b[0m\u001b[0;34m\u001b[0m\u001b[0;34m\u001b[0m\u001b[0m\n\u001b[1;32m    641\u001b[0m             response = self.parent.error(\n\u001b[0;32m--> 642\u001b[0;31m                 'http', request, response, code, msg, hdrs)\n\u001b[0m\u001b[1;32m    643\u001b[0m \u001b[0;34m\u001b[0m\u001b[0m\n\u001b[1;32m    644\u001b[0m         \u001b[0;32mreturn\u001b[0m \u001b[0mresponse\u001b[0m\u001b[0;34m\u001b[0m\u001b[0;34m\u001b[0m\u001b[0m\n",
            "\u001b[0;32m/usr/lib/python3.6/urllib/request.py\u001b[0m in \u001b[0;36merror\u001b[0;34m(self, proto, *args)\u001b[0m\n\u001b[1;32m    568\u001b[0m         \u001b[0;32mif\u001b[0m \u001b[0mhttp_err\u001b[0m\u001b[0;34m:\u001b[0m\u001b[0;34m\u001b[0m\u001b[0;34m\u001b[0m\u001b[0m\n\u001b[1;32m    569\u001b[0m             \u001b[0margs\u001b[0m \u001b[0;34m=\u001b[0m \u001b[0;34m(\u001b[0m\u001b[0mdict\u001b[0m\u001b[0;34m,\u001b[0m \u001b[0;34m'default'\u001b[0m\u001b[0;34m,\u001b[0m \u001b[0;34m'http_error_default'\u001b[0m\u001b[0;34m)\u001b[0m \u001b[0;34m+\u001b[0m \u001b[0morig_args\u001b[0m\u001b[0;34m\u001b[0m\u001b[0;34m\u001b[0m\u001b[0m\n\u001b[0;32m--> 570\u001b[0;31m             \u001b[0;32mreturn\u001b[0m \u001b[0mself\u001b[0m\u001b[0;34m.\u001b[0m\u001b[0m_call_chain\u001b[0m\u001b[0;34m(\u001b[0m\u001b[0;34m*\u001b[0m\u001b[0margs\u001b[0m\u001b[0;34m)\u001b[0m\u001b[0;34m\u001b[0m\u001b[0;34m\u001b[0m\u001b[0m\n\u001b[0m\u001b[1;32m    571\u001b[0m \u001b[0;34m\u001b[0m\u001b[0m\n\u001b[1;32m    572\u001b[0m \u001b[0;31m# XXX probably also want an abstract factory that knows when it makes\u001b[0m\u001b[0;34m\u001b[0m\u001b[0;34m\u001b[0m\u001b[0;34m\u001b[0m\u001b[0m\n",
            "\u001b[0;32m/usr/lib/python3.6/urllib/request.py\u001b[0m in \u001b[0;36m_call_chain\u001b[0;34m(self, chain, kind, meth_name, *args)\u001b[0m\n\u001b[1;32m    502\u001b[0m         \u001b[0;32mfor\u001b[0m \u001b[0mhandler\u001b[0m \u001b[0;32min\u001b[0m \u001b[0mhandlers\u001b[0m\u001b[0;34m:\u001b[0m\u001b[0;34m\u001b[0m\u001b[0;34m\u001b[0m\u001b[0m\n\u001b[1;32m    503\u001b[0m             \u001b[0mfunc\u001b[0m \u001b[0;34m=\u001b[0m \u001b[0mgetattr\u001b[0m\u001b[0;34m(\u001b[0m\u001b[0mhandler\u001b[0m\u001b[0;34m,\u001b[0m \u001b[0mmeth_name\u001b[0m\u001b[0;34m)\u001b[0m\u001b[0;34m\u001b[0m\u001b[0;34m\u001b[0m\u001b[0m\n\u001b[0;32m--> 504\u001b[0;31m             \u001b[0mresult\u001b[0m \u001b[0;34m=\u001b[0m \u001b[0mfunc\u001b[0m\u001b[0;34m(\u001b[0m\u001b[0;34m*\u001b[0m\u001b[0margs\u001b[0m\u001b[0;34m)\u001b[0m\u001b[0;34m\u001b[0m\u001b[0;34m\u001b[0m\u001b[0m\n\u001b[0m\u001b[1;32m    505\u001b[0m             \u001b[0;32mif\u001b[0m \u001b[0mresult\u001b[0m \u001b[0;32mis\u001b[0m \u001b[0;32mnot\u001b[0m \u001b[0;32mNone\u001b[0m\u001b[0;34m:\u001b[0m\u001b[0;34m\u001b[0m\u001b[0;34m\u001b[0m\u001b[0m\n\u001b[1;32m    506\u001b[0m                 \u001b[0;32mreturn\u001b[0m \u001b[0mresult\u001b[0m\u001b[0;34m\u001b[0m\u001b[0;34m\u001b[0m\u001b[0m\n",
            "\u001b[0;32m/usr/lib/python3.6/urllib/request.py\u001b[0m in \u001b[0;36mhttp_error_default\u001b[0;34m(self, req, fp, code, msg, hdrs)\u001b[0m\n\u001b[1;32m    648\u001b[0m \u001b[0;32mclass\u001b[0m \u001b[0mHTTPDefaultErrorHandler\u001b[0m\u001b[0;34m(\u001b[0m\u001b[0mBaseHandler\u001b[0m\u001b[0;34m)\u001b[0m\u001b[0;34m:\u001b[0m\u001b[0;34m\u001b[0m\u001b[0;34m\u001b[0m\u001b[0m\n\u001b[1;32m    649\u001b[0m     \u001b[0;32mdef\u001b[0m \u001b[0mhttp_error_default\u001b[0m\u001b[0;34m(\u001b[0m\u001b[0mself\u001b[0m\u001b[0;34m,\u001b[0m \u001b[0mreq\u001b[0m\u001b[0;34m,\u001b[0m \u001b[0mfp\u001b[0m\u001b[0;34m,\u001b[0m \u001b[0mcode\u001b[0m\u001b[0;34m,\u001b[0m \u001b[0mmsg\u001b[0m\u001b[0;34m,\u001b[0m \u001b[0mhdrs\u001b[0m\u001b[0;34m)\u001b[0m\u001b[0;34m:\u001b[0m\u001b[0;34m\u001b[0m\u001b[0;34m\u001b[0m\u001b[0m\n\u001b[0;32m--> 650\u001b[0;31m         \u001b[0;32mraise\u001b[0m \u001b[0mHTTPError\u001b[0m\u001b[0;34m(\u001b[0m\u001b[0mreq\u001b[0m\u001b[0;34m.\u001b[0m\u001b[0mfull_url\u001b[0m\u001b[0;34m,\u001b[0m \u001b[0mcode\u001b[0m\u001b[0;34m,\u001b[0m \u001b[0mmsg\u001b[0m\u001b[0;34m,\u001b[0m \u001b[0mhdrs\u001b[0m\u001b[0;34m,\u001b[0m \u001b[0mfp\u001b[0m\u001b[0;34m)\u001b[0m\u001b[0;34m\u001b[0m\u001b[0;34m\u001b[0m\u001b[0m\n\u001b[0m\u001b[1;32m    651\u001b[0m \u001b[0;34m\u001b[0m\u001b[0m\n\u001b[1;32m    652\u001b[0m \u001b[0;32mclass\u001b[0m \u001b[0mHTTPRedirectHandler\u001b[0m\u001b[0;34m(\u001b[0m\u001b[0mBaseHandler\u001b[0m\u001b[0;34m)\u001b[0m\u001b[0;34m:\u001b[0m\u001b[0;34m\u001b[0m\u001b[0;34m\u001b[0m\u001b[0m\n",
            "\u001b[0;31mHTTPError\u001b[0m: HTTP Error 403: Forbidden"
          ]
        }
      ]
    },
    {
      "cell_type": "markdown",
      "metadata": {
        "id": "vJMKdEkUrlyF"
      },
      "source": [
        "# Canny Edge Detection"
      ]
    },
    {
      "cell_type": "code",
      "metadata": {
        "id": "-XSF96c0o1MS",
        "outputId": "ef53a5df-373e-44ac-dfe4-7e3acebef3fe",
        "colab": {
          "base_uri": "https://localhost:8080/",
          "height": 185
        }
      },
      "source": [
        "edges = cv2.Canny(image,100,200)\n",
        "cv2_imshow(edges)"
      ],
      "execution_count": 87,
      "outputs": [
        {
          "output_type": "error",
          "ename": "NameError",
          "evalue": "ignored",
          "traceback": [
            "\u001b[0;31m---------------------------------------------------------------------------\u001b[0m",
            "\u001b[0;31mNameError\u001b[0m                                 Traceback (most recent call last)",
            "\u001b[0;32m<ipython-input-87-f08a02105fb9>\u001b[0m in \u001b[0;36m<module>\u001b[0;34m()\u001b[0m\n\u001b[0;32m----> 1\u001b[0;31m \u001b[0medges\u001b[0m \u001b[0;34m=\u001b[0m \u001b[0mcv2\u001b[0m\u001b[0;34m.\u001b[0m\u001b[0mCanny\u001b[0m\u001b[0;34m(\u001b[0m\u001b[0mimage\u001b[0m\u001b[0;34m,\u001b[0m\u001b[0;36m100\u001b[0m\u001b[0;34m,\u001b[0m\u001b[0;36m200\u001b[0m\u001b[0;34m)\u001b[0m\u001b[0;34m\u001b[0m\u001b[0;34m\u001b[0m\u001b[0m\n\u001b[0m\u001b[1;32m      2\u001b[0m \u001b[0mcv2_imshow\u001b[0m\u001b[0;34m(\u001b[0m\u001b[0medges\u001b[0m\u001b[0;34m)\u001b[0m\u001b[0;34m\u001b[0m\u001b[0;34m\u001b[0m\u001b[0m\n",
            "\u001b[0;31mNameError\u001b[0m: name 'image' is not defined"
          ]
        }
      ]
    },
    {
      "cell_type": "markdown",
      "metadata": {
        "id": "3m0m7w1Dru_d"
      },
      "source": [
        "## Convolution\n",
        "\n",
        "As mentioned above we'll use OpenCV's inbuilt function `filter2D` to perform our convolution operation. We are defining a vertical Edge detector below to perform our convolution. "
      ]
    },
    {
      "cell_type": "code",
      "metadata": {
        "id": "XZejR_S7rqYf"
      },
      "source": [
        "kernel = np.float32([[-1,0,1],[-1,0,1],[-1,0,1]])\n",
        "\n",
        "dst = cv2.filter2D(image,-1,kernel)\n",
        "cv2_imshow(dst)"
      ],
      "execution_count": null,
      "outputs": []
    },
    {
      "cell_type": "markdown",
      "metadata": {
        "id": "3nJIICgqr9kp"
      },
      "source": [
        "# Quiz Question 17\n",
        "Which kernel among these options will give us horizontal edge? \n",
        "\n",
        "1. kernel = np.float32([[-1, -1, -1],[0,0,0],[1,1,1]])\n",
        "2. kernel = np.float32([[-1, -2, -1],[0,0,0],[1,2,1]])\n",
        "3. kernel = np.float32([[-4, -1, -4],[0,0,0],[4,1,4]])\n",
        "4. kernel = np.float32([[-4, -4, -4],[0,0,0],[4,4,4]])"
      ]
    },
    {
      "cell_type": "code",
      "metadata": {
        "id": "SFQxVsLMrtog"
      },
      "source": [
        "kernel = ? # use the correct kernel from above\n",
        "dst = cv2.filter2D(image,-1,kernel)\n",
        "cv2_imshow(dst)"
      ],
      "execution_count": null,
      "outputs": []
    },
    {
      "cell_type": "markdown",
      "metadata": {
        "id": "3UTRTQtgXZBS"
      },
      "source": [
        "# all"
      ]
    },
    {
      "cell_type": "markdown",
      "metadata": {
        "id": "hBj3L7a5wi-1"
      },
      "source": [
        "# Quiz Question 18\n",
        "\n",
        "What would this kernel do?\n",
        "\n",
        "*   kernel = 1/9*np.float32([[1,1,1],[1,1,1],[1,1,1]])\n",
        "\n",
        "\n",
        "\n"
      ]
    },
    {
      "cell_type": "markdown",
      "metadata": {
        "id": "jAX8_e3sXb_v"
      },
      "source": [
        "# blur"
      ]
    },
    {
      "cell_type": "code",
      "metadata": {
        "id": "tttC9BaHXbX7"
      },
      "source": [
        ""
      ],
      "execution_count": null,
      "outputs": []
    },
    {
      "cell_type": "markdown",
      "metadata": {
        "id": "ac9S7sDaxBXD"
      },
      "source": [
        "# Quiz Question 19\n",
        "\n",
        "What would this kernel do?\n",
        "\n",
        "*   kernal = np.float32([[0,0,0],[0,1,0],[0,0,0]])"
      ]
    },
    {
      "cell_type": "markdown",
      "metadata": {
        "id": "dBR9xbX2XfrZ"
      },
      "source": [
        "#  nothing"
      ]
    },
    {
      "cell_type": "markdown",
      "metadata": {
        "id": "cGS5GSwst_Bx"
      },
      "source": [
        "# RGB to Grayscale Conversion\n",
        "There are many ways to convert RGB to Grayscale, below is just one of them (averaging the colors) which we are trying but is wrong. "
      ]
    },
    {
      "cell_type": "code",
      "metadata": {
        "id": "ccHf9t0rsdEg"
      },
      "source": [
        "npimg = np.array(img_jpg)\n",
        "# this operation is wrong, how can we fix it?\n",
        "npimg = np.sum(npimg/3, axis=-1)\n",
        "print(npimg.shape)\n",
        "npimg = Image.fromarray(npimg.astype('uint8'))\n",
        "display(npimg)"
      ],
      "execution_count": null,
      "outputs": []
    },
    {
      "cell_type": "markdown",
      "metadata": {
        "id": "JMiiFjLzve1_"
      },
      "source": [
        "# Quiz Question 20\n",
        "Which is the below is correct way of average the channels to get grayscale image?\n",
        "1. npimg = np.sum(npimg/3, axis=-1)\n",
        "2. npimg = np.sum(npimg, axis=-1)/3"
      ]
    },
    {
      "cell_type": "markdown",
      "metadata": {
        "id": "0hmuIpKXXjDr"
      },
      "source": [
        "both"
      ]
    },
    {
      "cell_type": "code",
      "metadata": {
        "id": "Z9Q8jENAxmmG"
      },
      "source": [
        ""
      ],
      "execution_count": null,
      "outputs": []
    }
  ]
}