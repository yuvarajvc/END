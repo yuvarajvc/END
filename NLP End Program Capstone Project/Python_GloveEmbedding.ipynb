{
  "nbformat": 4,
  "nbformat_minor": 0,
  "metadata": {
    "colab": {
      "name": "Python_GloveEmbedding.ipynb",
      "provenance": [],
      "collapsed_sections": []
    },
    "kernelspec": {
      "name": "python3",
      "display_name": "Python 3"
    },
    "accelerator": "GPU"
  },
  "cells": [
    {
      "cell_type": "code",
      "metadata": {
        "id": "YVO0DDtWgLqz"
      },
      "source": [
        "import numpy as np\n",
        "from sklearn.manifold import TSNE\n",
        "import matplotlib.pyplot as plt"
      ],
      "execution_count": null,
      "outputs": []
    },
    {
      "cell_type": "code",
      "metadata": {
        "id": "_YC2j6X-YB3r",
        "colab": {
          "base_uri": "https://localhost:8080/"
        },
        "outputId": "8c881133-d830-48a6-e324-111c924e02f5"
      },
      "source": [
        "from google.colab import drive\n",
        "drive.mount('/content/drive')"
      ],
      "execution_count": null,
      "outputs": [
        {
          "output_type": "stream",
          "text": [
            "Mounted at /content/drive\n"
          ],
          "name": "stdout"
        }
      ]
    },
    {
      "cell_type": "code",
      "metadata": {
        "id": "IwjMqq5AgP4o"
      },
      "source": [
        "import gensim.downloader as api\n",
        "# glove_model = api.load('glove-wiki-gigaword-300')"
      ],
      "execution_count": null,
      "outputs": []
    },
    {
      "cell_type": "code",
      "metadata": {
        "id": "3kWxLmdxgSVh"
      },
      "source": [
        "# glove_model[\"beautiful\"]"
      ],
      "execution_count": null,
      "outputs": []
    },
    {
      "cell_type": "code",
      "metadata": {
        "id": "Ull8wb-Ig-z3"
      },
      "source": [
        "# !wget http://mattmahoney.net/dc/text8.zip"
      ],
      "execution_count": null,
      "outputs": []
    },
    {
      "cell_type": "markdown",
      "metadata": {
        "id": "xpKejhVqhLg_"
      },
      "source": [
        "Hallo leute! Today’s post we will implement the awesome model to learn word embeddings Glove: Global Vectors for Word Representation, using Pytorch. Developed by Stanford, the main idea is to leverage the matrix of word cooccurrences in order to extract “dimensions of meaning”, outputing word vectors that naturally captures word semantics and thus being useful representations in a lot of tasks, such word analogies. You can find more information in the original paper here .\n",
        "\n",
        "For this project, we will use the text8 dataset (that can be download here). This dataset is a dump of cleaned wikipedia texts. More details here .\n",
        "\n",
        "First, we just import the necessary libs."
      ]
    },
    {
      "cell_type": "code",
      "metadata": {
        "id": "gPR2T9FphC61"
      },
      "source": [
        "from collections import Counter, defaultdict\n",
        "import numpy as np\n",
        "import matplotlib.pyplot as plt\n",
        "import torch\n",
        "import torch.nn as nn\n",
        "import torch.optim as optim\n",
        "import torch.nn.functional as F\n",
        "from sklearn.manifold import TSNE"
      ],
      "execution_count": null,
      "outputs": []
    },
    {
      "cell_type": "markdown",
      "metadata": {
        "id": "0GeYQ2BbhQrs"
      },
      "source": [
        "Next we will create a dataset class to manage our feature extraction and batch generation. We must create a cooccurence matrix for every word to feed the glove model. We will generate a vocab of ~190k words. If we create a common matrix, it would have 190000² entries, which would result in ~36 billion entries. If we consider each value a 32bit integer, we are talking of ~135GB of memory, too much to store and process. To handle this issue we can leverage the fact that most of the entries of this matrix are 0 so we just need to store the non-zero values, which drastically reduce the amount of memory necessary."
      ]
    },
    {
      "cell_type": "code",
      "metadata": {
        "colab": {
          "base_uri": "https://localhost:8080/"
        },
        "id": "k5fzc1GkhGjN",
        "outputId": "d84e2add-b339-4dc4-8a15-bb56a0565daa"
      },
      "source": [
        "class GloveDataset:\n",
        "\n",
        "  def __init__(self, text, n_words=200000, window_size=5):\n",
        "      self._window_size = window_size\n",
        "      self._tokens = text.split(\" \")[:n_words]\n",
        "      word_counter = Counter()\n",
        "      word_counter.update(self._tokens)\n",
        "      self._word2id = {w:i for i, (w,_) in enumerate(word_counter.most_common())}\n",
        "      self._id2word = {i:w for w, i in self._word2id.items()}\n",
        "      self._vocab_len = len(self._word2id)\n",
        "\n",
        "      self._id_tokens = [self._word2id[w] for w in self._tokens]\n",
        "\n",
        "      self._create_coocurrence_matrix()\n",
        "\n",
        "      print(\"# of words: {}\".format(len(self._tokens)))\n",
        "      print(\"Vocabulary length: {}\".format(self._vocab_len))\n",
        "\n",
        "  def _create_coocurrence_matrix(self):\n",
        "      cooc_mat = defaultdict(Counter)\n",
        "      for i, w in enumerate(self._id_tokens):\n",
        "          start_i = max(i - self._window_size, 0)\n",
        "          end_i = min(i + self._window_size + 1, len(self._id_tokens))\n",
        "          for j in range(start_i, end_i):\n",
        "              if i != j:\n",
        "                  c = self._id_tokens[j]\n",
        "                  cooc_mat[w][c] += 1 / abs(j-i)\n",
        "\n",
        "      self._i_idx = list()\n",
        "      self._j_idx = list()\n",
        "      self._xij = list()\n",
        "\n",
        "      #Create indexes and x values tensors\n",
        "      for w, cnt in cooc_mat.items():\n",
        "          for c, v in cnt.items():\n",
        "              self._i_idx.append(w)\n",
        "              self._j_idx.append(c)\n",
        "              self._xij.append(v)\n",
        "\n",
        "      self._i_idx = torch.LongTensor(self._i_idx).cuda()\n",
        "      self._j_idx = torch.LongTensor(self._j_idx).cuda()\n",
        "      self._xij = torch.FloatTensor(self._xij).cuda()\n",
        "\n",
        "\n",
        "  def get_batches(self, batch_size):\n",
        "      #Generate random idx\n",
        "      rand_ids = torch.LongTensor(np.random.choice(len(self._xij), len(self._xij), replace=False))\n",
        "\n",
        "      for p in range(0, len(rand_ids), batch_size):\n",
        "          batch_ids = rand_ids[p:p+batch_size]\n",
        "          yield self._xij[batch_ids], self._i_idx[batch_ids], self._j_idx[batch_ids]\n",
        "# !unzip text8.zip\n",
        "dataset = GloveDataset(open(\"/content/drive/MyDrive/ENDProgram/Session14/EmbeddingFile/embedding_file.txt\").read(), 10000000)"
      ],
      "execution_count": null,
      "outputs": [
        {
          "output_type": "stream",
          "text": [
            "# of words: 1866685\n",
            "Vocabulary length: 17599\n"
          ],
          "name": "stdout"
        }
      ]
    },
    {
      "cell_type": "markdown",
      "metadata": {
        "id": "bLqyLmqCjDze"
      },
      "source": [
        "Here we create the class of our glove model. In its forward pass it will perform the yellow part of the Glove loss function, described in the original paper:\n",
        "\n",
        "![](https://cdn.hashnode.com/res/hashnode/image/upload/v1587152473299/6HedPZypj.png?auto=compress)\n"
      ]
    },
    {
      "cell_type": "code",
      "metadata": {
        "id": "NrZJ_jHeh8XD",
        "colab": {
          "base_uri": "https://localhost:8080/"
        },
        "outputId": "25d8e9d9-83c4-4c54-e7de-5f3604381109"
      },
      "source": [
        "EMBED_DIM = 256\n",
        "class GloveModel(nn.Module):\n",
        "    def __init__(self, num_embeddings, embedding_dim):\n",
        "        super(GloveModel, self).__init__()\n",
        "        self.wi = nn.Embedding(num_embeddings, embedding_dim)\n",
        "        self.wj = nn.Embedding(num_embeddings, embedding_dim)\n",
        "        self.bi = nn.Embedding(num_embeddings, 1)\n",
        "        self.bj = nn.Embedding(num_embeddings, 1)\n",
        "\n",
        "        self.wi.weight.data.uniform_(-1, 1)\n",
        "        self.wj.weight.data.uniform_(-1, 1)\n",
        "        self.bi.weight.data.zero_()\n",
        "        self.bj.weight.data.zero_()\n",
        "\n",
        "    def forward(self, i_indices, j_indices):\n",
        "        w_i = self.wi(i_indices)\n",
        "        w_j = self.wj(j_indices)\n",
        "        b_i = self.bi(i_indices).squeeze()\n",
        "        b_j = self.bj(j_indices).squeeze()\n",
        "\n",
        "        x = torch.sum(w_i * w_j, dim=1) + b_i + b_j\n",
        "\n",
        "        return x\n",
        "glove = GloveModel(dataset._vocab_len, EMBED_DIM)\n",
        "glove.cuda()\n"
      ],
      "execution_count": null,
      "outputs": [
        {
          "output_type": "execute_result",
          "data": {
            "text/plain": [
              "GloveModel(\n",
              "  (wi): Embedding(17599, 256)\n",
              "  (wj): Embedding(17599, 256)\n",
              "  (bi): Embedding(17599, 1)\n",
              "  (bj): Embedding(17599, 1)\n",
              ")"
            ]
          },
          "metadata": {
            "tags": []
          },
          "execution_count": 8
        }
      ]
    },
    {
      "cell_type": "markdown",
      "metadata": {
        "id": "g-uXDWHKjKNg"
      },
      "source": [
        "We must define a function to compute the weighting term f(Xij) of the loss function as per described in the paper:\n",
        "\n",
        "\n",
        "![](https://cdn.hashnode.com/res/hashnode/image/upload/v1587152743199/bjCyXW0Wc.png?auto=compress)\n"
      ]
    },
    {
      "cell_type": "code",
      "metadata": {
        "id": "mjiil7uOjND5"
      },
      "source": [
        "def weight_func(x, x_max, alpha):\n",
        "    wx = (x/x_max)**alpha\n",
        "    wx = torch.min(wx, torch.ones_like(wx))\n",
        "    return wx.cuda()\n"
      ],
      "execution_count": null,
      "outputs": []
    },
    {
      "cell_type": "markdown",
      "metadata": {
        "id": "hQsDrTEwjO-N"
      },
      "source": [
        "The loss function described in the Glove paper is a weighted mean squared error. Pytorch 1.0 doesn’t have implementation for it, so we must write it ourselves. A good practice is to reuse any piece of this function already implemented so we take advantage of any optimization it might have:"
      ]
    },
    {
      "cell_type": "code",
      "metadata": {
        "id": "ncJv7xw5jZRC"
      },
      "source": [
        "def wmse_loss(weights, inputs, targets):\n",
        "    loss = weights * F.mse_loss(inputs, targets, reduction='none')\n",
        "    return torch.mean(loss).cuda()\n"
      ],
      "execution_count": null,
      "outputs": []
    },
    {
      "cell_type": "markdown",
      "metadata": {
        "id": "TyMwzxNEjcb-"
      },
      "source": [
        "Although we are using a diferent configuration (like the dataset) of the original paper, we will use the same optimizer and learning rate it describes."
      ]
    },
    {
      "cell_type": "code",
      "metadata": {
        "id": "GpPODp1Wjdwv"
      },
      "source": [
        "optimizer = optim.Adagrad(glove.parameters(), lr=0.05)\n"
      ],
      "execution_count": null,
      "outputs": []
    },
    {
      "cell_type": "markdown",
      "metadata": {
        "id": "NI9K_IfYjfU5"
      },
      "source": [
        "Now we can write our training loop. The ALPHA and X_MAX parameters are set accoring to the paper. We also save our model states every 100 epochs."
      ]
    },
    {
      "cell_type": "code",
      "metadata": {
        "id": "RCO63TEMYgCE",
        "colab": {
          "base_uri": "https://localhost:8080/"
        },
        "outputId": "e2da1635-1305-45b2-b561-bfe338a8a268"
      },
      "source": [
        "cd /content/drive/MyDrive/ENDProgram/Session14/Embedding_Model"
      ],
      "execution_count": null,
      "outputs": [
        {
          "output_type": "stream",
          "text": [
            "/content/drive/MyDrive/ENDProgram/Session14/Embedding_Model\n"
          ],
          "name": "stdout"
        }
      ]
    },
    {
      "cell_type": "code",
      "metadata": {
        "id": "kvrKTO9-jg0z",
        "colab": {
          "base_uri": "https://localhost:8080/"
        },
        "outputId": "4563a105-875f-4c55-a87f-eff26c592073"
      },
      "source": [
        "N_EPOCHS = 100\n",
        "BATCH_SIZE = 2048\n",
        "X_MAX = 100\n",
        "ALPHA = 0.75\n",
        "n_batches = int(len(dataset._xij) / BATCH_SIZE)\n",
        "loss_values = list()\n",
        "for e in range(1, N_EPOCHS+1):\n",
        "    batch_i = 0\n",
        "\n",
        "    for x_ij, i_idx, j_idx in dataset.get_batches(BATCH_SIZE):\n",
        "\n",
        "        batch_i += 1\n",
        "\n",
        "        optimizer.zero_grad()\n",
        "\n",
        "        outputs = glove(i_idx, j_idx)\n",
        "        weights_x = weight_func(x_ij, X_MAX, ALPHA)\n",
        "        loss = wmse_loss(weights_x, outputs, torch.log(x_ij))\n",
        "\n",
        "        loss.backward()\n",
        "\n",
        "        optimizer.step()\n",
        "\n",
        "        loss_values.append(loss.item())\n",
        "\n",
        "        if batch_i % 100 == 0:\n",
        "            print(\"Epoch: {}/{} \\t Batch: {}/{} \\t Loss: {}\".format(e, N_EPOCHS, batch_i, n_batches, np.mean(loss_values[-20:])))  \n",
        "\n",
        "    print(\"Saving model...\")\n",
        "    torch.save(glove.state_dict(), \"Session14_Embedding_100.pt\")\n",
        "\n",
        "    #checkpoint = {'model': GloveModel(dataset._vocab_len, EMBED_DIM),\n",
        "    #      'state_dict': glove.state_dict()}\n",
        "    \n",
        "    #torch.save(checkpoint, 'checkpoint.pth')\n",
        "    \n"
      ],
      "execution_count": null,
      "outputs": [
        {
          "output_type": "stream",
          "text": [
            "Epoch: 1/100 \t Batch: 100/303 \t Loss: 1.7946775019168855\n",
            "Epoch: 1/100 \t Batch: 200/303 \t Loss: 1.5369214832782745\n",
            "Epoch: 1/100 \t Batch: 300/303 \t Loss: 1.2935827493667602\n",
            "Saving model...\n",
            "Epoch: 2/100 \t Batch: 100/303 \t Loss: 0.5334748461842537\n",
            "Epoch: 2/100 \t Batch: 200/303 \t Loss: 0.5067763581871987\n",
            "Epoch: 2/100 \t Batch: 300/303 \t Loss: 0.4861528143286705\n",
            "Saving model...\n",
            "Epoch: 3/100 \t Batch: 100/303 \t Loss: 0.33627319484949114\n",
            "Epoch: 3/100 \t Batch: 200/303 \t Loss: 0.32138820439577104\n",
            "Epoch: 3/100 \t Batch: 300/303 \t Loss: 0.323635071516037\n",
            "Saving model...\n",
            "Epoch: 4/100 \t Batch: 100/303 \t Loss: 0.24242447465658187\n",
            "Epoch: 4/100 \t Batch: 200/303 \t Loss: 0.23652661591768265\n",
            "Epoch: 4/100 \t Batch: 300/303 \t Loss: 0.2427513338625431\n",
            "Saving model...\n",
            "Epoch: 5/100 \t Batch: 100/303 \t Loss: 0.1973481848835945\n",
            "Epoch: 5/100 \t Batch: 200/303 \t Loss: 0.18893284499645233\n",
            "Epoch: 5/100 \t Batch: 300/303 \t Loss: 0.19178911969065665\n",
            "Saving model...\n",
            "Epoch: 6/100 \t Batch: 100/303 \t Loss: 0.16417578607797623\n",
            "Epoch: 6/100 \t Batch: 200/303 \t Loss: 0.16167016699910164\n",
            "Epoch: 6/100 \t Batch: 300/303 \t Loss: 0.15679130852222442\n",
            "Saving model...\n",
            "Epoch: 7/100 \t Batch: 100/303 \t Loss: 0.13652491047978402\n",
            "Epoch: 7/100 \t Batch: 200/303 \t Loss: 0.13726243674755095\n",
            "Epoch: 7/100 \t Batch: 300/303 \t Loss: 0.13577588386833667\n",
            "Saving model...\n",
            "Epoch: 8/100 \t Batch: 100/303 \t Loss: 0.12173179872334003\n",
            "Epoch: 8/100 \t Batch: 200/303 \t Loss: 0.12125254049897194\n",
            "Epoch: 8/100 \t Batch: 300/303 \t Loss: 0.12075115628540516\n",
            "Saving model...\n",
            "Epoch: 9/100 \t Batch: 100/303 \t Loss: 0.1066368967294693\n",
            "Epoch: 9/100 \t Batch: 200/303 \t Loss: 0.10915043577551842\n",
            "Epoch: 9/100 \t Batch: 300/303 \t Loss: 0.10614948607981205\n",
            "Saving model...\n",
            "Epoch: 10/100 \t Batch: 100/303 \t Loss: 0.09423991031944752\n",
            "Epoch: 10/100 \t Batch: 200/303 \t Loss: 0.09668090380728245\n",
            "Epoch: 10/100 \t Batch: 300/303 \t Loss: 0.09660734310746193\n",
            "Saving model...\n",
            "Epoch: 11/100 \t Batch: 100/303 \t Loss: 0.08797733448445796\n",
            "Epoch: 11/100 \t Batch: 200/303 \t Loss: 0.08798600547015667\n",
            "Epoch: 11/100 \t Batch: 300/303 \t Loss: 0.08675316497683525\n",
            "Saving model...\n",
            "Epoch: 12/100 \t Batch: 100/303 \t Loss: 0.07970137521624565\n",
            "Epoch: 12/100 \t Batch: 200/303 \t Loss: 0.0784099668264389\n",
            "Epoch: 12/100 \t Batch: 300/303 \t Loss: 0.08234993815422058\n",
            "Saving model...\n",
            "Epoch: 13/100 \t Batch: 100/303 \t Loss: 0.07190428972244263\n",
            "Epoch: 13/100 \t Batch: 200/303 \t Loss: 0.07393765635788441\n",
            "Epoch: 13/100 \t Batch: 300/303 \t Loss: 0.0710052739828825\n",
            "Saving model...\n",
            "Epoch: 14/100 \t Batch: 100/303 \t Loss: 0.0688485011458397\n",
            "Epoch: 14/100 \t Batch: 200/303 \t Loss: 0.06763968877494335\n",
            "Epoch: 14/100 \t Batch: 300/303 \t Loss: 0.06814998462796211\n",
            "Saving model...\n",
            "Epoch: 15/100 \t Batch: 100/303 \t Loss: 0.06077815108001232\n",
            "Epoch: 15/100 \t Batch: 200/303 \t Loss: 0.06324840765446424\n",
            "Epoch: 15/100 \t Batch: 300/303 \t Loss: 0.06371783521026372\n",
            "Saving model...\n",
            "Epoch: 16/100 \t Batch: 100/303 \t Loss: 0.057822794653475285\n",
            "Epoch: 16/100 \t Batch: 200/303 \t Loss: 0.05865250583738089\n",
            "Epoch: 16/100 \t Batch: 300/303 \t Loss: 0.058575409650802615\n",
            "Saving model...\n",
            "Epoch: 17/100 \t Batch: 100/303 \t Loss: 0.055664734728634355\n",
            "Epoch: 17/100 \t Batch: 200/303 \t Loss: 0.05521344542503357\n",
            "Epoch: 17/100 \t Batch: 300/303 \t Loss: 0.055201241932809356\n",
            "Saving model...\n",
            "Epoch: 18/100 \t Batch: 100/303 \t Loss: 0.052106694877147676\n",
            "Epoch: 18/100 \t Batch: 200/303 \t Loss: 0.05113299712538719\n",
            "Epoch: 18/100 \t Batch: 300/303 \t Loss: 0.05210696551948786\n",
            "Saving model...\n",
            "Epoch: 19/100 \t Batch: 100/303 \t Loss: 0.048287243396043775\n",
            "Epoch: 19/100 \t Batch: 200/303 \t Loss: 0.04902325458824634\n",
            "Epoch: 19/100 \t Batch: 300/303 \t Loss: 0.04938716180622578\n",
            "Saving model...\n",
            "Epoch: 20/100 \t Batch: 100/303 \t Loss: 0.04701936412602663\n",
            "Epoch: 20/100 \t Batch: 200/303 \t Loss: 0.045430752262473104\n",
            "Epoch: 20/100 \t Batch: 300/303 \t Loss: 0.047177518345415594\n",
            "Saving model...\n",
            "Epoch: 21/100 \t Batch: 100/303 \t Loss: 0.0443669255822897\n",
            "Epoch: 21/100 \t Batch: 200/303 \t Loss: 0.043842469714581965\n",
            "Epoch: 21/100 \t Batch: 300/303 \t Loss: 0.043467729724943636\n",
            "Saving model...\n",
            "Epoch: 22/100 \t Batch: 100/303 \t Loss: 0.042044346779584886\n",
            "Epoch: 22/100 \t Batch: 200/303 \t Loss: 0.04102689865976572\n",
            "Epoch: 22/100 \t Batch: 300/303 \t Loss: 0.04288393538445234\n",
            "Saving model...\n",
            "Epoch: 23/100 \t Batch: 100/303 \t Loss: 0.03944633025676012\n",
            "Epoch: 23/100 \t Batch: 200/303 \t Loss: 0.03969069458544254\n",
            "Epoch: 23/100 \t Batch: 300/303 \t Loss: 0.039708704501390454\n",
            "Saving model...\n",
            "Epoch: 24/100 \t Batch: 100/303 \t Loss: 0.037772247567772865\n",
            "Epoch: 24/100 \t Batch: 200/303 \t Loss: 0.03853610288351774\n",
            "Epoch: 24/100 \t Batch: 300/303 \t Loss: 0.03780218362808228\n",
            "Saving model...\n",
            "Epoch: 25/100 \t Batch: 100/303 \t Loss: 0.03704075552523136\n",
            "Epoch: 25/100 \t Batch: 200/303 \t Loss: 0.0360906234011054\n",
            "Epoch: 25/100 \t Batch: 300/303 \t Loss: 0.037656140699982646\n",
            "Saving model...\n",
            "Epoch: 26/100 \t Batch: 100/303 \t Loss: 0.03494335226714611\n",
            "Epoch: 26/100 \t Batch: 200/303 \t Loss: 0.03408005367964506\n",
            "Epoch: 26/100 \t Batch: 300/303 \t Loss: 0.03555849771946669\n",
            "Saving model...\n",
            "Epoch: 27/100 \t Batch: 100/303 \t Loss: 0.03303126897662878\n",
            "Epoch: 27/100 \t Batch: 200/303 \t Loss: 0.0335981777869165\n",
            "Epoch: 27/100 \t Batch: 300/303 \t Loss: 0.03414342738687992\n",
            "Saving model...\n",
            "Epoch: 28/100 \t Batch: 100/303 \t Loss: 0.03218722566962242\n",
            "Epoch: 28/100 \t Batch: 200/303 \t Loss: 0.03186870962381363\n",
            "Epoch: 28/100 \t Batch: 300/303 \t Loss: 0.03155912272632122\n",
            "Saving model...\n",
            "Epoch: 29/100 \t Batch: 100/303 \t Loss: 0.03039565756917\n",
            "Epoch: 29/100 \t Batch: 200/303 \t Loss: 0.031634191144257785\n",
            "Epoch: 29/100 \t Batch: 300/303 \t Loss: 0.03127065030857921\n",
            "Saving model...\n",
            "Epoch: 30/100 \t Batch: 100/303 \t Loss: 0.0306733132340014\n",
            "Epoch: 30/100 \t Batch: 200/303 \t Loss: 0.030480379331856967\n",
            "Epoch: 30/100 \t Batch: 300/303 \t Loss: 0.030010768864303827\n",
            "Saving model...\n",
            "Epoch: 31/100 \t Batch: 100/303 \t Loss: 0.029321706481277944\n",
            "Epoch: 31/100 \t Batch: 200/303 \t Loss: 0.0295418256893754\n",
            "Epoch: 31/100 \t Batch: 300/303 \t Loss: 0.029104295652359724\n",
            "Saving model...\n",
            "Epoch: 32/100 \t Batch: 100/303 \t Loss: 0.027854701317846776\n",
            "Epoch: 32/100 \t Batch: 200/303 \t Loss: 0.02662923876196146\n",
            "Epoch: 32/100 \t Batch: 300/303 \t Loss: 0.02744495728984475\n",
            "Saving model...\n",
            "Epoch: 33/100 \t Batch: 100/303 \t Loss: 0.027167046163231134\n",
            "Epoch: 33/100 \t Batch: 200/303 \t Loss: 0.026975108496844768\n",
            "Epoch: 33/100 \t Batch: 300/303 \t Loss: 0.027026383392512798\n",
            "Saving model...\n",
            "Epoch: 34/100 \t Batch: 100/303 \t Loss: 0.02548903916031122\n",
            "Epoch: 34/100 \t Batch: 200/303 \t Loss: 0.025844626035541295\n",
            "Epoch: 34/100 \t Batch: 300/303 \t Loss: 0.026240537595003843\n",
            "Saving model...\n",
            "Epoch: 35/100 \t Batch: 100/303 \t Loss: 0.025511548109352588\n",
            "Epoch: 35/100 \t Batch: 200/303 \t Loss: 0.025704194139689208\n",
            "Epoch: 35/100 \t Batch: 300/303 \t Loss: 0.024853310920298098\n",
            "Saving model...\n",
            "Epoch: 36/100 \t Batch: 100/303 \t Loss: 0.024272264167666435\n",
            "Epoch: 36/100 \t Batch: 200/303 \t Loss: 0.02378582851961255\n",
            "Epoch: 36/100 \t Batch: 300/303 \t Loss: 0.02437822911888361\n",
            "Saving model...\n",
            "Epoch: 37/100 \t Batch: 100/303 \t Loss: 0.023491184692829847\n",
            "Epoch: 37/100 \t Batch: 200/303 \t Loss: 0.023695902805775403\n",
            "Epoch: 37/100 \t Batch: 300/303 \t Loss: 0.023555337730795146\n",
            "Saving model...\n",
            "Epoch: 38/100 \t Batch: 100/303 \t Loss: 0.02283444572240114\n",
            "Epoch: 38/100 \t Batch: 200/303 \t Loss: 0.02368468139320612\n",
            "Epoch: 38/100 \t Batch: 300/303 \t Loss: 0.023086987994611265\n",
            "Saving model...\n",
            "Epoch: 39/100 \t Batch: 100/303 \t Loss: 0.022753503639250994\n",
            "Epoch: 39/100 \t Batch: 200/303 \t Loss: 0.021684256475418807\n",
            "Epoch: 39/100 \t Batch: 300/303 \t Loss: 0.022283279430121185\n",
            "Saving model...\n",
            "Epoch: 40/100 \t Batch: 100/303 \t Loss: 0.02088748784735799\n",
            "Epoch: 40/100 \t Batch: 200/303 \t Loss: 0.021695496700704097\n",
            "Epoch: 40/100 \t Batch: 300/303 \t Loss: 0.02261172644793987\n",
            "Saving model...\n",
            "Epoch: 41/100 \t Batch: 100/303 \t Loss: 0.02099484419450164\n",
            "Epoch: 41/100 \t Batch: 200/303 \t Loss: 0.020985102746635675\n",
            "Epoch: 41/100 \t Batch: 300/303 \t Loss: 0.021133639477193357\n",
            "Saving model...\n",
            "Epoch: 42/100 \t Batch: 100/303 \t Loss: 0.020011774078011513\n",
            "Epoch: 42/100 \t Batch: 200/303 \t Loss: 0.020196018926799297\n",
            "Epoch: 42/100 \t Batch: 300/303 \t Loss: 0.020703068654984235\n",
            "Saving model...\n",
            "Epoch: 43/100 \t Batch: 100/303 \t Loss: 0.01984494300559163\n",
            "Epoch: 43/100 \t Batch: 200/303 \t Loss: 0.020020270813256504\n",
            "Epoch: 43/100 \t Batch: 300/303 \t Loss: 0.019673320930451155\n",
            "Saving model...\n",
            "Epoch: 44/100 \t Batch: 100/303 \t Loss: 0.019343444239348175\n",
            "Epoch: 44/100 \t Batch: 200/303 \t Loss: 0.019010181073099375\n",
            "Epoch: 44/100 \t Batch: 300/303 \t Loss: 0.01923498949036002\n",
            "Saving model...\n",
            "Epoch: 45/100 \t Batch: 100/303 \t Loss: 0.018480191845446824\n",
            "Epoch: 45/100 \t Batch: 200/303 \t Loss: 0.018627206794917583\n",
            "Epoch: 45/100 \t Batch: 300/303 \t Loss: 0.018886657245457173\n",
            "Saving model...\n",
            "Epoch: 46/100 \t Batch: 100/303 \t Loss: 0.018218497280031443\n",
            "Epoch: 46/100 \t Batch: 200/303 \t Loss: 0.01774736000224948\n",
            "Epoch: 46/100 \t Batch: 300/303 \t Loss: 0.01879448229447007\n",
            "Saving model...\n",
            "Epoch: 47/100 \t Batch: 100/303 \t Loss: 0.01764623373746872\n",
            "Epoch: 47/100 \t Batch: 200/303 \t Loss: 0.017912234552204608\n",
            "Epoch: 47/100 \t Batch: 300/303 \t Loss: 0.01824336391873658\n",
            "Saving model...\n",
            "Epoch: 48/100 \t Batch: 100/303 \t Loss: 0.017221575183793903\n",
            "Epoch: 48/100 \t Batch: 200/303 \t Loss: 0.017439365154132247\n",
            "Epoch: 48/100 \t Batch: 300/303 \t Loss: 0.017607385478913783\n",
            "Saving model...\n",
            "Epoch: 49/100 \t Batch: 100/303 \t Loss: 0.01626464445143938\n",
            "Epoch: 49/100 \t Batch: 200/303 \t Loss: 0.017214838694781066\n",
            "Epoch: 49/100 \t Batch: 300/303 \t Loss: 0.016873298119753598\n",
            "Saving model...\n",
            "Epoch: 50/100 \t Batch: 100/303 \t Loss: 0.016553704906255007\n",
            "Epoch: 50/100 \t Batch: 200/303 \t Loss: 0.01712178676389158\n",
            "Epoch: 50/100 \t Batch: 300/303 \t Loss: 0.01628706599585712\n",
            "Saving model...\n",
            "Epoch: 51/100 \t Batch: 100/303 \t Loss: 0.016141924634575845\n",
            "Epoch: 51/100 \t Batch: 200/303 \t Loss: 0.0163775653578341\n",
            "Epoch: 51/100 \t Batch: 300/303 \t Loss: 0.016546522732824087\n",
            "Saving model...\n",
            "Epoch: 52/100 \t Batch: 100/303 \t Loss: 0.016041530668735503\n",
            "Epoch: 52/100 \t Batch: 200/303 \t Loss: 0.015659542474895715\n",
            "Epoch: 52/100 \t Batch: 300/303 \t Loss: 0.016340336576104165\n",
            "Saving model...\n",
            "Epoch: 53/100 \t Batch: 100/303 \t Loss: 0.015458330512046814\n",
            "Epoch: 53/100 \t Batch: 200/303 \t Loss: 0.015347865084186197\n",
            "Epoch: 53/100 \t Batch: 300/303 \t Loss: 0.015269330143928528\n",
            "Saving model...\n",
            "Epoch: 54/100 \t Batch: 100/303 \t Loss: 0.014539793599396944\n",
            "Epoch: 54/100 \t Batch: 200/303 \t Loss: 0.015171900391578674\n",
            "Epoch: 54/100 \t Batch: 300/303 \t Loss: 0.015200965898111462\n",
            "Saving model...\n",
            "Epoch: 55/100 \t Batch: 100/303 \t Loss: 0.01526209656149149\n",
            "Epoch: 55/100 \t Batch: 200/303 \t Loss: 0.01471349922940135\n",
            "Epoch: 55/100 \t Batch: 300/303 \t Loss: 0.014983413135632872\n",
            "Saving model...\n",
            "Epoch: 56/100 \t Batch: 100/303 \t Loss: 0.014323623524978757\n",
            "Epoch: 56/100 \t Batch: 200/303 \t Loss: 0.014522587787359953\n",
            "Epoch: 56/100 \t Batch: 300/303 \t Loss: 0.014748239098116756\n",
            "Saving model...\n",
            "Epoch: 57/100 \t Batch: 100/303 \t Loss: 0.01408966574817896\n",
            "Epoch: 57/100 \t Batch: 200/303 \t Loss: 0.014425867004320025\n",
            "Epoch: 57/100 \t Batch: 300/303 \t Loss: 0.014524964056909085\n",
            "Saving model...\n",
            "Epoch: 58/100 \t Batch: 100/303 \t Loss: 0.013746948586776853\n",
            "Epoch: 58/100 \t Batch: 200/303 \t Loss: 0.013933485001325607\n",
            "Epoch: 58/100 \t Batch: 300/303 \t Loss: 0.014040629332885145\n",
            "Saving model...\n",
            "Epoch: 59/100 \t Batch: 100/303 \t Loss: 0.013374889409169555\n",
            "Epoch: 59/100 \t Batch: 200/303 \t Loss: 0.013895398704335093\n",
            "Epoch: 59/100 \t Batch: 300/303 \t Loss: 0.01369550167582929\n",
            "Saving model...\n",
            "Epoch: 60/100 \t Batch: 100/303 \t Loss: 0.013131365180015564\n",
            "Epoch: 60/100 \t Batch: 200/303 \t Loss: 0.013351874565705657\n",
            "Epoch: 60/100 \t Batch: 300/303 \t Loss: 0.013387822173535823\n",
            "Saving model...\n",
            "Epoch: 61/100 \t Batch: 100/303 \t Loss: 0.012843078374862671\n",
            "Epoch: 61/100 \t Batch: 200/303 \t Loss: 0.013225137162953616\n",
            "Epoch: 61/100 \t Batch: 300/303 \t Loss: 0.013665609154850244\n",
            "Saving model...\n",
            "Epoch: 62/100 \t Batch: 100/303 \t Loss: 0.01290039336308837\n",
            "Epoch: 62/100 \t Batch: 200/303 \t Loss: 0.012915870686993004\n",
            "Epoch: 62/100 \t Batch: 300/303 \t Loss: 0.013102638442069292\n",
            "Saving model...\n",
            "Epoch: 63/100 \t Batch: 100/303 \t Loss: 0.013015990331768989\n",
            "Epoch: 63/100 \t Batch: 200/303 \t Loss: 0.012875486025586724\n",
            "Epoch: 63/100 \t Batch: 300/303 \t Loss: 0.012898822408169508\n",
            "Saving model...\n",
            "Epoch: 64/100 \t Batch: 100/303 \t Loss: 0.012467547040432691\n",
            "Epoch: 64/100 \t Batch: 200/303 \t Loss: 0.012575322249904274\n",
            "Epoch: 64/100 \t Batch: 300/303 \t Loss: 0.012826341716572643\n",
            "Saving model...\n",
            "Epoch: 65/100 \t Batch: 100/303 \t Loss: 0.01207863660529256\n",
            "Epoch: 65/100 \t Batch: 200/303 \t Loss: 0.012298155389726163\n",
            "Epoch: 65/100 \t Batch: 300/303 \t Loss: 0.012360467761754989\n",
            "Saving model...\n",
            "Epoch: 66/100 \t Batch: 100/303 \t Loss: 0.011760614300146698\n",
            "Epoch: 66/100 \t Batch: 200/303 \t Loss: 0.01239662654697895\n",
            "Epoch: 66/100 \t Batch: 300/303 \t Loss: 0.011558398930355906\n",
            "Saving model...\n",
            "Epoch: 67/100 \t Batch: 100/303 \t Loss: 0.011719590611755848\n",
            "Epoch: 67/100 \t Batch: 200/303 \t Loss: 0.011591957416385412\n",
            "Epoch: 67/100 \t Batch: 300/303 \t Loss: 0.011741816438734532\n",
            "Saving model...\n",
            "Epoch: 68/100 \t Batch: 100/303 \t Loss: 0.011326569924131035\n",
            "Epoch: 68/100 \t Batch: 200/303 \t Loss: 0.011211623018607498\n",
            "Epoch: 68/100 \t Batch: 300/303 \t Loss: 0.011725755082443357\n",
            "Saving model...\n",
            "Epoch: 69/100 \t Batch: 100/303 \t Loss: 0.011240903288125992\n",
            "Epoch: 69/100 \t Batch: 200/303 \t Loss: 0.011428497545421124\n",
            "Epoch: 69/100 \t Batch: 300/303 \t Loss: 0.011039278144016862\n",
            "Saving model...\n",
            "Epoch: 70/100 \t Batch: 100/303 \t Loss: 0.011065876157954336\n",
            "Epoch: 70/100 \t Batch: 200/303 \t Loss: 0.011081689596176147\n",
            "Epoch: 70/100 \t Batch: 300/303 \t Loss: 0.010880381939932704\n",
            "Saving model...\n",
            "Epoch: 71/100 \t Batch: 100/303 \t Loss: 0.010664593847468495\n",
            "Epoch: 71/100 \t Batch: 200/303 \t Loss: 0.010892934165894985\n",
            "Epoch: 71/100 \t Batch: 300/303 \t Loss: 0.011116455914452672\n",
            "Saving model...\n",
            "Epoch: 72/100 \t Batch: 100/303 \t Loss: 0.010464721033349634\n",
            "Epoch: 72/100 \t Batch: 200/303 \t Loss: 0.010697245970368386\n",
            "Epoch: 72/100 \t Batch: 300/303 \t Loss: 0.01064945813268423\n",
            "Saving model...\n",
            "Epoch: 73/100 \t Batch: 100/303 \t Loss: 0.01047725835815072\n",
            "Epoch: 73/100 \t Batch: 200/303 \t Loss: 0.010559457773342728\n",
            "Epoch: 73/100 \t Batch: 300/303 \t Loss: 0.010751413181424141\n",
            "Saving model...\n",
            "Epoch: 74/100 \t Batch: 100/303 \t Loss: 0.010375825827941299\n",
            "Epoch: 74/100 \t Batch: 200/303 \t Loss: 0.010390586964786053\n",
            "Epoch: 74/100 \t Batch: 300/303 \t Loss: 0.010439199348911642\n",
            "Saving model...\n",
            "Epoch: 75/100 \t Batch: 100/303 \t Loss: 0.010106981871649623\n",
            "Epoch: 75/100 \t Batch: 200/303 \t Loss: 0.010326316161081196\n",
            "Epoch: 75/100 \t Batch: 300/303 \t Loss: 0.010229315841570497\n",
            "Saving model...\n",
            "Epoch: 76/100 \t Batch: 100/303 \t Loss: 0.010284252651035785\n",
            "Epoch: 76/100 \t Batch: 200/303 \t Loss: 0.010344778839498758\n",
            "Epoch: 76/100 \t Batch: 300/303 \t Loss: 0.010193730052560569\n",
            "Saving model...\n",
            "Epoch: 77/100 \t Batch: 100/303 \t Loss: 0.009800629504024983\n",
            "Epoch: 77/100 \t Batch: 200/303 \t Loss: 0.009509577322751284\n",
            "Epoch: 77/100 \t Batch: 300/303 \t Loss: 0.010215811524540186\n",
            "Saving model...\n",
            "Epoch: 78/100 \t Batch: 100/303 \t Loss: 0.009701149957254528\n",
            "Epoch: 78/100 \t Batch: 200/303 \t Loss: 0.009574027126654982\n",
            "Epoch: 78/100 \t Batch: 300/303 \t Loss: 0.009694558707997203\n",
            "Saving model...\n",
            "Epoch: 79/100 \t Batch: 100/303 \t Loss: 0.009805608587339521\n",
            "Epoch: 79/100 \t Batch: 200/303 \t Loss: 0.009612241573631764\n",
            "Epoch: 79/100 \t Batch: 300/303 \t Loss: 0.009257773868739605\n",
            "Saving model...\n",
            "Epoch: 80/100 \t Batch: 100/303 \t Loss: 0.009229640918783843\n",
            "Epoch: 80/100 \t Batch: 200/303 \t Loss: 0.009464916167780757\n",
            "Epoch: 80/100 \t Batch: 300/303 \t Loss: 0.00958680217154324\n",
            "Saving model...\n",
            "Epoch: 81/100 \t Batch: 100/303 \t Loss: 0.009198745386675\n",
            "Epoch: 81/100 \t Batch: 200/303 \t Loss: 0.0092125216498971\n",
            "Epoch: 81/100 \t Batch: 300/303 \t Loss: 0.009370981995016337\n",
            "Saving model...\n",
            "Epoch: 82/100 \t Batch: 100/303 \t Loss: 0.009178962698206306\n",
            "Epoch: 82/100 \t Batch: 200/303 \t Loss: 0.009402266889810561\n",
            "Epoch: 82/100 \t Batch: 300/303 \t Loss: 0.00910154210869223\n",
            "Saving model...\n",
            "Epoch: 83/100 \t Batch: 100/303 \t Loss: 0.00889903218485415\n",
            "Epoch: 83/100 \t Batch: 200/303 \t Loss: 0.009003005595877767\n",
            "Epoch: 83/100 \t Batch: 300/303 \t Loss: 0.009161424241028726\n",
            "Saving model...\n",
            "Epoch: 84/100 \t Batch: 100/303 \t Loss: 0.008736647898331285\n",
            "Epoch: 84/100 \t Batch: 200/303 \t Loss: 0.009094578446820378\n",
            "Epoch: 84/100 \t Batch: 300/303 \t Loss: 0.009061087016016245\n",
            "Saving model...\n",
            "Epoch: 85/100 \t Batch: 100/303 \t Loss: 0.008825583290308714\n",
            "Epoch: 85/100 \t Batch: 200/303 \t Loss: 0.008741551358252764\n",
            "Epoch: 85/100 \t Batch: 300/303 \t Loss: 0.008754252921789885\n",
            "Saving model...\n",
            "Epoch: 86/100 \t Batch: 100/303 \t Loss: 0.008513223985210061\n",
            "Epoch: 86/100 \t Batch: 200/303 \t Loss: 0.008436663635075092\n",
            "Epoch: 86/100 \t Batch: 300/303 \t Loss: 0.008529150718823075\n",
            "Saving model...\n",
            "Epoch: 87/100 \t Batch: 100/303 \t Loss: 0.008625682024285198\n",
            "Epoch: 87/100 \t Batch: 200/303 \t Loss: 0.008480574213899672\n",
            "Epoch: 87/100 \t Batch: 300/303 \t Loss: 0.00875311130657792\n",
            "Saving model...\n",
            "Epoch: 88/100 \t Batch: 100/303 \t Loss: 0.008308278233744203\n",
            "Epoch: 88/100 \t Batch: 200/303 \t Loss: 0.008445980516262353\n",
            "Epoch: 88/100 \t Batch: 300/303 \t Loss: 0.008453748072497547\n",
            "Saving model...\n",
            "Epoch: 89/100 \t Batch: 100/303 \t Loss: 0.00829438038635999\n",
            "Epoch: 89/100 \t Batch: 200/303 \t Loss: 0.008411201019771396\n",
            "Epoch: 89/100 \t Batch: 300/303 \t Loss: 0.008209961280226708\n",
            "Saving model...\n",
            "Epoch: 90/100 \t Batch: 100/303 \t Loss: 0.008287522871978582\n",
            "Epoch: 90/100 \t Batch: 200/303 \t Loss: 0.0081093241693452\n",
            "Epoch: 90/100 \t Batch: 300/303 \t Loss: 0.008095895778387785\n",
            "Saving model...\n",
            "Epoch: 91/100 \t Batch: 100/303 \t Loss: 0.007929772138595581\n",
            "Epoch: 91/100 \t Batch: 200/303 \t Loss: 0.007897670171223581\n",
            "Epoch: 91/100 \t Batch: 300/303 \t Loss: 0.008083545812405646\n",
            "Saving model...\n",
            "Epoch: 92/100 \t Batch: 100/303 \t Loss: 0.007785186264663934\n",
            "Epoch: 92/100 \t Batch: 200/303 \t Loss: 0.007867907965555787\n",
            "Epoch: 92/100 \t Batch: 300/303 \t Loss: 0.007899402012117206\n",
            "Saving model...\n",
            "Epoch: 93/100 \t Batch: 100/303 \t Loss: 0.007797237229533493\n",
            "Epoch: 93/100 \t Batch: 200/303 \t Loss: 0.007739243702962995\n",
            "Epoch: 93/100 \t Batch: 300/303 \t Loss: 0.007893410418182612\n",
            "Saving model...\n",
            "Epoch: 94/100 \t Batch: 100/303 \t Loss: 0.007945175422355533\n",
            "Epoch: 94/100 \t Batch: 200/303 \t Loss: 0.007564324839040637\n",
            "Epoch: 94/100 \t Batch: 300/303 \t Loss: 0.007815383281558752\n",
            "Saving model...\n",
            "Epoch: 95/100 \t Batch: 100/303 \t Loss: 0.007736579398624599\n",
            "Epoch: 95/100 \t Batch: 200/303 \t Loss: 0.007482450315728783\n",
            "Epoch: 95/100 \t Batch: 300/303 \t Loss: 0.007863320759497583\n",
            "Saving model...\n",
            "Epoch: 96/100 \t Batch: 100/303 \t Loss: 0.007334335776977241\n",
            "Epoch: 96/100 \t Batch: 200/303 \t Loss: 0.007752589415758848\n",
            "Epoch: 96/100 \t Batch: 300/303 \t Loss: 0.007651543547399342\n",
            "Saving model...\n",
            "Epoch: 97/100 \t Batch: 100/303 \t Loss: 0.0072434783913195135\n",
            "Epoch: 97/100 \t Batch: 200/303 \t Loss: 0.007307247072458267\n",
            "Epoch: 97/100 \t Batch: 300/303 \t Loss: 0.007217741338536143\n",
            "Saving model...\n",
            "Epoch: 98/100 \t Batch: 100/303 \t Loss: 0.007081330800428986\n",
            "Epoch: 98/100 \t Batch: 200/303 \t Loss: 0.007436960865743458\n",
            "Epoch: 98/100 \t Batch: 300/303 \t Loss: 0.007513354090042413\n",
            "Saving model...\n",
            "Epoch: 99/100 \t Batch: 100/303 \t Loss: 0.006884287274442613\n",
            "Epoch: 99/100 \t Batch: 200/303 \t Loss: 0.007428892725147307\n",
            "Epoch: 99/100 \t Batch: 300/303 \t Loss: 0.007478372659534216\n",
            "Saving model...\n",
            "Epoch: 100/100 \t Batch: 100/303 \t Loss: 0.007044164976105094\n",
            "Epoch: 100/100 \t Batch: 200/303 \t Loss: 0.00724329799413681\n",
            "Epoch: 100/100 \t Batch: 300/303 \t Loss: 0.007071627816185355\n",
            "Saving model...\n"
          ],
          "name": "stdout"
        }
      ]
    },
    {
      "cell_type": "code",
      "metadata": {
        "id": "6jBPztfDXmPT",
        "colab": {
          "base_uri": "https://localhost:8080/"
        },
        "outputId": "7eac1ac0-7fec-40fd-f9d2-ab1b4b292945"
      },
      "source": [
        "!pwd"
      ],
      "execution_count": null,
      "outputs": [
        {
          "output_type": "stream",
          "text": [
            "/content/drive/My Drive/ENDProgram/Session14/Embedding_Model\n"
          ],
          "name": "stdout"
        }
      ]
    },
    {
      "cell_type": "code",
      "metadata": {
        "id": "ACJojvtkeOpJ",
        "colab": {
          "base_uri": "https://localhost:8080/",
          "height": 35
        },
        "outputId": "a8178089-ffeb-4e20-a4f5-a9478ebffa19"
      },
      "source": [
        "dataset._id2word[1000]"
      ],
      "execution_count": null,
      "outputs": [
        {
          "output_type": "execute_result",
          "data": {
            "application/vnd.google.colaboratory.intrinsic+json": {
              "type": "string"
            },
            "text/plain": [
              "'depth'"
            ]
          },
          "metadata": {
            "tags": []
          },
          "execution_count": 15
        }
      ]
    },
    {
      "cell_type": "code",
      "metadata": {
        "id": "iLfgwRONeafb"
      },
      "source": [
        "emb_i = glove.wi.weight.cpu().data.numpy()\n",
        "emb_j = glove.wj.weight.cpu().data.numpy()\n",
        "emb = np.add(emb_i,emb_j)"
      ],
      "execution_count": null,
      "outputs": []
    },
    {
      "cell_type": "code",
      "metadata": {
        "id": "BvfQKAUwABga",
        "colab": {
          "base_uri": "https://localhost:8080/"
        },
        "outputId": "032420cd-4890-42de-e136-10ae54f61a90"
      },
      "source": [
        "len(dataset._id2word)"
      ],
      "execution_count": null,
      "outputs": [
        {
          "output_type": "execute_result",
          "data": {
            "text/plain": [
              "17599"
            ]
          },
          "metadata": {
            "tags": []
          },
          "execution_count": 17
        }
      ]
    },
    {
      "cell_type": "code",
      "metadata": {
        "colab": {
          "base_uri": "https://localhost:8080/"
        },
        "id": "TUQwrA-X30m_",
        "outputId": "c5989280-0edf-4645-f4f7-2999ee4ff6a4"
      },
      "source": [
        "emb.shape"
      ],
      "execution_count": null,
      "outputs": [
        {
          "output_type": "execute_result",
          "data": {
            "text/plain": [
              "(17599, 256)"
            ]
          },
          "metadata": {
            "tags": []
          },
          "execution_count": 18
        }
      ]
    },
    {
      "cell_type": "code",
      "metadata": {
        "id": "5hV7TTZyBhoI",
        "colab": {
          "base_uri": "https://localhost:8080/"
        },
        "outputId": "88a7f739-c53b-48a0-b950-67709e6ff549"
      },
      "source": [
        "emb[2]"
      ],
      "execution_count": null,
      "outputs": [
        {
          "output_type": "execute_result",
          "data": {
            "text/plain": [
              "array([-2.7840906e-01,  1.1586275e+00,  3.6380088e-01, -2.4129719e-02,\n",
              "       -8.2206869e-01, -3.6133245e-01, -3.1689304e-01, -7.1929276e-02,\n",
              "        8.2628809e-02, -4.3578264e-01,  1.2710667e-01,  8.3547020e-01,\n",
              "       -4.2809010e-02, -1.0710127e+00, -1.0164690e-01,  5.1881075e-03,\n",
              "       -2.6639052e-02,  4.3136126e-01, -3.1934708e-02,  4.9636817e-01,\n",
              "       -2.1117288e-01,  6.7260742e-01,  9.9414155e-02,  1.1164223e-02,\n",
              "       -7.2322500e-01,  2.1870229e-01,  4.1612333e-01,  6.7049362e-02,\n",
              "        7.5142086e-04,  1.2083288e-01, -3.4314260e-01, -2.9849026e-01,\n",
              "       -9.0127319e-01,  7.1684551e-01, -1.3437860e-01,  4.7781590e-01,\n",
              "       -1.3991559e-01, -6.2089300e-01, -3.8127646e-01, -1.0011928e+00,\n",
              "       -5.2145422e-01, -1.1609532e-01, -6.6471690e-01,  5.3360206e-01,\n",
              "       -9.7043985e-01, -8.0274034e-01,  7.4322343e-01, -1.0835588e+00,\n",
              "        7.0034873e-01,  5.2684277e-02, -6.5017104e-02,  2.6893944e-02,\n",
              "       -5.7170361e-02, -2.0860894e-01,  5.5884582e-01,  4.2519772e-01,\n",
              "        5.7285643e-01,  3.0281526e-01, -3.6759144e-01, -5.1655567e-01,\n",
              "       -9.0215139e-02, -6.5703547e-01,  4.9395034e-01,  2.6717731e-01,\n",
              "        3.6534432e-01, -4.3134964e-01, -5.9410669e-02,  6.3084793e-01,\n",
              "       -4.4575460e-02, -6.2770736e-01, -4.4673696e-01,  7.6077968e-01,\n",
              "       -4.9240893e-01,  5.2957910e-01, -4.0045646e-01,  3.2147756e-01,\n",
              "        7.2618675e-01, -6.6621596e-01,  9.8031387e-03, -4.2043358e-01,\n",
              "       -1.4618823e-01,  2.1440756e-01, -3.1505045e-01, -7.8161955e-01,\n",
              "       -5.6543902e-02,  4.2066872e-01,  2.9267123e-01,  2.6527196e-01,\n",
              "       -6.8370295e-01,  1.3888422e-01,  2.6710355e-01, -6.6459447e-01,\n",
              "       -1.1731687e+00,  5.3108621e-01, -1.9646978e-01,  6.4860928e-01,\n",
              "       -1.9652393e-01,  7.0407265e-01,  5.3764507e-02,  6.9044423e-01,\n",
              "        3.3130506e-01, -1.7217253e-01,  8.8312715e-02,  4.2912275e-01,\n",
              "       -2.4799883e-01,  2.2389071e-01, -6.4754176e-01,  3.4333092e-01,\n",
              "       -2.9860616e-02, -4.1923904e-01, -1.3885099e-01,  3.4340417e-01,\n",
              "       -6.4914119e-01, -2.8988180e-01, -8.5483325e-01, -3.7776655e-01,\n",
              "       -3.3807135e-01,  4.9605507e-01, -4.5991755e-01, -6.5457785e-01,\n",
              "       -5.9537268e-01, -2.6090193e-01, -2.9649073e-01,  3.6383310e-01,\n",
              "        2.1449436e-01,  6.7669973e-02,  6.5619290e-01,  3.8568002e-01,\n",
              "        7.1844929e-01, -1.9261752e-01,  3.1520355e-01,  1.7992768e-01,\n",
              "        7.0926213e-01, -6.0083950e-01, -1.1042602e-01,  2.7865106e-01,\n",
              "        6.1996549e-01,  3.0835450e-01, -2.9165351e-01,  1.5454540e-01,\n",
              "       -2.0058218e-02,  6.2167645e-01, -7.4655426e-01, -8.1093335e-01,\n",
              "       -4.7154337e-02,  5.1068020e-01,  3.9519912e-01, -5.1442951e-02,\n",
              "        1.5009463e-02,  1.0142643e+00, -6.9842651e-02, -8.1538308e-01,\n",
              "       -6.1215675e-01, -9.1835928e-01, -5.6234050e-01,  2.3238957e-01,\n",
              "        6.6757008e-02,  4.9655020e-01,  1.8931657e-01,  1.0054331e+00,\n",
              "       -1.4215186e-01,  4.6151546e-01,  2.3971775e-01, -4.3993130e-02,\n",
              "       -5.6748360e-02, -4.6999645e-01, -5.0514096e-01, -3.4691387e-01,\n",
              "        7.4672049e-01,  4.4998610e-01,  5.7095003e-01,  1.2764826e-01,\n",
              "       -9.6120596e-01, -4.8685163e-01,  6.5356815e-01,  2.7934611e-03,\n",
              "       -3.2239252e-01, -3.1895027e-01,  3.3427095e-01,  6.9371104e-01,\n",
              "        5.7801205e-01,  9.2362195e-02,  1.9569978e-01, -3.1600079e-01,\n",
              "        3.1265736e-02, -3.6091048e-01,  2.5219566e-01,  8.8597614e-01,\n",
              "       -1.3357232e+00, -2.1115467e-03, -3.5689855e-01, -2.3869234e-01,\n",
              "       -5.8044225e-01,  5.8192652e-01,  2.7266979e-01,  1.0600868e+00,\n",
              "        3.8210350e-01, -2.8819564e-01,  1.8042207e-02,  1.1560466e+00,\n",
              "       -1.3698740e-01,  1.1926231e-01, -5.7800663e-01, -2.1515556e-01,\n",
              "        2.4749085e-01, -5.5372047e-01,  4.2490259e-01, -1.4610648e+00,\n",
              "       -3.4792677e-01,  2.1203372e-01,  2.7297914e-01,  4.2241085e-01,\n",
              "        3.1477892e-01, -1.2582582e-01,  4.9551004e-01, -6.1891878e-01,\n",
              "       -1.9764231e-01,  2.6770315e-01,  4.3865788e-01, -9.8315954e-02,\n",
              "        3.5061195e-01, -3.3039576e-01, -1.2278929e-03,  1.8399820e-01,\n",
              "       -7.8864443e-01, -4.4442129e-01,  9.1372088e-02, -6.1902928e-01,\n",
              "       -4.5326102e-01, -7.1115144e-02,  3.7399510e-01,  1.7112496e-01,\n",
              "       -9.7333252e-01, -1.7124516e-01, -2.1204624e-01, -5.7599276e-02,\n",
              "       -1.3982144e-01, -7.9767376e-02,  1.2795854e+00,  3.1097931e-01,\n",
              "       -1.0086577e-01, -1.4344372e-01,  1.1366835e-01,  1.3124265e-02,\n",
              "       -4.7045225e-01, -1.6002509e-01, -3.4605658e-01, -1.0752666e-01,\n",
              "        4.3477023e-01, -7.7937484e-01,  4.9316511e-01, -1.4580178e-01,\n",
              "       -3.7758580e-01,  9.2467368e-03, -5.2321494e-01,  2.5042057e-01],\n",
              "      dtype=float32)"
            ]
          },
          "metadata": {
            "tags": []
          },
          "execution_count": 19
        }
      ]
    },
    {
      "cell_type": "code",
      "metadata": {
        "id": "sNvzj_ma-2Wz"
      },
      "source": [
        "#emb[]\n",
        "with open('custom_embeddings.txt', 'w+') as f:\n",
        "    for idx in range(len(dataset._id2word)):\n",
        "        vector_str = ' '.join([str(v) for v in emb[idx]])\n",
        "        word = dataset._id2word[idx]\n",
        "        #print(f'{word} {vector_str}\\n')\n",
        "        f.write(f'{word} {vector_str}\\n')\n",
        "\n",
        "        "
      ],
      "execution_count": null,
      "outputs": []
    },
    {
      "cell_type": "code",
      "metadata": {
        "id": "gaWm71iC-UtI"
      },
      "source": [
        "with open('custom_embeddings.txt', 'w+') as f:\n",
        "    for token, vector in cust_embedding.items():\n",
        "        vector_str = ' '.join([str(v) for v in vector])\n",
        "        f.write(f'{token} {vector_str}\\n')"
      ],
      "execution_count": null,
      "outputs": []
    },
    {
      "cell_type": "code",
      "metadata": {
        "id": "idu0LZVGeezA"
      },
      "source": [
        "emb[1,]"
      ],
      "execution_count": null,
      "outputs": []
    },
    {
      "cell_type": "code",
      "metadata": {
        "id": "47DdyJNI78hN"
      },
      "source": [
        ""
      ],
      "execution_count": null,
      "outputs": []
    },
    {
      "cell_type": "code",
      "metadata": {
        "id": "T3yZchcMXNQr"
      },
      "source": [
        "import spacy\n",
        "nlp = spacy.load(PyGlovemodel)\n",
        "#glove_model = api.load('PyGlovemodel')"
      ],
      "execution_count": null,
      "outputs": []
    },
    {
      "cell_type": "code",
      "metadata": {
        "id": "FkeSYXmidMsd"
      },
      "source": [
        "glove_file = datapath('test_glove.txt')\n",
        "tmp_file = get_tmpfile(\"test_word2vec.txt\")"
      ],
      "execution_count": null,
      "outputs": []
    },
    {
      "cell_type": "code",
      "metadata": {
        "id": "FXzPniNlZh1L"
      },
      "source": [
        "from gensim.test.utils import common_texts, get_tmpfile\n",
        "from gensim.models import Word2Vec"
      ],
      "execution_count": null,
      "outputs": []
    },
    {
      "cell_type": "code",
      "metadata": {
        "id": "tFy0ZZbjZlZp"
      },
      "source": [
        "model = Word2Vec(common_texts, size=100, window=5, min_count=1, workers=4)\n",
        "model.wv.save_word2vec_format(\"/content/drive/MyDrive/ENDProgram/Session14/EmbeddingFile/Session14_Embedding.pt\")"
      ],
      "execution_count": null,
      "outputs": []
    },
    {
      "cell_type": "code",
      "metadata": {
        "id": "sAmAGef6Z8ts"
      },
      "source": [
        "!gzip /content/drive/MyDrive/ENDProgram/Session14/EmbeddingFile/Session14_Embedding.pt"
      ],
      "execution_count": null,
      "outputs": []
    },
    {
      "cell_type": "code",
      "metadata": {
        "id": "sCTrnmgpaJZG"
      },
      "source": [
        "!python -m spacy init-model en '/content/drive/MyDrive/ENDProgram/Session14/Embedding_Model/word2vec_py.model' --vectors-loc '/content/drive/MyDrive/ENDProgram/Session14/EmbeddingFile/Session14_Embedding.pt.gz'"
      ],
      "execution_count": null,
      "outputs": []
    },
    {
      "cell_type": "code",
      "metadata": {
        "id": "GnZ8CyEWjlJO"
      },
      "source": [
        "plt.plot(loss_values)"
      ],
      "execution_count": null,
      "outputs": []
    },
    {
      "cell_type": "markdown",
      "metadata": {
        "id": "fWDJJhSHji9t"
      },
      "source": [
        "Here we sum over the two embedding matrices (as per recommendation of the original paper) to improve results. We then plot the TSNE space of the top 300 words to validate our word embeddings."
      ]
    },
    {
      "cell_type": "code",
      "metadata": {
        "id": "HeL4soQF97Ne"
      },
      "source": [
        "emb_i = glove.wi.weight.cpu().data.numpy()\n",
        "emb_j = glove.wj.weight.cpu().data.numpy()\n",
        "npaddemb = np.add(emb_i, emb_j)"
      ],
      "execution_count": null,
      "outputs": []
    },
    {
      "cell_type": "code",
      "metadata": {
        "id": "dEaOmtdkCU8w"
      },
      "source": [
        "npaddemb[:2]"
      ],
      "execution_count": null,
      "outputs": []
    },
    {
      "cell_type": "code",
      "metadata": {
        "id": "011OFYQNjnKm",
        "colab": {
          "base_uri": "https://localhost:8080/",
          "height": 826
        },
        "outputId": "ddbbf89c-4123-4ef5-a467-dd81ca127cd8"
      },
      "source": [
        "emb_i = glove.wi.weight.cpu().data.numpy()\n",
        "emb_j = glove.wj.weight.cpu().data.numpy()\n",
        "emb = np.add(emb_i, emb_j)\n",
        "print(emb.shape)\n",
        "top_k = 300\n",
        "tsne = TSNE(metric='cosine', random_state=123)\n",
        "embed_tsne = tsne.fit_transform(emb[:top_k, :])\n",
        "fig, ax = plt.subplots(figsize=(14, 14))\n",
        "for idx in range(top_k):\n",
        "    plt.scatter(*embed_tsne[idx, :], color='steelblue')\n",
        "    plt.annotate(dataset._id2word[idx], (embed_tsne[idx, 0], embed_tsne[idx, 1]), alpha=0.7)\n"
      ],
      "execution_count": null,
      "outputs": [
        {
          "output_type": "stream",
          "text": [
            "(17599, 300)\n"
          ],
          "name": "stdout"
        },
        {
          "output_type": "display_data",
          "data": {
            "image/png": "[encoded data removed]",
            "text/plain": [
              "<Figure size 1008x1008 with 1 Axes>"
            ]
          },
          "metadata": {
            "tags": [],
            "needs_background": "light"
          }
        }
      ]
    },
    {
      "cell_type": "markdown",
      "metadata": {
        "id": "kUBrBjbwjs02"
      },
      "source": [
        "Checking the words that are close, we can say that our model performs pretty good! We can check that it clusters the direction words north, south, west, east and even central. It also clusters together words with their plural form like system/systems and language/languages."
      ]
    }
  ]
}