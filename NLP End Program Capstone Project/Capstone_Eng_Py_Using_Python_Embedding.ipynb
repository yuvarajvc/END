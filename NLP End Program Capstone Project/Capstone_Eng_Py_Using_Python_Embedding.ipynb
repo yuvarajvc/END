{
  "nbformat": 4,
  "nbformat_minor": 0,
  "metadata": {
    "colab": {
      "name": "Capstone Eng Py Using Python Embedding.ipynb",
      "provenance": [],
      "collapsed_sections": []
    },
    "kernelspec": {
      "display_name": "Python 3",
      "name": "python3"
    },
    "accelerator": "GPU"
  },
  "cells": [
    {
      "cell_type": "markdown",
      "metadata": {
        "id": "Yuh5BPAtButa"
      },
      "source": [
        "![](https://raw.githubusercontent.com/bentrevett/pytorch-seq2seq/9479fcb532214ad26fd4bda9fcf081a05e1aaf4e/assets/transformer1.png)"
      ]
    },
    {
      "cell_type": "code",
      "metadata": {
        "id": "HLiho8WefIsw",
        "colab": {
          "base_uri": "https://localhost:8080/"
        },
        "outputId": "52e50cc7-b89e-489d-a843-b2c338cb6b69"
      },
      "source": [
        "from google.colab import drive\n",
        "drive.mount('/content/drive')"
      ],
      "execution_count": 1,
      "outputs": [
        {
          "output_type": "stream",
          "text": [
            "Mounted at /content/drive\n"
          ],
          "name": "stdout"
        }
      ]
    },
    {
      "cell_type": "code",
      "metadata": {
        "colab": {
          "base_uri": "https://localhost:8080/"
        },
        "id": "53dGhTXC9-oI",
        "outputId": "a257827e-45c7-4324-bf00-a4e9a9fbf67b"
      },
      "source": [
        "cd /content/drive/MyDrive/ENDProgram/Session14/Embedding_Model/"
      ],
      "execution_count": 2,
      "outputs": [
        {
          "output_type": "stream",
          "text": [
            "/content/drive/MyDrive/ENDProgram/Session14/Embedding_Model\n"
          ],
          "name": "stdout"
        }
      ]
    },
    {
      "cell_type": "code",
      "metadata": {
        "colab": {
          "base_uri": "https://localhost:8080/"
        },
        "id": "KEtOO2U60eqC",
        "outputId": "a0dd2d64-d443-4aad-84a6-b374d0d7ea9e"
      },
      "source": [
        "!ls"
      ],
      "execution_count": null,
      "outputs": [
        {
          "output_type": "stream",
          "text": [
            "checkpoint.pth\t       GlovepyModel.model.model    word2vec_py.model\n",
            "custom_embeddings.txt  Session14_Embedding_100.pt\n",
            "GlovepyModel.model     Session14_Embedding.pt\n"
          ],
          "name": "stdout"
        }
      ]
    },
    {
      "cell_type": "code",
      "metadata": {
        "id": "kneZklmX-Grz",
        "colab": {
          "base_uri": "https://localhost:8080/"
        },
        "outputId": "4c3e7ef8-877e-40ca-d34c-98caf445200a"
      },
      "source": [
        "import torchtext.vocab as vocab\n",
        "custom_embeddings = vocab.Vectors(name = 'custom_embeddings.txt',max_vectors=256)\n",
        "print(custom_embeddings['def'])"
      ],
      "execution_count": 3,
      "outputs": [
        {
          "output_type": "stream",
          "text": [
            "tensor([-5.2362e-02,  7.8206e-01,  7.1496e-01, -9.8432e-01,  6.4427e-02,\n",
            "        -5.3539e-01,  3.1381e-01, -8.6770e-02, -4.0705e-01, -7.9263e-02,\n",
            "        -2.5399e-01,  3.9117e-01, -6.4193e-01,  2.5034e-01,  9.4006e-01,\n",
            "        -2.1077e-01,  3.4258e-01,  8.3504e-01,  4.0888e-02, -2.0412e-02,\n",
            "        -1.2502e-01,  8.4559e-01, -2.4167e-01,  6.1693e-01, -2.2515e-01,\n",
            "         1.5271e-02,  1.3104e-01, -2.2455e-01,  2.9018e-01,  1.7545e-01,\n",
            "         4.2658e-02, -4.1541e-02, -5.0558e-01,  3.2415e-01, -4.9327e-01,\n",
            "         1.1162e-01,  4.9193e-02,  4.2233e-01, -9.6319e-01, -8.4217e-01,\n",
            "        -3.2287e-01,  8.3046e-01,  1.0168e+00,  4.8940e-01, -9.3517e-01,\n",
            "        -3.1756e-01,  8.1356e-01, -9.0556e-01,  6.2988e-01, -3.2427e-01,\n",
            "        -5.1516e-01, -1.5037e-01, -6.3381e-02, -2.2128e-01,  8.7291e-01,\n",
            "         5.3517e-01, -1.9069e-01,  1.8353e-01, -1.0437e+00,  1.4766e-02,\n",
            "        -6.4516e-01,  7.0431e-01,  7.4278e-01, -5.5783e-02, -1.0064e-01,\n",
            "        -4.9490e-01, -9.4016e-01,  1.5503e-01,  1.3791e-01,  1.1178e-02,\n",
            "        -7.0684e-01,  2.9916e-01, -8.5587e-01,  2.1003e-01,  6.4352e-01,\n",
            "        -2.5571e-01,  7.6196e-02, -9.0473e-01, -1.1748e-01, -2.8317e-01,\n",
            "        -9.4007e-01, -6.7819e-01, -1.5425e-01,  2.5879e-01, -9.4593e-03,\n",
            "        -1.8735e-01,  3.5363e-01, -1.3095e-02, -1.8115e-01, -8.7378e-02,\n",
            "         1.5140e-01, -4.2511e-01, -8.7747e-01, -4.6749e-02, -3.4694e-01,\n",
            "         7.3201e-01, -5.5584e-01, -7.7601e-01,  2.3699e-01,  6.0448e-01,\n",
            "        -6.1600e-01,  1.8999e-02, -5.9878e-01,  5.9783e-01,  1.4651e-01,\n",
            "        -1.1142e-01, -9.3699e-02,  5.7920e-01, -3.9325e-01, -6.1199e-01,\n",
            "         4.7356e-01,  5.6821e-01,  2.6831e-01,  3.4418e-01,  2.0269e-01,\n",
            "        -4.0552e-01, -7.8208e-01,  9.2882e-01,  3.6691e-01,  3.6398e-01,\n",
            "        -1.9252e-01,  3.6119e-02,  5.8871e-01,  2.7385e-01, -5.3336e-01,\n",
            "         3.2670e-01, -8.9181e-03,  1.8262e-01, -1.3761e-01,  2.9326e-01,\n",
            "        -1.1126e-01, -6.2738e-01,  3.7528e-01, -1.0086e+00,  2.1604e-01,\n",
            "        -2.6890e-01,  3.9319e-02,  1.8877e-01, -5.7796e-01,  6.3496e-01,\n",
            "        -6.7352e-01, -1.0657e-01, -8.6803e-01,  4.4400e-01, -2.8423e-01,\n",
            "         4.0657e-01, -1.8412e-01,  2.9287e-01, -1.0203e-01,  4.8524e-01,\n",
            "        -5.1553e-01, -7.7628e-01,  7.6061e-02, -5.0560e-02, -8.4906e-02,\n",
            "        -3.0049e-01,  6.4698e-01, -1.0398e-03, -7.3378e-01,  1.6427e-01,\n",
            "        -9.2420e-01,  1.1133e+00,  1.0054e+00,  4.9941e-01,  3.6559e-01,\n",
            "        -1.4300e-01,  2.4064e-01, -1.8406e-01,  6.7362e-01,  2.1496e-01,\n",
            "        -4.8246e-01, -6.4473e-01, -4.1057e-01,  2.4963e-01,  1.0008e+00,\n",
            "         3.1071e-01,  6.9761e-03, -1.8947e-01,  3.8577e-02,  1.2010e+00,\n",
            "         3.1596e-01, -8.2906e-01,  7.6095e-01, -1.8821e-01,  3.8332e-01,\n",
            "         2.2816e-01, -1.2547e-01,  4.5710e-01, -5.0612e-01, -1.9639e-01,\n",
            "         4.1936e-01, -4.8284e-01,  4.1599e-01, -4.5474e-01, -3.4927e-01,\n",
            "         2.4749e-01,  7.2144e-01, -5.8564e-01,  1.7312e-02,  7.5937e-01,\n",
            "        -3.8762e-01,  1.8800e-01, -5.7060e-01,  4.6243e-01,  1.5491e-01,\n",
            "        -9.0594e-01,  6.8809e-02, -9.0125e-01, -8.5588e-01, -1.9097e-01,\n",
            "        -4.0579e-02,  6.9614e-01,  7.3759e-01, -1.4159e-01, -1.3757e-01,\n",
            "         1.8771e-03, -4.1125e-01, -6.9749e-01, -4.4343e-01, -7.3053e-01,\n",
            "         4.4100e-01,  4.5358e-01, -1.3392e-01, -7.1990e-02, -9.0216e-02,\n",
            "         1.5160e-01, -6.4769e-01, -2.0069e-02, -1.4398e-01,  4.2501e-01,\n",
            "        -3.8325e-01,  3.3081e-01,  9.9184e-02,  7.1332e-01,  2.0656e-01,\n",
            "        -2.5301e-01, -8.1725e-01, -1.9797e-02, -3.4488e-01,  3.6337e-01,\n",
            "         1.9663e-01,  3.2954e-01, -2.4032e-01,  3.5215e-01, -1.4338e-01,\n",
            "        -3.7643e-01,  1.7148e-01,  1.5632e-01, -1.5644e-01,  9.9640e-01,\n",
            "         1.5622e-01,  2.7919e-01, -5.1500e-01,  2.1574e-01,  2.7465e-01,\n",
            "         4.7980e-01])\n"
          ],
          "name": "stdout"
        }
      ]
    },
    {
      "cell_type": "code",
      "metadata": {
        "id": "tVy9b7Jvjpby",
        "colab": {
          "base_uri": "https://localhost:8080/"
        },
        "outputId": "81645dc3-14ab-4239-f662-97b80b065895"
      },
      "source": [
        "cd /content/drive/MyDrive/ENDProgram/Session14"
      ],
      "execution_count": 4,
      "outputs": [
        {
          "output_type": "stream",
          "text": [
            "/content/drive/MyDrive/ENDProgram/Session14\n"
          ],
          "name": "stdout"
        }
      ]
    },
    {
      "cell_type": "code",
      "metadata": {
        "id": "aobMNpDVjvBL",
        "colab": {
          "base_uri": "https://localhost:8080/"
        },
        "outputId": "a838f3c7-efc5-4243-ce18-a404b6f755ce"
      },
      "source": [
        "!python -m spacy download en"
      ],
      "execution_count": 5,
      "outputs": [
        {
          "output_type": "stream",
          "text": [
            "Requirement already satisfied: en_core_web_sm==2.2.5 from https://github.com/explosion/spacy-models/releases/download/en_core_web_sm-2.2.5/en_core_web_sm-2.2.5.tar.gz#egg=en_core_web_sm==2.2.5 in /usr/local/lib/python3.7/dist-packages (2.2.5)\n",
            "Requirement already satisfied: spacy>=2.2.2 in /usr/local/lib/python3.7/dist-packages (from en_core_web_sm==2.2.5) (2.2.4)\n",
            "Requirement already satisfied: setuptools in /usr/local/lib/python3.7/dist-packages (from spacy>=2.2.2->en_core_web_sm==2.2.5) (54.1.2)\n",
            "Requirement already satisfied: plac<1.2.0,>=0.9.6 in /usr/local/lib/python3.7/dist-packages (from spacy>=2.2.2->en_core_web_sm==2.2.5) (1.1.3)\n",
            "Requirement already satisfied: tqdm<5.0.0,>=4.38.0 in /usr/local/lib/python3.7/dist-packages (from spacy>=2.2.2->en_core_web_sm==2.2.5) (4.41.1)\n",
            "Requirement already satisfied: numpy>=1.15.0 in /usr/local/lib/python3.7/dist-packages (from spacy>=2.2.2->en_core_web_sm==2.2.5) (1.19.5)\n",
            "Requirement already satisfied: catalogue<1.1.0,>=0.0.7 in /usr/local/lib/python3.7/dist-packages (from spacy>=2.2.2->en_core_web_sm==2.2.5) (1.0.0)\n",
            "Requirement already satisfied: murmurhash<1.1.0,>=0.28.0 in /usr/local/lib/python3.7/dist-packages (from spacy>=2.2.2->en_core_web_sm==2.2.5) (1.0.5)\n",
            "Requirement already satisfied: cymem<2.1.0,>=2.0.2 in /usr/local/lib/python3.7/dist-packages (from spacy>=2.2.2->en_core_web_sm==2.2.5) (2.0.5)\n",
            "Requirement already satisfied: thinc==7.4.0 in /usr/local/lib/python3.7/dist-packages (from spacy>=2.2.2->en_core_web_sm==2.2.5) (7.4.0)\n",
            "Requirement already satisfied: preshed<3.1.0,>=3.0.2 in /usr/local/lib/python3.7/dist-packages (from spacy>=2.2.2->en_core_web_sm==2.2.5) (3.0.5)\n",
            "Requirement already satisfied: wasabi<1.1.0,>=0.4.0 in /usr/local/lib/python3.7/dist-packages (from spacy>=2.2.2->en_core_web_sm==2.2.5) (0.8.2)\n",
            "Requirement already satisfied: requests<3.0.0,>=2.13.0 in /usr/local/lib/python3.7/dist-packages (from spacy>=2.2.2->en_core_web_sm==2.2.5) (2.23.0)\n",
            "Requirement already satisfied: blis<0.5.0,>=0.4.0 in /usr/local/lib/python3.7/dist-packages (from spacy>=2.2.2->en_core_web_sm==2.2.5) (0.4.1)\n",
            "Requirement already satisfied: srsly<1.1.0,>=1.0.2 in /usr/local/lib/python3.7/dist-packages (from spacy>=2.2.2->en_core_web_sm==2.2.5) (1.0.5)\n",
            "Requirement already satisfied: importlib-metadata>=0.20; python_version < \"3.8\" in /usr/local/lib/python3.7/dist-packages (from catalogue<1.1.0,>=0.0.7->spacy>=2.2.2->en_core_web_sm==2.2.5) (3.7.2)\n",
            "Requirement already satisfied: urllib3!=1.25.0,!=1.25.1,<1.26,>=1.21.1 in /usr/local/lib/python3.7/dist-packages (from requests<3.0.0,>=2.13.0->spacy>=2.2.2->en_core_web_sm==2.2.5) (1.24.3)\n",
            "Requirement already satisfied: certifi>=2017.4.17 in /usr/local/lib/python3.7/dist-packages (from requests<3.0.0,>=2.13.0->spacy>=2.2.2->en_core_web_sm==2.2.5) (2020.12.5)\n",
            "Requirement already satisfied: idna<3,>=2.5 in /usr/local/lib/python3.7/dist-packages (from requests<3.0.0,>=2.13.0->spacy>=2.2.2->en_core_web_sm==2.2.5) (2.10)\n",
            "Requirement already satisfied: chardet<4,>=3.0.2 in /usr/local/lib/python3.7/dist-packages (from requests<3.0.0,>=2.13.0->spacy>=2.2.2->en_core_web_sm==2.2.5) (3.0.4)\n",
            "Requirement already satisfied: zipp>=0.5 in /usr/local/lib/python3.7/dist-packages (from importlib-metadata>=0.20; python_version < \"3.8\"->catalogue<1.1.0,>=0.0.7->spacy>=2.2.2->en_core_web_sm==2.2.5) (3.4.1)\n",
            "Requirement already satisfied: typing-extensions>=3.6.4; python_version < \"3.8\" in /usr/local/lib/python3.7/dist-packages (from importlib-metadata>=0.20; python_version < \"3.8\"->catalogue<1.1.0,>=0.0.7->spacy>=2.2.2->en_core_web_sm==2.2.5) (3.7.4.3)\n",
            "\u001b[38;5;2m✔ Download and installation successful\u001b[0m\n",
            "You can now load the model via spacy.load('en_core_web_sm')\n",
            "\u001b[38;5;2m✔ Linking successful\u001b[0m\n",
            "/usr/local/lib/python3.7/dist-packages/en_core_web_sm -->\n",
            "/usr/local/lib/python3.7/dist-packages/spacy/data/en\n",
            "You can now load the model via spacy.load('en')\n"
          ],
          "name": "stdout"
        }
      ]
    },
    {
      "cell_type": "code",
      "metadata": {
        "id": "kTfBquOxj59T"
      },
      "source": [
        "from __future__ import absolute_import\n",
        "from __future__ import division\n",
        "from __future__ import print_function\n",
        "from __future__ import unicode_literals\n",
        "\n",
        "import csv\n",
        "import random\n",
        "import re\n",
        "import os\n",
        "import math\n",
        "import time\n",
        "import unicodedata\n",
        "import codecs\n",
        "from io import open\n",
        "import itertools\n",
        "\n",
        "\n",
        "import torch\n",
        "import torch.nn as nn\n",
        "import torch.optim as optim\n",
        "from torch.jit import script, trace\n",
        "\n",
        "import matplotlib.pyplot as plt\n",
        "import matplotlib.ticker as ticker\n",
        "\n",
        "import spacy\n",
        "import numpy as np\n",
        "import pandas as pd"
      ],
      "execution_count": 6,
      "outputs": []
    },
    {
      "cell_type": "code",
      "metadata": {
        "id": "cgTxHeAvl3Er"
      },
      "source": [
        "import torch\n",
        "import torch.nn as nn\n",
        "import torch.optim as optim\n",
        "\n",
        "import torchtext\n",
        "from torchtext.legacy.datasets import Multi30k\n",
        "from torchtext.legacy.data import Field, BucketIterator,TabularDataset\n",
        "\n",
        "import matplotlib.pyplot as plt\n",
        "import matplotlib.ticker as ticker\n",
        "\n",
        "import spacy\n",
        "import numpy as np\n",
        "\n",
        "import random\n",
        "import math\n",
        "import time"
      ],
      "execution_count": 7,
      "outputs": []
    },
    {
      "cell_type": "code",
      "metadata": {
        "colab": {
          "base_uri": "https://localhost:8080/"
        },
        "id": "dGvK-gWUSoS5",
        "outputId": "2c118845-5ab6-4cec-c26a-07829e7acccc"
      },
      "source": [
        "device = torch.device('cuda' if torch.cuda.is_available() else 'cpu')\n",
        "device"
      ],
      "execution_count": 8,
      "outputs": [
        {
          "output_type": "execute_result",
          "data": {
            "text/plain": [
              "device(type='cuda')"
            ]
          },
          "metadata": {
            "tags": []
          },
          "execution_count": 8
        }
      ]
    },
    {
      "cell_type": "code",
      "metadata": {
        "id": "KwMMe5CQCU5g"
      },
      "source": [
        "SEED = 1234\n",
        "\n",
        "random.seed(SEED)\n",
        "np.random.seed(SEED)\n",
        "torch.manual_seed(SEED)\n",
        "torch.cuda.manual_seed(SEED)\n",
        "torch.backends.cudnn.deterministic = True"
      ],
      "execution_count": 9,
      "outputs": []
    },
    {
      "cell_type": "code",
      "metadata": {
        "id": "xpNTE2GhCY2V",
        "colab": {
          "base_uri": "https://localhost:8080/"
        },
        "outputId": "e6b4bc06-c8fb-43a4-b25b-a7c0a69ed890"
      },
      "source": [
        "!python -m spacy download en\n",
        "#python -m spacy download de"
      ],
      "execution_count": 10,
      "outputs": [
        {
          "output_type": "stream",
          "text": [
            "Requirement already satisfied: en_core_web_sm==2.2.5 from https://github.com/explosion/spacy-models/releases/download/en_core_web_sm-2.2.5/en_core_web_sm-2.2.5.tar.gz#egg=en_core_web_sm==2.2.5 in /usr/local/lib/python3.7/dist-packages (2.2.5)\n",
            "Requirement already satisfied: spacy>=2.2.2 in /usr/local/lib/python3.7/dist-packages (from en_core_web_sm==2.2.5) (2.2.4)\n",
            "Requirement already satisfied: tqdm<5.0.0,>=4.38.0 in /usr/local/lib/python3.7/dist-packages (from spacy>=2.2.2->en_core_web_sm==2.2.5) (4.41.1)\n",
            "Requirement already satisfied: thinc==7.4.0 in /usr/local/lib/python3.7/dist-packages (from spacy>=2.2.2->en_core_web_sm==2.2.5) (7.4.0)\n",
            "Requirement already satisfied: srsly<1.1.0,>=1.0.2 in /usr/local/lib/python3.7/dist-packages (from spacy>=2.2.2->en_core_web_sm==2.2.5) (1.0.5)\n",
            "Requirement already satisfied: plac<1.2.0,>=0.9.6 in /usr/local/lib/python3.7/dist-packages (from spacy>=2.2.2->en_core_web_sm==2.2.5) (1.1.3)\n",
            "Requirement already satisfied: setuptools in /usr/local/lib/python3.7/dist-packages (from spacy>=2.2.2->en_core_web_sm==2.2.5) (54.1.2)\n",
            "Requirement already satisfied: murmurhash<1.1.0,>=0.28.0 in /usr/local/lib/python3.7/dist-packages (from spacy>=2.2.2->en_core_web_sm==2.2.5) (1.0.5)\n",
            "Requirement already satisfied: wasabi<1.1.0,>=0.4.0 in /usr/local/lib/python3.7/dist-packages (from spacy>=2.2.2->en_core_web_sm==2.2.5) (0.8.2)\n",
            "Requirement already satisfied: numpy>=1.15.0 in /usr/local/lib/python3.7/dist-packages (from spacy>=2.2.2->en_core_web_sm==2.2.5) (1.19.5)\n",
            "Requirement already satisfied: preshed<3.1.0,>=3.0.2 in /usr/local/lib/python3.7/dist-packages (from spacy>=2.2.2->en_core_web_sm==2.2.5) (3.0.5)\n",
            "Requirement already satisfied: blis<0.5.0,>=0.4.0 in /usr/local/lib/python3.7/dist-packages (from spacy>=2.2.2->en_core_web_sm==2.2.5) (0.4.1)\n",
            "Requirement already satisfied: requests<3.0.0,>=2.13.0 in /usr/local/lib/python3.7/dist-packages (from spacy>=2.2.2->en_core_web_sm==2.2.5) (2.23.0)\n",
            "Requirement already satisfied: catalogue<1.1.0,>=0.0.7 in /usr/local/lib/python3.7/dist-packages (from spacy>=2.2.2->en_core_web_sm==2.2.5) (1.0.0)\n",
            "Requirement already satisfied: cymem<2.1.0,>=2.0.2 in /usr/local/lib/python3.7/dist-packages (from spacy>=2.2.2->en_core_web_sm==2.2.5) (2.0.5)\n",
            "Requirement already satisfied: idna<3,>=2.5 in /usr/local/lib/python3.7/dist-packages (from requests<3.0.0,>=2.13.0->spacy>=2.2.2->en_core_web_sm==2.2.5) (2.10)\n",
            "Requirement already satisfied: certifi>=2017.4.17 in /usr/local/lib/python3.7/dist-packages (from requests<3.0.0,>=2.13.0->spacy>=2.2.2->en_core_web_sm==2.2.5) (2020.12.5)\n",
            "Requirement already satisfied: urllib3!=1.25.0,!=1.25.1,<1.26,>=1.21.1 in /usr/local/lib/python3.7/dist-packages (from requests<3.0.0,>=2.13.0->spacy>=2.2.2->en_core_web_sm==2.2.5) (1.24.3)\n",
            "Requirement already satisfied: chardet<4,>=3.0.2 in /usr/local/lib/python3.7/dist-packages (from requests<3.0.0,>=2.13.0->spacy>=2.2.2->en_core_web_sm==2.2.5) (3.0.4)\n",
            "Requirement already satisfied: importlib-metadata>=0.20; python_version < \"3.8\" in /usr/local/lib/python3.7/dist-packages (from catalogue<1.1.0,>=0.0.7->spacy>=2.2.2->en_core_web_sm==2.2.5) (3.7.2)\n",
            "Requirement already satisfied: zipp>=0.5 in /usr/local/lib/python3.7/dist-packages (from importlib-metadata>=0.20; python_version < \"3.8\"->catalogue<1.1.0,>=0.0.7->spacy>=2.2.2->en_core_web_sm==2.2.5) (3.4.1)\n",
            "Requirement already satisfied: typing-extensions>=3.6.4; python_version < \"3.8\" in /usr/local/lib/python3.7/dist-packages (from importlib-metadata>=0.20; python_version < \"3.8\"->catalogue<1.1.0,>=0.0.7->spacy>=2.2.2->en_core_web_sm==2.2.5) (3.7.4.3)\n",
            "\u001b[38;5;2m✔ Download and installation successful\u001b[0m\n",
            "You can now load the model via spacy.load('en_core_web_sm')\n",
            "\u001b[38;5;2m✔ Linking successful\u001b[0m\n",
            "/usr/local/lib/python3.7/dist-packages/en_core_web_sm -->\n",
            "/usr/local/lib/python3.7/dist-packages/spacy/data/en\n",
            "You can now load the model via spacy.load('en')\n"
          ],
          "name": "stdout"
        }
      ]
    },
    {
      "cell_type": "code",
      "metadata": {
        "id": "j37U6a5OCi_M"
      },
      "source": [
        "spacy_py = spacy.load('en')\n",
        "spacy_en = spacy.load('en')"
      ],
      "execution_count": 11,
      "outputs": []
    },
    {
      "cell_type": "code",
      "metadata": {
        "id": "15wydnnsCpH0"
      },
      "source": [
        "def tokenize_py(text):\n",
        "    \"\"\"\n",
        "    Tokenizes German text from a string into a list of strings\n",
        "    \"\"\"\n",
        "    return [tok.text for tok in spacy_py.tokenizer(text)]\n",
        "\n",
        "def tokenize_en(text):\n",
        "    \"\"\"\n",
        "    Tokenizes English text from a string into a list of strings\n",
        "    \"\"\"\n",
        "    return [tok.text for tok in spacy_en.tokenizer(text)]"
      ],
      "execution_count": 12,
      "outputs": []
    },
    {
      "cell_type": "code",
      "metadata": {
        "colab": {
          "base_uri": "https://localhost:8080/"
        },
        "id": "QTLG_g8YgHO9",
        "outputId": "bcd56abd-c2b4-4b39-8a8f-6917b2679778"
      },
      "source": [
        "tokenize_en(\"hi k\")"
      ],
      "execution_count": 13,
      "outputs": [
        {
          "output_type": "execute_result",
          "data": {
            "text/plain": [
              "['hi', 'k']"
            ]
          },
          "metadata": {
            "tags": []
          },
          "execution_count": 13
        }
      ]
    },
    {
      "cell_type": "code",
      "metadata": {
        "id": "60O0YZ8eCrLd"
      },
      "source": [
        "SRC = Field(tokenize = tokenize_en, \n",
        "            init_token = '<sos>', \n",
        "            eos_token = '<eos>', \n",
        "            lower = True, \n",
        "            batch_first = True)\n",
        "\n",
        "TRG = Field(tokenize = tokenize_py, \n",
        "            init_token = '<sos>', \n",
        "            eos_token = '<eos>', \n",
        "            lower = False, \n",
        "            batch_first = True)\n",
        "\n",
        "\n",
        "fields = {'src' : ('src', SRC),\n",
        "          'trg' : ('trg', TRG)}"
      ],
      "execution_count": 14,
      "outputs": []
    },
    {
      "cell_type": "code",
      "metadata": {
        "id": "5TzuyiGaCstq"
      },
      "source": [
        "#train_data, valid_data, test_data = Multi30k.splits(exts = ('.de', '.en'), \n",
        "                                                   # fields = (SRC, TRG))\n",
        "\n",
        "qa_data  = TabularDataset(\n",
        "                            path = '/content/drive/MyDrive/ENDProgram/Session14/Dataset/Eng_Python_250_CSV_2.csv',\n",
        "                            format = 'csv',\n",
        "                            fields = fields\n",
        "                            )\n",
        "\n",
        "train_data, valid_data, test_data = qa_data.split([0.7,.2,.1])"
      ],
      "execution_count": 15,
      "outputs": []
    },
    {
      "cell_type": "code",
      "metadata": {
        "id": "fETHzIIyCu7p"
      },
      "source": [
        "SRC.build_vocab(train_data, min_freq = 2)\n",
        "#TRG.build_vocab(train_data, min_freq = 2)\n",
        "#print(custom_embeddings['dim'])\n",
        "TRG.build_vocab(train_data, vectors = custom_embeddings)"
      ],
      "execution_count": 16,
      "outputs": []
    },
    {
      "cell_type": "code",
      "metadata": {
        "id": "2XONz6UrCwuh",
        "colab": {
          "base_uri": "https://localhost:8080/"
        },
        "outputId": "37494a53-3fc6-45ea-8d10-20ad82ebcd48"
      },
      "source": [
        "device = torch.device('cuda' if torch.cuda.is_available() else 'cpu')\n",
        "device"
      ],
      "execution_count": 17,
      "outputs": [
        {
          "output_type": "execute_result",
          "data": {
            "text/plain": [
              "device(type='cuda')"
            ]
          },
          "metadata": {
            "tags": []
          },
          "execution_count": 17
        }
      ]
    },
    {
      "cell_type": "code",
      "metadata": {
        "id": "aBtCv6sACyZ8"
      },
      "source": [
        "BATCH_SIZE = 64\n",
        "\n",
        "\n",
        "train_iterator, valid_iterator, test_iterator = BucketIterator.splits(\n",
        "    (train_data, valid_data, test_data), \n",
        "     batch_size = BATCH_SIZE,\n",
        "     device = device,\n",
        "     sort_within_batch = True,\n",
        "     sort_key = lambda x: len(x.src))"
      ],
      "execution_count": 18,
      "outputs": []
    },
    {
      "cell_type": "markdown",
      "metadata": {
        "id": "HgvD_MpkC2OS"
      },
      "source": [
        "![](https://raw.githubusercontent.com/bentrevett/pytorch-seq2seq/9479fcb532214ad26fd4bda9fcf081a05e1aaf4e/assets/transformer-encoder.png)"
      ]
    },
    {
      "cell_type": "code",
      "metadata": {
        "id": "NE6JimgOCz-w"
      },
      "source": [
        "class Encoder(nn.Module):\n",
        "    def __init__(self, \n",
        "                 input_dim, \n",
        "                 hid_dim, \n",
        "                 n_layers, \n",
        "                 n_heads, \n",
        "                 pf_dim,\n",
        "                 dropout, \n",
        "                 device,\n",
        "                 max_length = 250):\n",
        "        super().__init__()\n",
        "\n",
        "        self.device = device\n",
        "        \n",
        "        self.tok_embedding = nn.Embedding(input_dim, hid_dim)\n",
        "        self.pos_embedding = nn.Embedding(max_length, hid_dim)\n",
        "        \n",
        "        self.layers = nn.ModuleList([EncoderLayer(hid_dim, \n",
        "                                                  n_heads, \n",
        "                                                  pf_dim,\n",
        "                                                  dropout, \n",
        "                                                  device) \n",
        "                                     for _ in range(n_layers)])\n",
        "        \n",
        "        self.dropout = nn.Dropout(dropout)\n",
        "        \n",
        "        self.scale = torch.sqrt(torch.FloatTensor([hid_dim])).to(device)\n",
        "        \n",
        "    def forward(self, src, src_mask):\n",
        "        \n",
        "        #src = [batch size, src len]\n",
        "        #src_mask = [batch size, 1, 1, src len]\n",
        "        \n",
        "        batch_size = src.shape[0]\n",
        "        src_len = src.shape[1]\n",
        "        \n",
        "        pos = torch.arange(0, src_len).unsqueeze(0).repeat(batch_size, 1).to(self.device)\n",
        "        \n",
        "        #pos = [batch size, src len]\n",
        "        \n",
        "        src = self.dropout((self.tok_embedding(src) * self.scale) + self.pos_embedding(pos))\n",
        "        \n",
        "        #src = [batch size, src len, hid dim]\n",
        "        \n",
        "        for layer in self.layers:\n",
        "            src = layer(src, src_mask)\n",
        "            \n",
        "        #src = [batch size, src len, hid dim]\n",
        "            \n",
        "        return src"
      ],
      "execution_count": 19,
      "outputs": []
    },
    {
      "cell_type": "code",
      "metadata": {
        "id": "2LheiXWVFDEg"
      },
      "source": [
        "class EncoderLayer(nn.Module):\n",
        "    def __init__(self, \n",
        "                 hid_dim, \n",
        "                 n_heads, \n",
        "                 pf_dim,  \n",
        "                 dropout, \n",
        "                 device):\n",
        "        super().__init__()\n",
        "        \n",
        "        self.self_attn_layer_norm = nn.LayerNorm(hid_dim)\n",
        "        self.ff_layer_norm = nn.LayerNorm(hid_dim)\n",
        "        self.self_attention = MultiHeadAttentionLayer(hid_dim, n_heads, dropout, device)\n",
        "        self.positionwise_feedforward = PositionwiseFeedforwardLayer(hid_dim, \n",
        "                                                                     pf_dim, \n",
        "                                                                     dropout)\n",
        "        self.dropout = nn.Dropout(dropout)\n",
        "        \n",
        "    def forward(self, src, src_mask):\n",
        "        \n",
        "        #src = [batch size, src len, hid dim]\n",
        "        #src_mask = [batch size, 1, 1, src len] \n",
        "                \n",
        "        #self attention\n",
        "        _src, _ = self.self_attention(src, src, src, src_mask)\n",
        "        \n",
        "        #dropout, residual connection and layer norm\n",
        "        src = self.self_attn_layer_norm(src + self.dropout(_src))\n",
        "        \n",
        "        #src = [batch size, src len, hid dim]\n",
        "        \n",
        "        #positionwise feedforward\n",
        "        _src = self.positionwise_feedforward(src)\n",
        "        \n",
        "        #dropout, residual and layer norm\n",
        "        src = self.ff_layer_norm(src + self.dropout(_src))\n",
        "        \n",
        "        #src = [batch size, src len, hid dim]\n",
        "        \n",
        "        return src"
      ],
      "execution_count": 20,
      "outputs": []
    },
    {
      "cell_type": "markdown",
      "metadata": {
        "id": "6h_Iqnk4Jg5k"
      },
      "source": [
        "![](https://raw.githubusercontent.com/bentrevett/pytorch-seq2seq/9479fcb532214ad26fd4bda9fcf081a05e1aaf4e/assets/transformer-attention.png)"
      ]
    },
    {
      "cell_type": "code",
      "metadata": {
        "id": "ZZmeHfGhGzkN"
      },
      "source": [
        "class MultiHeadAttentionLayer(nn.Module):\n",
        "    def __init__(self, hid_dim, n_heads, dropout, device):\n",
        "        super().__init__()\n",
        "        \n",
        "        assert hid_dim % n_heads == 0\n",
        "        \n",
        "        self.hid_dim = hid_dim\n",
        "        self.n_heads = n_heads\n",
        "        self.head_dim = hid_dim // n_heads\n",
        "        \n",
        "        self.fc_q = nn.Linear(hid_dim, hid_dim)\n",
        "        self.fc_k = nn.Linear(hid_dim, hid_dim)\n",
        "        self.fc_v = nn.Linear(hid_dim, hid_dim)\n",
        "        \n",
        "        self.fc_o = nn.Linear(hid_dim, hid_dim)\n",
        "        \n",
        "        self.dropout = nn.Dropout(dropout)\n",
        "        \n",
        "        self.scale = torch.sqrt(torch.FloatTensor([self.head_dim])).to(device)\n",
        "        \n",
        "    def forward(self, query, key, value, mask = None):\n",
        "        \n",
        "        batch_size = query.shape[0]\n",
        "        \n",
        "        #query = [batch size, query len, hid dim]\n",
        "        #key = [batch size, key len, hid dim]\n",
        "        #value = [batch size, value len, hid dim]\n",
        "                \n",
        "        Q = self.fc_q(query)\n",
        "        K = self.fc_k(key)\n",
        "        V = self.fc_v(value)\n",
        "        \n",
        "        #Q = [batch size, query len, hid dim]\n",
        "        #K = [batch size, key len, hid dim]\n",
        "        #V = [batch size, value len, hid dim]\n",
        "                \n",
        "        Q = Q.view(batch_size, -1, self.n_heads, self.head_dim).permute(0, 2, 1, 3)\n",
        "        K = K.view(batch_size, -1, self.n_heads, self.head_dim).permute(0, 2, 1, 3)\n",
        "        V = V.view(batch_size, -1, self.n_heads, self.head_dim).permute(0, 2, 1, 3)\n",
        "        \n",
        "        #Q = [batch size, n heads, query len, head dim]\n",
        "        #K = [batch size, n heads, key len, head dim]\n",
        "        #V = [batch size, n heads, value len, head dim]\n",
        "                \n",
        "        energy = torch.matmul(Q, K.permute(0, 1, 3, 2)) / self.scale\n",
        "        \n",
        "        #energy = [batch size, n heads, query len, key len]\n",
        "        \n",
        "        if mask is not None:\n",
        "            energy = energy.masked_fill(mask == 0, -1e10)\n",
        "        \n",
        "        attention = torch.softmax(energy, dim = -1)\n",
        "                \n",
        "        #attention = [batch size, n heads, query len, key len]\n",
        "                \n",
        "        x = torch.matmul(self.dropout(attention), V)\n",
        "        \n",
        "        #x = [batch size, n heads, query len, head dim]\n",
        "        \n",
        "        x = x.permute(0, 2, 1, 3).contiguous()\n",
        "        \n",
        "        #x = [batch size, query len, n heads, head dim]\n",
        "        \n",
        "        x = x.view(batch_size, -1, self.hid_dim)\n",
        "        \n",
        "        #x = [batch size, query len, hid dim]\n",
        "        \n",
        "        x = self.fc_o(x)\n",
        "        \n",
        "        #x = [batch size, query len, hid dim]\n",
        "        \n",
        "        return x, attention"
      ],
      "execution_count": 21,
      "outputs": []
    },
    {
      "cell_type": "code",
      "metadata": {
        "id": "R9w9xDUKL7LU"
      },
      "source": [
        "class PositionwiseFeedforwardLayer(nn.Module):\n",
        "    def __init__(self, hid_dim, pf_dim, dropout):\n",
        "        super().__init__()\n",
        "        \n",
        "        self.fc_1 = nn.Linear(hid_dim, pf_dim)\n",
        "        self.fc_2 = nn.Linear(pf_dim, hid_dim)\n",
        "        \n",
        "        self.dropout = nn.Dropout(dropout)\n",
        "        \n",
        "    def forward(self, x):\n",
        "        \n",
        "        #x = [batch size, seq len, hid dim]\n",
        "        \n",
        "        x = self.dropout(torch.relu(self.fc_1(x)))\n",
        "        \n",
        "        #x = [batch size, seq len, pf dim]\n",
        "        \n",
        "        x = self.fc_2(x)\n",
        "        \n",
        "        #x = [batch size, seq len, hid dim]\n",
        "        \n",
        "        return x"
      ],
      "execution_count": 22,
      "outputs": []
    },
    {
      "cell_type": "markdown",
      "metadata": {
        "id": "YbTr7YPSMRpC"
      },
      "source": [
        "![](https://raw.githubusercontent.com/bentrevett/pytorch-seq2seq/9479fcb532214ad26fd4bda9fcf081a05e1aaf4e/assets/transformer-decoder.png)"
      ]
    },
    {
      "cell_type": "code",
      "metadata": {
        "id": "iWBMMF45MMNS"
      },
      "source": [
        "class Decoder(nn.Module):\n",
        "    def __init__(self, \n",
        "                 output_dim, \n",
        "                 hid_dim, \n",
        "                 n_layers, \n",
        "                 n_heads, \n",
        "                 pf_dim, \n",
        "                 dropout, \n",
        "                 device,\n",
        "                 max_length = 250):\n",
        "        super().__init__()\n",
        "        \n",
        "        self.device = device\n",
        "        \n",
        "        self.tok_embedding = nn.Embedding(output_dim, hid_dim)\n",
        "        print(output_dim)\n",
        "        print(hid_dim)\n",
        "        print(TRG.vocab.vectors.shape)\n",
        "        print(type(TRG.vocab.vectors))\n",
        "        # step added for custom embedding\n",
        "        #self.tok_embedding.weight.data.copy_(TRG.vocab.vectors) TRG.vocab.vectors\n",
        "        self.tok_embedding.weight.data.copy_(TRG.vocab.vectors) \n",
        "        \n",
        "        self.pos_embedding = nn.Embedding(max_length, hid_dim)\n",
        "        \n",
        "        self.layers = nn.ModuleList([DecoderLayer(hid_dim, \n",
        "                                                  n_heads, \n",
        "                                                  pf_dim, \n",
        "                                                  dropout, \n",
        "                                                  device)\n",
        "                                     for _ in range(n_layers)])\n",
        "        \n",
        "        self.fc_out = nn.Linear(hid_dim, output_dim)\n",
        "        \n",
        "        self.dropout = nn.Dropout(dropout)\n",
        "        \n",
        "        self.scale = torch.sqrt(torch.FloatTensor([hid_dim])).to(device)\n",
        "        \n",
        "    def forward(self, trg, enc_src, trg_mask, src_mask):\n",
        "        \n",
        "        #trg = [batch size, trg len]\n",
        "        #enc_src = [batch size, src len, hid dim]\n",
        "        #trg_mask = [batch size, 1, trg len, trg len]\n",
        "        #src_mask = [batch size, 1, 1, src len]\n",
        "             \n",
        "        batch_size = trg.shape[0]\n",
        "        trg_len = trg.shape[1]\n",
        "        \n",
        "        pos = torch.arange(0, trg_len).unsqueeze(0).repeat(batch_size, 1).to(self.device)\n",
        "                            \n",
        "        #pos = [batch size, trg len]\n",
        "            \n",
        "        trg = self.dropout((self.tok_embedding(trg) * self.scale) + self.pos_embedding(pos))\n",
        "                \n",
        "        #trg = [batch size, trg len, hid dim]\n",
        "        \n",
        "        for layer in self.layers:\n",
        "            trg, attention = layer(trg, enc_src, trg_mask, src_mask)\n",
        "        \n",
        "        #trg = [batch size, trg len, hid dim]\n",
        "        #attention = [batch size, n heads, trg len, src len]\n",
        "        \n",
        "        output = self.fc_out(trg)\n",
        "        \n",
        "        #output = [batch size, trg len, output dim]\n",
        "            \n",
        "        return output, attention"
      ],
      "execution_count": 23,
      "outputs": []
    },
    {
      "cell_type": "code",
      "metadata": {
        "id": "CMEr1IFUMxco"
      },
      "source": [
        "class DecoderLayer(nn.Module):\n",
        "    def __init__(self, \n",
        "                 hid_dim, \n",
        "                 n_heads, \n",
        "                 pf_dim, \n",
        "                 dropout, \n",
        "                 device):\n",
        "        super().__init__()\n",
        "        \n",
        "        self.self_attn_layer_norm = nn.LayerNorm(hid_dim)\n",
        "        self.enc_attn_layer_norm = nn.LayerNorm(hid_dim)\n",
        "        self.ff_layer_norm = nn.LayerNorm(hid_dim)\n",
        "        self.self_attention = MultiHeadAttentionLayer(hid_dim, n_heads, dropout, device)\n",
        "        self.encoder_attention = MultiHeadAttentionLayer(hid_dim, n_heads, dropout, device)\n",
        "        self.positionwise_feedforward = PositionwiseFeedforwardLayer(hid_dim, \n",
        "                                                                     pf_dim, \n",
        "                                                                     dropout)\n",
        "        self.dropout = nn.Dropout(dropout)\n",
        "        \n",
        "    def forward(self, trg, enc_src, trg_mask, src_mask):\n",
        "        \n",
        "        #trg = [batch size, trg len, hid dim]\n",
        "        #enc_src = [batch size, src len, hid dim]\n",
        "        #trg_mask = [batch size, 1, trg len, trg len]\n",
        "        #src_mask = [batch size, 1, 1, src len]\n",
        "        \n",
        "        #self attention\n",
        "        _trg, _ = self.self_attention(trg, trg, trg, trg_mask)\n",
        "        \n",
        "        #dropout, residual connection and layer norm\n",
        "        trg = self.self_attn_layer_norm(trg + self.dropout(_trg))\n",
        "            \n",
        "        #trg = [batch size, trg len, hid dim]\n",
        "            \n",
        "        #encoder attention\n",
        "        _trg, attention = self.encoder_attention(trg, enc_src, enc_src, src_mask)\n",
        "        # query, key, value\n",
        "        \n",
        "        #dropout, residual connection and layer norm\n",
        "        trg = self.enc_attn_layer_norm(trg + self.dropout(_trg))\n",
        "                    \n",
        "        #trg = [batch size, trg len, hid dim]\n",
        "        \n",
        "        #positionwise feedforward\n",
        "        _trg = self.positionwise_feedforward(trg)\n",
        "        \n",
        "        #dropout, residual and layer norm\n",
        "        trg = self.ff_layer_norm(trg + self.dropout(_trg))\n",
        "        \n",
        "        #trg = [batch size, trg len, hid dim]\n",
        "        #attention = [batch size, n heads, trg len, src len]\n",
        "        \n",
        "        return trg, attention"
      ],
      "execution_count": 24,
      "outputs": []
    },
    {
      "cell_type": "markdown",
      "metadata": {
        "id": "udpPhQ2UN8oQ"
      },
      "source": [
        "10000\n",
        "11000\n",
        "11100\n",
        "11100\n",
        "11100"
      ]
    },
    {
      "cell_type": "code",
      "metadata": {
        "id": "Dr3Mg8OGN6ul"
      },
      "source": [
        "class Seq2Seq(nn.Module):\n",
        "    def __init__(self, \n",
        "                 encoder, \n",
        "                 decoder, \n",
        "                 src_pad_idx, \n",
        "                 trg_pad_idx, \n",
        "                 device):\n",
        "        super().__init__()\n",
        "        \n",
        "        self.encoder = encoder\n",
        "        self.decoder = decoder\n",
        "        self.src_pad_idx = src_pad_idx\n",
        "        self.trg_pad_idx = trg_pad_idx\n",
        "        self.device = device\n",
        "        \n",
        "    def make_src_mask(self, src):\n",
        "        \n",
        "        #src = [batch size, src len]\n",
        "        \n",
        "        src_mask = (src != self.src_pad_idx).unsqueeze(1).unsqueeze(2)\n",
        "\n",
        "        #src_mask = [batch size, 1, 1, src len]\n",
        "\n",
        "        return src_mask\n",
        "    \n",
        "    def make_trg_mask(self, trg):\n",
        "        \n",
        "        #trg = [batch size, trg len]\n",
        "        \n",
        "        trg_pad_mask = (trg != self.trg_pad_idx).unsqueeze(1).unsqueeze(2)\n",
        "        \n",
        "        #trg_pad_mask = [batch size, 1, 1, trg len]\n",
        "        \n",
        "        trg_len = trg.shape[1]\n",
        "        \n",
        "        trg_sub_mask = torch.tril(torch.ones((trg_len, trg_len), device = self.device)).bool()\n",
        "        \n",
        "        #trg_sub_mask = [trg len, trg len]\n",
        "            \n",
        "        trg_mask = trg_pad_mask & trg_sub_mask\n",
        "        \n",
        "        #trg_mask = [batch size, 1, trg len, trg len]\n",
        "        \n",
        "        return trg_mask\n",
        "\n",
        "    def forward(self, src, trg):\n",
        "        \n",
        "        #src = [batch size, src len]\n",
        "        #trg = [batch size, trg len]\n",
        "                \n",
        "        src_mask = self.make_src_mask(src)\n",
        "        trg_mask = self.make_trg_mask(trg)\n",
        "        \n",
        "        #src_mask = [batch size, 1, 1, src len]\n",
        "        #trg_mask = [batch size, 1, trg len, trg len]\n",
        "        \n",
        "        enc_src = self.encoder(src, src_mask)\n",
        "        \n",
        "        #enc_src = [batch size, src len, hid dim]\n",
        "                \n",
        "        output, attention = self.decoder(trg, enc_src, trg_mask, src_mask)\n",
        "        \n",
        "        #output = [batch size, trg len, output dim]\n",
        "        #attention = [batch size, n heads, trg len, src len]\n",
        "        \n",
        "        return output, attention"
      ],
      "execution_count": 25,
      "outputs": []
    },
    {
      "cell_type": "code",
      "metadata": {
        "id": "4zsZjSSWOSHc",
        "colab": {
          "base_uri": "https://localhost:8080/"
        },
        "outputId": "458cc580-11fd-423a-dbb2-a969bf9a6796"
      },
      "source": [
        "INPUT_DIM = len(SRC.vocab)\n",
        "OUTPUT_DIM = len(TRG.vocab)\n",
        "HID_DIM = 256\n",
        "ENC_LAYERS = 6\n",
        "DEC_LAYERS = 6\n",
        "ENC_HEADS = 8\n",
        "DEC_HEADS = 8\n",
        "ENC_PF_DIM = 512\n",
        "DEC_PF_DIM = 512\n",
        "ENC_DROPOUT = 0.1\n",
        "DEC_DROPOUT = 0.1\n",
        "\n",
        "enc = Encoder(INPUT_DIM, \n",
        "              HID_DIM, \n",
        "              ENC_LAYERS, \n",
        "              ENC_HEADS, \n",
        "              ENC_PF_DIM, \n",
        "              ENC_DROPOUT, \n",
        "              device)\n",
        "\n",
        "dec = Decoder(OUTPUT_DIM, \n",
        "              HID_DIM, \n",
        "              DEC_LAYERS, \n",
        "              DEC_HEADS, \n",
        "              DEC_PF_DIM, \n",
        "              DEC_DROPOUT, \n",
        "              device)"
      ],
      "execution_count": 26,
      "outputs": [
        {
          "output_type": "stream",
          "text": [
            "2093\n",
            "256\n",
            "torch.Size([2093, 256])\n",
            "<class 'torch.Tensor'>\n"
          ],
          "name": "stdout"
        }
      ]
    },
    {
      "cell_type": "code",
      "metadata": {
        "id": "iYVZYDVcOUGK"
      },
      "source": [
        "SRC_PAD_IDX = SRC.vocab.stoi[SRC.pad_token]\n",
        "TRG_PAD_IDX = TRG.vocab.stoi[TRG.pad_token]\n",
        "\n",
        "model = Seq2Seq(enc, dec, SRC_PAD_IDX, TRG_PAD_IDX, device).to(device)"
      ],
      "execution_count": 27,
      "outputs": []
    },
    {
      "cell_type": "code",
      "metadata": {
        "id": "M9sU6IKspekh",
        "colab": {
          "base_uri": "https://localhost:8080/"
        },
        "outputId": "b939463a-2efa-4995-ee54-0d8a52c17bb1"
      },
      "source": [
        "SRC.vocab.stoi[SRC.pad_token]"
      ],
      "execution_count": 28,
      "outputs": [
        {
          "output_type": "execute_result",
          "data": {
            "text/plain": [
              "1"
            ]
          },
          "metadata": {
            "tags": []
          },
          "execution_count": 28
        }
      ]
    },
    {
      "cell_type": "code",
      "metadata": {
        "id": "Qd0ePzj0OzLa",
        "colab": {
          "base_uri": "https://localhost:8080/"
        },
        "outputId": "74aaed71-e293-46d5-a52e-fbdf639fd9b7"
      },
      "source": [
        "def count_parameters(model):\n",
        "    return sum(p.numel() for p in model.parameters() if p.requires_grad)\n",
        "\n",
        "print(f'The model has {count_parameters(model):,} trainable parameters')"
      ],
      "execution_count": 29,
      "outputs": [
        {
          "output_type": "stream",
          "text": [
            "The model has 9,349,165 trainable parameters\n"
          ],
          "name": "stdout"
        }
      ]
    },
    {
      "cell_type": "code",
      "metadata": {
        "id": "fmZ0hyo8O0vE"
      },
      "source": [
        "def initialize_weights(m):\n",
        "    if hasattr(m, 'weight') and m.weight.dim() > 1:\n",
        "        nn.init.xavier_uniform_(m.weight.data)"
      ],
      "execution_count": 30,
      "outputs": []
    },
    {
      "cell_type": "code",
      "metadata": {
        "id": "NRtAM9Y4O2N2"
      },
      "source": [
        "model.apply(initialize_weights);"
      ],
      "execution_count": null,
      "outputs": []
    },
    {
      "cell_type": "code",
      "metadata": {
        "id": "NEpApG3YO3ZE"
      },
      "source": [
        "LEARNING_RATE = 1e-4\n",
        "\n",
        "optimizer = torch.optim.Adam(model.parameters(), lr = LEARNING_RATE)"
      ],
      "execution_count": 31,
      "outputs": []
    },
    {
      "cell_type": "code",
      "metadata": {
        "id": "n9Dy_wWrO46l"
      },
      "source": [
        "criterion = nn.CrossEntropyLoss(ignore_index = TRG_PAD_IDX)\n"
      ],
      "execution_count": 38,
      "outputs": []
    },
    {
      "cell_type": "code",
      "metadata": {
        "id": "ycBBiEpuO6cG"
      },
      "source": [
        "def train(model, iterator, optimizer, criterion, clip):\n",
        "    \n",
        "    model.train()\n",
        "    \n",
        "    epoch_loss = 0\n",
        "    \n",
        "    for i, batch in enumerate(iterator):\n",
        "        \n",
        "        src = batch.src\n",
        "        trg = batch.trg\n",
        "        \n",
        "        optimizer.zero_grad()\n",
        "        \n",
        "        output, _ = model(src, trg[:,:-1])\n",
        "                \n",
        "        #output = [batch size, trg len - 1, output dim]\n",
        "        #trg = [batch size, trg len]\n",
        "            \n",
        "        output_dim = output.shape[-1]\n",
        "            \n",
        "        output = output.contiguous().view(-1, output_dim)\n",
        "        trg = trg[:,1:].contiguous().view(-1)\n",
        "                \n",
        "        #output = [batch size * trg len - 1, output dim]\n",
        "        #trg = [batch size * trg len - 1]\n",
        "            \n",
        "        loss = criterion(output, trg)\n",
        "        \n",
        "        loss.backward()\n",
        "        \n",
        "        torch.nn.utils.clip_grad_norm_(model.parameters(), clip)\n",
        "        \n",
        "        optimizer.step()\n",
        "        \n",
        "        epoch_loss += loss.item()\n",
        "        \n",
        "    return epoch_loss / len(iterator)"
      ],
      "execution_count": null,
      "outputs": []
    },
    {
      "cell_type": "code",
      "metadata": {
        "id": "zi3Ev8gaO79_"
      },
      "source": [
        "def evaluate(model, iterator, criterion):\n",
        "    \n",
        "    model.eval()\n",
        "    \n",
        "    epoch_loss = 0\n",
        "    \n",
        "    with torch.no_grad():\n",
        "    \n",
        "        for i, batch in enumerate(iterator):\n",
        "\n",
        "            src = batch.src\n",
        "            trg = batch.trg\n",
        "\n",
        "            output, _ = model(src, trg[:,:-1])\n",
        "            \n",
        "            #output = [batch size, trg len - 1, output dim]\n",
        "            #trg = [batch size, trg len]\n",
        "            \n",
        "            output_dim = output.shape[-1]\n",
        "            \n",
        "            output = output.contiguous().view(-1, output_dim)\n",
        "            trg = trg[:,1:].contiguous().view(-1)\n",
        "            \n",
        "            #output = [batch size * trg len - 1, output dim]\n",
        "            #trg = [batch size * trg len - 1]\n",
        "            \n",
        "            loss = criterion(output, trg)\n",
        "\n",
        "            epoch_loss += loss.item()\n",
        "        \n",
        "    return epoch_loss / len(iterator)"
      ],
      "execution_count": 32,
      "outputs": []
    },
    {
      "cell_type": "code",
      "metadata": {
        "id": "JuB4JqQRO9Wg"
      },
      "source": [
        "def epoch_time(start_time, end_time):\n",
        "    elapsed_time = end_time - start_time\n",
        "    elapsed_mins = int(elapsed_time / 60)\n",
        "    elapsed_secs = int(elapsed_time - (elapsed_mins * 60))\n",
        "    return elapsed_mins, elapsed_secs"
      ],
      "execution_count": 33,
      "outputs": []
    },
    {
      "cell_type": "code",
      "metadata": {
        "id": "aax76Ie4O_Cr",
        "colab": {
          "base_uri": "https://localhost:8080/"
        },
        "outputId": "e4c41191-baf4-421a-9b6d-7d0b22efde10"
      },
      "source": [
        "N_EPOCHS = 100\n",
        "CLIP = 1\n",
        "\n",
        "best_valid_loss = float('inf')\n",
        "\n",
        "for epoch in range(N_EPOCHS):\n",
        "    \n",
        "    start_time = time.time()\n",
        "    \n",
        "    train_loss = train(model, train_iterator, optimizer, criterion, CLIP)\n",
        "    valid_loss = evaluate(model, valid_iterator, criterion)\n",
        "    \n",
        "    end_time = time.time()\n",
        "    \n",
        "    epoch_mins, epoch_secs = epoch_time(start_time, end_time)\n",
        "    \n",
        "    if valid_loss < best_valid_loss:\n",
        "        best_valid_loss = valid_loss\n",
        "        torch.save(model.state_dict(), 'tut6-model.pt')\n",
        "    \n",
        "    print(f'Epoch: {epoch+1:02} | Time: {epoch_mins}m {epoch_secs}s')\n",
        "    print(f'\\tTrain Loss: {train_loss:.3f} | Train PPL: {math.exp(train_loss):7.3f}')\n",
        "    print(f'\\t Val. Loss: {valid_loss:.3f} |  Val. PPL: {math.exp(valid_loss):7.3f}')"
      ],
      "execution_count": null,
      "outputs": [
        {
          "output_type": "stream",
          "text": [
            "Epoch: 01 | Time: 0m 4s\n",
            "\tTrain Loss: 6.416 | Train PPL: 611.603\n",
            "\t Val. Loss: 5.743 |  Val. PPL: 311.965\n",
            "Epoch: 02 | Time: 0m 4s\n",
            "\tTrain Loss: 5.384 | Train PPL: 217.969\n",
            "\t Val. Loss: 5.033 |  Val. PPL: 153.351\n",
            "Epoch: 03 | Time: 0m 4s\n",
            "\tTrain Loss: 4.783 | Train PPL: 119.487\n",
            "\t Val. Loss: 4.550 |  Val. PPL:  94.635\n",
            "Epoch: 04 | Time: 0m 4s\n",
            "\tTrain Loss: 4.313 | Train PPL:  74.644\n",
            "\t Val. Loss: 4.118 |  Val. PPL:  61.415\n",
            "Epoch: 05 | Time: 0m 4s\n",
            "\tTrain Loss: 3.974 | Train PPL:  53.205\n",
            "\t Val. Loss: 3.818 |  Val. PPL:  45.527\n",
            "Epoch: 06 | Time: 0m 4s\n",
            "\tTrain Loss: 3.719 | Train PPL:  41.223\n",
            "\t Val. Loss: 3.582 |  Val. PPL:  35.946\n",
            "Epoch: 07 | Time: 0m 4s\n",
            "\tTrain Loss: 3.509 | Train PPL:  33.411\n",
            "\t Val. Loss: 3.392 |  Val. PPL:  29.722\n",
            "Epoch: 08 | Time: 0m 4s\n",
            "\tTrain Loss: 3.341 | Train PPL:  28.257\n",
            "\t Val. Loss: 3.260 |  Val. PPL:  26.057\n",
            "Epoch: 09 | Time: 0m 4s\n",
            "\tTrain Loss: 3.205 | Train PPL:  24.656\n",
            "\t Val. Loss: 3.150 |  Val. PPL:  23.329\n",
            "Epoch: 10 | Time: 0m 4s\n",
            "\tTrain Loss: 3.083 | Train PPL:  21.825\n",
            "\t Val. Loss: 3.043 |  Val. PPL:  20.974\n",
            "Epoch: 11 | Time: 0m 4s\n",
            "\tTrain Loss: 2.986 | Train PPL:  19.798\n",
            "\t Val. Loss: 2.965 |  Val. PPL:  19.398\n",
            "Epoch: 12 | Time: 0m 4s\n",
            "\tTrain Loss: 2.896 | Train PPL:  18.102\n",
            "\t Val. Loss: 2.898 |  Val. PPL:  18.147\n",
            "Epoch: 13 | Time: 0m 4s\n",
            "\tTrain Loss: 2.816 | Train PPL:  16.711\n",
            "\t Val. Loss: 2.822 |  Val. PPL:  16.810\n",
            "Epoch: 14 | Time: 0m 4s\n",
            "\tTrain Loss: 2.742 | Train PPL:  15.523\n",
            "\t Val. Loss: 2.767 |  Val. PPL:  15.903\n",
            "Epoch: 15 | Time: 0m 4s\n",
            "\tTrain Loss: 2.678 | Train PPL:  14.557\n",
            "\t Val. Loss: 2.710 |  Val. PPL:  15.023\n",
            "Epoch: 16 | Time: 0m 4s\n",
            "\tTrain Loss: 2.609 | Train PPL:  13.584\n",
            "\t Val. Loss: 2.661 |  Val. PPL:  14.317\n",
            "Epoch: 17 | Time: 0m 4s\n",
            "\tTrain Loss: 2.549 | Train PPL:  12.800\n",
            "\t Val. Loss: 2.606 |  Val. PPL:  13.550\n",
            "Epoch: 18 | Time: 0m 4s\n",
            "\tTrain Loss: 2.496 | Train PPL:  12.134\n",
            "\t Val. Loss: 2.575 |  Val. PPL:  13.132\n",
            "Epoch: 19 | Time: 0m 4s\n",
            "\tTrain Loss: 2.445 | Train PPL:  11.525\n",
            "\t Val. Loss: 2.524 |  Val. PPL:  12.475\n",
            "Epoch: 20 | Time: 0m 4s\n",
            "\tTrain Loss: 2.392 | Train PPL:  10.938\n",
            "\t Val. Loss: 2.511 |  Val. PPL:  12.321\n",
            "Epoch: 21 | Time: 0m 4s\n",
            "\tTrain Loss: 2.346 | Train PPL:  10.448\n",
            "\t Val. Loss: 2.459 |  Val. PPL:  11.696\n",
            "Epoch: 22 | Time: 0m 4s\n",
            "\tTrain Loss: 2.298 | Train PPL:   9.954\n",
            "\t Val. Loss: 2.422 |  Val. PPL:  11.274\n",
            "Epoch: 23 | Time: 0m 4s\n",
            "\tTrain Loss: 2.254 | Train PPL:   9.522\n",
            "\t Val. Loss: 2.386 |  Val. PPL:  10.871\n",
            "Epoch: 24 | Time: 0m 4s\n",
            "\tTrain Loss: 2.213 | Train PPL:   9.145\n",
            "\t Val. Loss: 2.351 |  Val. PPL:  10.495\n",
            "Epoch: 25 | Time: 0m 4s\n",
            "\tTrain Loss: 2.169 | Train PPL:   8.747\n",
            "\t Val. Loss: 2.331 |  Val. PPL:  10.293\n",
            "Epoch: 26 | Time: 0m 4s\n",
            "\tTrain Loss: 2.130 | Train PPL:   8.418\n",
            "\t Val. Loss: 2.294 |  Val. PPL:   9.910\n",
            "Epoch: 27 | Time: 0m 4s\n",
            "\tTrain Loss: 2.088 | Train PPL:   8.066\n",
            "\t Val. Loss: 2.269 |  Val. PPL:   9.666\n",
            "Epoch: 28 | Time: 0m 4s\n",
            "\tTrain Loss: 2.051 | Train PPL:   7.776\n",
            "\t Val. Loss: 2.260 |  Val. PPL:   9.580\n",
            "Epoch: 29 | Time: 0m 4s\n",
            "\tTrain Loss: 2.015 | Train PPL:   7.500\n",
            "\t Val. Loss: 2.224 |  Val. PPL:   9.242\n",
            "Epoch: 30 | Time: 0m 4s\n",
            "\tTrain Loss: 1.984 | Train PPL:   7.274\n",
            "\t Val. Loss: 2.195 |  Val. PPL:   8.978\n",
            "Epoch: 31 | Time: 0m 4s\n",
            "\tTrain Loss: 1.951 | Train PPL:   7.033\n",
            "\t Val. Loss: 2.177 |  Val. PPL:   8.816\n",
            "Epoch: 32 | Time: 0m 4s\n",
            "\tTrain Loss: 1.921 | Train PPL:   6.829\n",
            "\t Val. Loss: 2.148 |  Val. PPL:   8.564\n",
            "Epoch: 33 | Time: 0m 4s\n",
            "\tTrain Loss: 1.891 | Train PPL:   6.629\n",
            "\t Val. Loss: 2.153 |  Val. PPL:   8.614\n",
            "Epoch: 34 | Time: 0m 4s\n",
            "\tTrain Loss: 1.859 | Train PPL:   6.419\n",
            "\t Val. Loss: 2.130 |  Val. PPL:   8.411\n",
            "Epoch: 35 | Time: 0m 4s\n",
            "\tTrain Loss: 1.829 | Train PPL:   6.227\n",
            "\t Val. Loss: 2.114 |  Val. PPL:   8.282\n",
            "Epoch: 36 | Time: 0m 4s\n",
            "\tTrain Loss: 1.803 | Train PPL:   6.069\n",
            "\t Val. Loss: 2.087 |  Val. PPL:   8.059\n",
            "Epoch: 37 | Time: 0m 4s\n",
            "\tTrain Loss: 1.774 | Train PPL:   5.897\n",
            "\t Val. Loss: 2.068 |  Val. PPL:   7.907\n",
            "Epoch: 38 | Time: 0m 4s\n",
            "\tTrain Loss: 1.745 | Train PPL:   5.727\n",
            "\t Val. Loss: 2.059 |  Val. PPL:   7.837\n",
            "Epoch: 39 | Time: 0m 4s\n",
            "\tTrain Loss: 1.717 | Train PPL:   5.566\n",
            "\t Val. Loss: 2.048 |  Val. PPL:   7.752\n",
            "Epoch: 40 | Time: 0m 4s\n",
            "\tTrain Loss: 1.692 | Train PPL:   5.430\n",
            "\t Val. Loss: 2.026 |  Val. PPL:   7.586\n",
            "Epoch: 41 | Time: 0m 4s\n",
            "\tTrain Loss: 1.669 | Train PPL:   5.305\n",
            "\t Val. Loss: 2.013 |  Val. PPL:   7.484\n",
            "Epoch: 42 | Time: 0m 4s\n",
            "\tTrain Loss: 1.640 | Train PPL:   5.157\n",
            "\t Val. Loss: 2.004 |  Val. PPL:   7.418\n",
            "Epoch: 43 | Time: 0m 4s\n",
            "\tTrain Loss: 1.613 | Train PPL:   5.019\n",
            "\t Val. Loss: 1.982 |  Val. PPL:   7.260\n",
            "Epoch: 44 | Time: 0m 4s\n",
            "\tTrain Loss: 1.586 | Train PPL:   4.883\n",
            "\t Val. Loss: 1.972 |  Val. PPL:   7.186\n",
            "Epoch: 45 | Time: 0m 4s\n",
            "\tTrain Loss: 1.562 | Train PPL:   4.769\n",
            "\t Val. Loss: 1.979 |  Val. PPL:   7.238\n",
            "Epoch: 46 | Time: 0m 4s\n",
            "\tTrain Loss: 1.540 | Train PPL:   4.667\n",
            "\t Val. Loss: 1.947 |  Val. PPL:   7.005\n",
            "Epoch: 47 | Time: 0m 4s\n",
            "\tTrain Loss: 1.517 | Train PPL:   4.560\n",
            "\t Val. Loss: 1.934 |  Val. PPL:   6.916\n",
            "Epoch: 48 | Time: 0m 4s\n",
            "\tTrain Loss: 1.492 | Train PPL:   4.447\n",
            "\t Val. Loss: 1.932 |  Val. PPL:   6.906\n",
            "Epoch: 49 | Time: 0m 4s\n",
            "\tTrain Loss: 1.474 | Train PPL:   4.368\n",
            "\t Val. Loss: 1.913 |  Val. PPL:   6.775\n",
            "Epoch: 50 | Time: 0m 4s\n",
            "\tTrain Loss: 1.445 | Train PPL:   4.241\n",
            "\t Val. Loss: 1.911 |  Val. PPL:   6.762\n",
            "Epoch: 51 | Time: 0m 4s\n",
            "\tTrain Loss: 1.426 | Train PPL:   4.160\n",
            "\t Val. Loss: 1.882 |  Val. PPL:   6.566\n",
            "Epoch: 52 | Time: 0m 4s\n",
            "\tTrain Loss: 1.409 | Train PPL:   4.091\n",
            "\t Val. Loss: 1.890 |  Val. PPL:   6.616\n",
            "Epoch: 53 | Time: 0m 4s\n",
            "\tTrain Loss: 1.385 | Train PPL:   3.996\n",
            "\t Val. Loss: 1.882 |  Val. PPL:   6.568\n",
            "Epoch: 54 | Time: 0m 4s\n",
            "\tTrain Loss: 1.362 | Train PPL:   3.906\n",
            "\t Val. Loss: 1.870 |  Val. PPL:   6.487\n",
            "Epoch: 55 | Time: 0m 4s\n",
            "\tTrain Loss: 1.342 | Train PPL:   3.827\n",
            "\t Val. Loss: 1.859 |  Val. PPL:   6.416\n",
            "Epoch: 56 | Time: 0m 4s\n",
            "\tTrain Loss: 1.325 | Train PPL:   3.762\n",
            "\t Val. Loss: 1.860 |  Val. PPL:   6.423\n",
            "Epoch: 57 | Time: 0m 4s\n",
            "\tTrain Loss: 1.305 | Train PPL:   3.688\n",
            "\t Val. Loss: 1.846 |  Val. PPL:   6.337\n",
            "Epoch: 58 | Time: 0m 4s\n",
            "\tTrain Loss: 1.282 | Train PPL:   3.603\n",
            "\t Val. Loss: 1.830 |  Val. PPL:   6.236\n",
            "Epoch: 59 | Time: 0m 4s\n",
            "\tTrain Loss: 1.259 | Train PPL:   3.523\n",
            "\t Val. Loss: 1.819 |  Val. PPL:   6.166\n",
            "Epoch: 60 | Time: 0m 4s\n",
            "\tTrain Loss: 1.250 | Train PPL:   3.490\n",
            "\t Val. Loss: 1.814 |  Val. PPL:   6.132\n",
            "Epoch: 61 | Time: 0m 4s\n",
            "\tTrain Loss: 1.228 | Train PPL:   3.415\n",
            "\t Val. Loss: 1.821 |  Val. PPL:   6.180\n",
            "Epoch: 62 | Time: 0m 4s\n",
            "\tTrain Loss: 1.207 | Train PPL:   3.344\n",
            "\t Val. Loss: 1.805 |  Val. PPL:   6.078\n",
            "Epoch: 63 | Time: 0m 4s\n",
            "\tTrain Loss: 1.191 | Train PPL:   3.290\n",
            "\t Val. Loss: 1.785 |  Val. PPL:   5.959\n",
            "Epoch: 64 | Time: 0m 4s\n",
            "\tTrain Loss: 1.174 | Train PPL:   3.234\n",
            "\t Val. Loss: 1.789 |  Val. PPL:   5.984\n",
            "Epoch: 65 | Time: 0m 4s\n",
            "\tTrain Loss: 1.158 | Train PPL:   3.184\n",
            "\t Val. Loss: 1.783 |  Val. PPL:   5.950\n",
            "Epoch: 66 | Time: 0m 4s\n",
            "\tTrain Loss: 1.138 | Train PPL:   3.120\n",
            "\t Val. Loss: 1.769 |  Val. PPL:   5.866\n",
            "Epoch: 67 | Time: 0m 4s\n",
            "\tTrain Loss: 1.122 | Train PPL:   3.070\n",
            "\t Val. Loss: 1.781 |  Val. PPL:   5.936\n",
            "Epoch: 68 | Time: 0m 4s\n",
            "\tTrain Loss: 1.109 | Train PPL:   3.030\n",
            "\t Val. Loss: 1.766 |  Val. PPL:   5.846\n",
            "Epoch: 69 | Time: 0m 4s\n",
            "\tTrain Loss: 1.092 | Train PPL:   2.979\n",
            "\t Val. Loss: 1.741 |  Val. PPL:   5.704\n",
            "Epoch: 70 | Time: 0m 4s\n",
            "\tTrain Loss: 1.079 | Train PPL:   2.942\n",
            "\t Val. Loss: 1.747 |  Val. PPL:   5.736\n",
            "Epoch: 71 | Time: 0m 4s\n",
            "\tTrain Loss: 1.065 | Train PPL:   2.901\n",
            "\t Val. Loss: 1.738 |  Val. PPL:   5.687\n",
            "Epoch: 72 | Time: 0m 4s\n",
            "\tTrain Loss: 1.049 | Train PPL:   2.855\n",
            "\t Val. Loss: 1.754 |  Val. PPL:   5.780\n",
            "Epoch: 73 | Time: 0m 4s\n",
            "\tTrain Loss: 1.031 | Train PPL:   2.805\n",
            "\t Val. Loss: 1.742 |  Val. PPL:   5.706\n",
            "Epoch: 74 | Time: 0m 4s\n",
            "\tTrain Loss: 1.018 | Train PPL:   2.766\n",
            "\t Val. Loss: 1.721 |  Val. PPL:   5.593\n",
            "Epoch: 75 | Time: 0m 4s\n",
            "\tTrain Loss: 1.003 | Train PPL:   2.726\n",
            "\t Val. Loss: 1.721 |  Val. PPL:   5.590\n",
            "Epoch: 76 | Time: 0m 4s\n",
            "\tTrain Loss: 0.989 | Train PPL:   2.687\n",
            "\t Val. Loss: 1.725 |  Val. PPL:   5.612\n",
            "Epoch: 77 | Time: 0m 4s\n",
            "\tTrain Loss: 0.977 | Train PPL:   2.657\n",
            "\t Val. Loss: 1.709 |  Val. PPL:   5.521\n",
            "Epoch: 78 | Time: 0m 4s\n",
            "\tTrain Loss: 0.962 | Train PPL:   2.617\n",
            "\t Val. Loss: 1.712 |  Val. PPL:   5.539\n",
            "Epoch: 79 | Time: 0m 4s\n",
            "\tTrain Loss: 0.946 | Train PPL:   2.576\n",
            "\t Val. Loss: 1.726 |  Val. PPL:   5.616\n",
            "Epoch: 80 | Time: 0m 4s\n",
            "\tTrain Loss: 0.938 | Train PPL:   2.554\n",
            "\t Val. Loss: 1.703 |  Val. PPL:   5.488\n",
            "Epoch: 81 | Time: 0m 4s\n",
            "\tTrain Loss: 0.921 | Train PPL:   2.513\n",
            "\t Val. Loss: 1.700 |  Val. PPL:   5.473\n",
            "Epoch: 82 | Time: 0m 4s\n",
            "\tTrain Loss: 0.904 | Train PPL:   2.468\n",
            "\t Val. Loss: 1.689 |  Val. PPL:   5.411\n",
            "Epoch: 83 | Time: 0m 4s\n",
            "\tTrain Loss: 0.894 | Train PPL:   2.444\n",
            "\t Val. Loss: 1.701 |  Val. PPL:   5.480\n",
            "Epoch: 84 | Time: 0m 4s\n",
            "\tTrain Loss: 0.882 | Train PPL:   2.416\n",
            "\t Val. Loss: 1.694 |  Val. PPL:   5.444\n",
            "Epoch: 85 | Time: 0m 4s\n",
            "\tTrain Loss: 0.867 | Train PPL:   2.380\n",
            "\t Val. Loss: 1.684 |  Val. PPL:   5.385\n",
            "Epoch: 86 | Time: 0m 4s\n",
            "\tTrain Loss: 0.860 | Train PPL:   2.364\n",
            "\t Val. Loss: 1.683 |  Val. PPL:   5.384\n",
            "Epoch: 87 | Time: 0m 4s\n",
            "\tTrain Loss: 0.842 | Train PPL:   2.322\n",
            "\t Val. Loss: 1.678 |  Val. PPL:   5.357\n",
            "Epoch: 88 | Time: 0m 4s\n",
            "\tTrain Loss: 0.833 | Train PPL:   2.299\n",
            "\t Val. Loss: 1.684 |  Val. PPL:   5.387\n",
            "Epoch: 89 | Time: 0m 4s\n",
            "\tTrain Loss: 0.821 | Train PPL:   2.274\n",
            "\t Val. Loss: 1.669 |  Val. PPL:   5.307\n",
            "Epoch: 90 | Time: 0m 4s\n",
            "\tTrain Loss: 0.806 | Train PPL:   2.239\n",
            "\t Val. Loss: 1.679 |  Val. PPL:   5.358\n",
            "Epoch: 91 | Time: 0m 4s\n",
            "\tTrain Loss: 0.798 | Train PPL:   2.221\n",
            "\t Val. Loss: 1.677 |  Val. PPL:   5.349\n",
            "Epoch: 92 | Time: 0m 4s\n",
            "\tTrain Loss: 0.785 | Train PPL:   2.193\n",
            "\t Val. Loss: 1.662 |  Val. PPL:   5.272\n",
            "Epoch: 93 | Time: 0m 4s\n",
            "\tTrain Loss: 0.776 | Train PPL:   2.173\n",
            "\t Val. Loss: 1.675 |  Val. PPL:   5.340\n",
            "Epoch: 94 | Time: 0m 4s\n",
            "\tTrain Loss: 0.763 | Train PPL:   2.146\n",
            "\t Val. Loss: 1.664 |  Val. PPL:   5.282\n",
            "Epoch: 95 | Time: 0m 4s\n",
            "\tTrain Loss: 0.758 | Train PPL:   2.134\n",
            "\t Val. Loss: 1.663 |  Val. PPL:   5.277\n",
            "Epoch: 96 | Time: 0m 4s\n",
            "\tTrain Loss: 0.745 | Train PPL:   2.106\n",
            "\t Val. Loss: 1.653 |  Val. PPL:   5.225\n",
            "Epoch: 97 | Time: 0m 4s\n",
            "\tTrain Loss: 0.734 | Train PPL:   2.082\n",
            "\t Val. Loss: 1.679 |  Val. PPL:   5.361\n",
            "Epoch: 98 | Time: 0m 4s\n",
            "\tTrain Loss: 0.721 | Train PPL:   2.056\n",
            "\t Val. Loss: 1.659 |  Val. PPL:   5.256\n",
            "Epoch: 99 | Time: 0m 4s\n",
            "\tTrain Loss: 0.713 | Train PPL:   2.041\n",
            "\t Val. Loss: 1.655 |  Val. PPL:   5.234\n",
            "Epoch: 100 | Time: 0m 4s\n",
            "\tTrain Loss: 0.704 | Train PPL:   2.021\n",
            "\t Val. Loss: 1.661 |  Val. PPL:   5.264\n"
          ],
          "name": "stdout"
        }
      ]
    },
    {
      "cell_type": "code",
      "metadata": {
        "colab": {
          "base_uri": "https://localhost:8080/"
        },
        "id": "Id1jjIfMIffj",
        "outputId": "8b9e82d4-38c4-445c-e867-c53978fe90ff"
      },
      "source": [
        "!pwd"
      ],
      "execution_count": 35,
      "outputs": [
        {
          "output_type": "stream",
          "text": [
            "/content/drive/My Drive/ENDProgram/Session14\n"
          ],
          "name": "stdout"
        }
      ]
    },
    {
      "cell_type": "code",
      "metadata": {
        "colab": {
          "base_uri": "https://localhost:8080/"
        },
        "id": "-gWGtcziIjJ-",
        "outputId": "940f79f8-fb1c-4f64-b71d-e24ce2f83ef6"
      },
      "source": [
        "cd /content/drive/MyDrive/ENDProgram/Session14/EmbeddingFile/"
      ],
      "execution_count": 36,
      "outputs": [
        {
          "output_type": "stream",
          "text": [
            "/content/drive/MyDrive/ENDProgram/Session14/EmbeddingFile\n"
          ],
          "name": "stdout"
        }
      ]
    },
    {
      "cell_type": "code",
      "metadata": {
        "id": "f3_aq7QTPBFc",
        "colab": {
          "base_uri": "https://localhost:8080/"
        },
        "outputId": "ee2441ca-8182-4337-e1b5-f9535e0b3d38"
      },
      "source": [
        "model.load_state_dict(torch.load('tut6-model.pt'))\n",
        "\n",
        "test_loss = evaluate(model, test_iterator, criterion)\n",
        "\n",
        "print(f'| Test Loss: {test_loss:.3f} | Test PPL: {math.exp(test_loss):7.3f} |')"
      ],
      "execution_count": 39,
      "outputs": [
        {
          "output_type": "stream",
          "text": [
            "| Test Loss: 1.351 | Test PPL:   3.862 |\n"
          ],
          "name": "stdout"
        }
      ]
    },
    {
      "cell_type": "code",
      "metadata": {
        "colab": {
          "base_uri": "https://localhost:8080/",
          "height": 163
        },
        "id": "5cB-6KpfyESd",
        "outputId": "9505b10d-4868-46a9-d439-0de3d73bad35"
      },
      "source": [
        ""
      ],
      "execution_count": null,
      "outputs": [
        {
          "output_type": "error",
          "ename": "NameError",
          "evalue": "ignored",
          "traceback": [
            "\u001b[0;31m---------------------------------------------------------------------------\u001b[0m",
            "\u001b[0;31mNameError\u001b[0m                                 Traceback (most recent call last)",
            "\u001b[0;32m<ipython-input-53-41e7696064c5>\u001b[0m in \u001b[0;36m<module>\u001b[0;34m()\u001b[0m\n\u001b[0;32m----> 1\u001b[0;31m \u001b[0;34m[\u001b[0m\u001b[0msrc_field\u001b[0m\u001b[0;34m.\u001b[0m\u001b[0minit_token\u001b[0m\u001b[0;34m]\u001b[0m\u001b[0;34m\u001b[0m\u001b[0;34m\u001b[0m\u001b[0m\n\u001b[0m",
            "\u001b[0;31mNameError\u001b[0m: name 'src_field' is not defined"
          ]
        }
      ]
    },
    {
      "cell_type": "code",
      "metadata": {
        "id": "ieIjql9uPKH1"
      },
      "source": [
        "def translate_sentence(sentence, src_field, trg_field, model, device, max_len = 250):\n",
        "    \n",
        "    model.eval()\n",
        "        \n",
        "    if isinstance(sentence, str):\n",
        "        #print(\"hi\")\n",
        "        #nlp = spacy.load('en')\n",
        "        tokens = [token.text.lower() for token in nlp(sentence)]\n",
        "    else:\n",
        "        \n",
        "        tokens = [token.lower() for token in sentence]\n",
        "        print(tokens)\n",
        "\n",
        "    tokens = [src_field.init_token] + tokens + [src_field.eos_token]\n",
        "    #print(src_field.init_token)\n",
        "    #print(\"3\")\n",
        "    #print(src_field.vocab.stoi[src_field.init_token])\n",
        "    src_indexes = [src_field.vocab.stoi[token] for token in tokens]\n",
        "    \n",
        "    src_tensor = torch.LongTensor(src_indexes).unsqueeze(0).to(device)\n",
        "    #print(src_tensor.shape)\n",
        "\n",
        "    src_mask = model.make_src_mask(src_tensor)\n",
        "    \n",
        "    with torch.no_grad():\n",
        "        enc_src = model.encoder(src_tensor, src_mask)\n",
        "\n",
        "    trg_indexes = [trg_field.vocab.stoi[trg_field.init_token]]\n",
        "\n",
        "    for i in range(max_len):\n",
        "\n",
        "        trg_tensor = torch.LongTensor(trg_indexes).unsqueeze(0).to(device)\n",
        "\n",
        "        trg_mask = model.make_trg_mask(trg_tensor)\n",
        "        \n",
        "        with torch.no_grad():\n",
        "            output, attention = model.decoder(trg_tensor, enc_src, trg_mask, src_mask)\n",
        "        \n",
        "        pred_token = output.argmax(2)[:,-1].item()\n",
        "        \n",
        "        trg_indexes.append(pred_token)\n",
        "\n",
        "        if pred_token == trg_field.vocab.stoi[trg_field.eos_token]:\n",
        "            break\n",
        "    \n",
        "    trg_tokens = [trg_field.vocab.itos[i] for i in trg_indexes]\n",
        "    \n",
        "    return trg_tokens[1:], attention"
      ],
      "execution_count": 40,
      "outputs": []
    },
    {
      "cell_type": "code",
      "metadata": {
        "id": "WTBipndfPOlX"
      },
      "source": [
        "def display_attention(sentence, translation, attention, n_heads = 8, n_rows = 4, n_cols = 2):\n",
        "    \n",
        "    assert n_rows * n_cols == n_heads\n",
        "    \n",
        "    fig = plt.figure(figsize=(15,25))\n",
        "    \n",
        "    for i in range(n_heads):\n",
        "        \n",
        "        ax = fig.add_subplot(n_rows, n_cols, i+1)\n",
        "        \n",
        "        _attention = attention.squeeze(0)[i].cpu().detach().numpy()\n",
        "\n",
        "        cax = ax.matshow(_attention, cmap='bone')\n",
        "\n",
        "        ax.tick_params(labelsize=12)\n",
        "        ax.set_xticklabels(['']+['<sos>']+[t.lower() for t in sentence]+['<eos>'], \n",
        "                           rotation=45)\n",
        "        ax.set_yticklabels(['']+translation)\n",
        "\n",
        "        ax.xaxis.set_major_locator(ticker.MultipleLocator(1))\n",
        "        ax.yaxis.set_major_locator(ticker.MultipleLocator(1))\n",
        "\n",
        "    plt.show()"
      ],
      "execution_count": 41,
      "outputs": []
    },
    {
      "cell_type": "code",
      "metadata": {
        "id": "TJHNiBOoPQhG",
        "colab": {
          "base_uri": "https://localhost:8080/"
        },
        "outputId": "32f3fd69-e28d-487e-cb98-a728c0d3e894"
      },
      "source": [
        "example_idx = 2\n",
        "\n",
        "src = vars(train_data.examples[example_idx])['src']\n",
        "trg = vars(train_data.examples[example_idx])['trg']\n",
        "\n",
        "print(f'src = {src}')\n",
        "print(f'trg = {trg}')"
      ],
      "execution_count": 47,
      "outputs": [
        {
          "output_type": "stream",
          "text": [
            "src = ['write', 'a', 'function', 'to', 'calculate', 'simple', 'interest', ',', 'given', 'p', ',', 'r', ',', 't']\n",
            "trg = [\"'\", '\\\\n', 'def', 'simp', '_', 'int', '(', 'p', ',', ' ', 'r', ',', ' ', 't', ')', '  ', ':', '  ', '\\\\n', ' ', '\\\\t', 'interest', ' ', '=', '  ', '(', 'p', '*', 'r', '*', 't', ')', ' ', '/', '100', '\\\\n', ' ', '\\\\t', 'return', 'interest', \"'\"]\n"
          ],
          "name": "stdout"
        }
      ]
    },
    {
      "cell_type": "code",
      "metadata": {
        "id": "dZSai6VDPR3o",
        "colab": {
          "base_uri": "https://localhost:8080/"
        },
        "outputId": "fd7158e0-1f6a-4a47-8205-a79c690a6854"
      },
      "source": [
        "translation, attention = translate_sentence(src, SRC, TRG, model, device)\n",
        "\n",
        "print(f'predicted trg = {translation}')"
      ],
      "execution_count": 48,
      "outputs": [
        {
          "output_type": "stream",
          "text": [
            "['write', 'a', 'function', 'to', 'calculate', 'simple', 'interest', ',', 'given', 'p', ',', 'r', ',', 't']\n",
            "predicted trg = [\"'\", '\\\\n', 'def', 'simple', '_', 'interest', '(', 'p', ',', 'r', ',', 't', ',', 't', ')', '  ', ':', '  ', '\\\\n', ' ', '\\\\t', 'si', ' ', '=', '  ', '(', 'p', '*', 't', ' ', '*', 't', ')', ' ', '/', '100', '\\\\n', ' ', '\\\\t', 'return', 'si', \"'\", '<eos>']\n"
          ],
          "name": "stdout"
        }
      ]
    },
    {
      "cell_type": "code",
      "metadata": {
        "id": "CHWqhmvtPTJv",
        "colab": {
          "base_uri": "https://localhost:8080/",
          "height": 1000
        },
        "outputId": "fee37bb1-04f6-4dc4-f663-a9e56b3510aa"
      },
      "source": [
        "display_attention(src, translation, attention)\n"
      ],
      "execution_count": 49,
      "outputs": [
        {
          "output_type": "display_data",
          "data": {
            "image/png": "[encoded data removed]",
            "text/plain": [
              "<Figure size 1080x1800 with 8 Axes>"
            ]
          },
          "metadata": {
            "tags": [],
            "needs_background": "light"
          }
        }
      ]
    },
    {
      "cell_type": "code",
      "metadata": {
        "id": "0YyJFiJXPVjr",
        "colab": {
          "base_uri": "https://localhost:8080/"
        },
        "outputId": "40245899-302f-4b08-d407-ed5908379e40"
      },
      "source": [
        "example_idx = 6\n",
        "\n",
        "src = vars(valid_data.examples[example_idx])['src']\n",
        "trg = vars(valid_data.examples[example_idx])['trg']\n",
        "\n",
        "print(f'src = {src}')\n",
        "print(f'trg = {trg}')"
      ],
      "execution_count": null,
      "outputs": [
        {
          "output_type": "stream",
          "text": [
            "src = ['write', 'a', 'python', 'function', 'to', 'return', 'the', 'factors', 'of', 'a', 'number']\n",
            "trg = ['def', 'get', '_', 'factors', '(', 'num', ')', ' ', ':', '\\n   ', 'factors', ' ', '=', '  ', '[', ' ', ']', '\\n   ', 'for', 'i', 'in', 'range', '(', '1', ',', ' ', 'num', ' ', '+', ' ', '1', ')', ' ', ':', '\\n      ', 'if', 'num', ' ', '%', ' ', 'i', ' ', '=', ' ', '=', ' ', '0', ':', '\\n         ', 'factors', '.', 'append', '(', 'i', ')', '\\n   ', 'return', 'factors']\n"
          ],
          "name": "stdout"
        }
      ]
    },
    {
      "cell_type": "code",
      "metadata": {
        "id": "LDmsvAhoPWze",
        "colab": {
          "base_uri": "https://localhost:8080/",
          "height": 339
        },
        "outputId": "1a1ba201-4b44-4716-ed44-8db69fa32b72"
      },
      "source": [
        "translation, attention = translate_sentence(src, src, trg, model, device)\n",
        "\n",
        "print(f'predicted trg = {translation}')"
      ],
      "execution_count": null,
      "outputs": [
        {
          "output_type": "stream",
          "text": [
            "['write', 'a', 'python', 'function', 'to', 'return', 'the', 'factors', 'of', 'a', 'number']\n"
          ],
          "name": "stdout"
        },
        {
          "output_type": "error",
          "ename": "AttributeError",
          "evalue": "ignored",
          "traceback": [
            "\u001b[0;31m---------------------------------------------------------------------------\u001b[0m",
            "\u001b[0;31mAttributeError\u001b[0m                            Traceback (most recent call last)",
            "\u001b[0;32m<ipython-input-41-50e419915969>\u001b[0m in \u001b[0;36m<module>\u001b[0;34m()\u001b[0m\n\u001b[0;32m----> 1\u001b[0;31m \u001b[0mtranslation\u001b[0m\u001b[0;34m,\u001b[0m \u001b[0mattention\u001b[0m \u001b[0;34m=\u001b[0m \u001b[0mtranslate_sentence\u001b[0m\u001b[0;34m(\u001b[0m\u001b[0msrc\u001b[0m\u001b[0;34m,\u001b[0m \u001b[0msrc\u001b[0m\u001b[0;34m,\u001b[0m \u001b[0mtrg\u001b[0m\u001b[0;34m,\u001b[0m \u001b[0mmodel\u001b[0m\u001b[0;34m,\u001b[0m \u001b[0mdevice\u001b[0m\u001b[0;34m)\u001b[0m\u001b[0;34m\u001b[0m\u001b[0;34m\u001b[0m\u001b[0m\n\u001b[0m\u001b[1;32m      2\u001b[0m \u001b[0;34m\u001b[0m\u001b[0m\n\u001b[1;32m      3\u001b[0m \u001b[0mprint\u001b[0m\u001b[0;34m(\u001b[0m\u001b[0;34mf'predicted trg = {translation}'\u001b[0m\u001b[0;34m)\u001b[0m\u001b[0;34m\u001b[0m\u001b[0;34m\u001b[0m\u001b[0m\n",
            "\u001b[0;32m<ipython-input-35-899bd3aa3880>\u001b[0m in \u001b[0;36mtranslate_sentence\u001b[0;34m(sentence, src_field, trg_field, model, device, max_len)\u001b[0m\n\u001b[1;32m     12\u001b[0m         \u001b[0mprint\u001b[0m\u001b[0;34m(\u001b[0m\u001b[0mtokens\u001b[0m\u001b[0;34m)\u001b[0m\u001b[0;34m\u001b[0m\u001b[0;34m\u001b[0m\u001b[0m\n\u001b[1;32m     13\u001b[0m \u001b[0;34m\u001b[0m\u001b[0m\n\u001b[0;32m---> 14\u001b[0;31m     \u001b[0mtokens\u001b[0m \u001b[0;34m=\u001b[0m \u001b[0;34m[\u001b[0m\u001b[0msrc_field\u001b[0m\u001b[0;34m.\u001b[0m\u001b[0minit_token\u001b[0m\u001b[0;34m]\u001b[0m \u001b[0;34m+\u001b[0m \u001b[0mtokens\u001b[0m \u001b[0;34m+\u001b[0m \u001b[0;34m[\u001b[0m\u001b[0msrc_field\u001b[0m\u001b[0;34m.\u001b[0m\u001b[0meos_token\u001b[0m\u001b[0;34m]\u001b[0m\u001b[0;34m\u001b[0m\u001b[0;34m\u001b[0m\u001b[0m\n\u001b[0m\u001b[1;32m     15\u001b[0m \u001b[0;34m\u001b[0m\u001b[0m\n\u001b[1;32m     16\u001b[0m     \u001b[0msrc_indexes\u001b[0m \u001b[0;34m=\u001b[0m \u001b[0;34m[\u001b[0m\u001b[0msrc_field\u001b[0m\u001b[0;34m.\u001b[0m\u001b[0mvocab\u001b[0m\u001b[0;34m.\u001b[0m\u001b[0mstoi\u001b[0m\u001b[0;34m[\u001b[0m\u001b[0mtoken\u001b[0m\u001b[0;34m]\u001b[0m \u001b[0;32mfor\u001b[0m \u001b[0mtoken\u001b[0m \u001b[0;32min\u001b[0m \u001b[0mtokens\u001b[0m\u001b[0;34m]\u001b[0m\u001b[0;34m\u001b[0m\u001b[0;34m\u001b[0m\u001b[0m\n",
            "\u001b[0;31mAttributeError\u001b[0m: 'list' object has no attribute 'init_token'"
          ]
        }
      ]
    },
    {
      "cell_type": "code",
      "metadata": {
        "id": "9k_YvNBPPX02"
      },
      "source": [
        "display_attention(src, translation, attention)\n"
      ],
      "execution_count": null,
      "outputs": []
    },
    {
      "cell_type": "code",
      "metadata": {
        "id": "V4RJbrqmPZkX"
      },
      "source": [
        "example_idx = 10\n",
        "\n",
        "src = vars(test_data.examples[example_idx])['src']\n",
        "trg = vars(test_data.examples[example_idx])['trg']\n",
        "\n",
        "print(f'src = {src}')\n",
        "print(f'trg = {trg}')"
      ],
      "execution_count": null,
      "outputs": []
    },
    {
      "cell_type": "code",
      "metadata": {
        "id": "oN00r7FqPbGj"
      },
      "source": [
        "translation, attention = translate_sentence(src, SRC, TRG, model, device)\n",
        "\n",
        "print(f'predicted trg = {translation}')"
      ],
      "execution_count": null,
      "outputs": []
    },
    {
      "cell_type": "code",
      "metadata": {
        "id": "ixzIycViPcI3"
      },
      "source": [
        "display_attention(src, translation, attention)\n"
      ],
      "execution_count": null,
      "outputs": []
    },
    {
      "cell_type": "code",
      "metadata": {
        "id": "ksrj1V2YPeCa"
      },
      "source": [
        "from torchtext.data.metrics import bleu_score\n",
        "\n",
        "def calculate_bleu(data, src_field, trg_field, model, device, max_len = 50):\n",
        "    \n",
        "    trgs = []\n",
        "    pred_trgs = []\n",
        "    \n",
        "    for datum in data:\n",
        "        \n",
        "        src = vars(datum)['src']\n",
        "        trg = vars(datum)['trg']\n",
        "        \n",
        "        pred_trg, _ = translate_sentence(src, src_field, trg_field, model, device, max_len)\n",
        "        \n",
        "        #cut off <eos> token\n",
        "        pred_trg = pred_trg[:-1]\n",
        "        \n",
        "        pred_trgs.append(pred_trg)\n",
        "        trgs.append([trg])\n",
        "        \n",
        "    return bleu_score(pred_trgs, trgs)"
      ],
      "execution_count": null,
      "outputs": []
    },
    {
      "cell_type": "code",
      "metadata": {
        "id": "uWnMnm_UPfNp"
      },
      "source": [
        "bleu_score = calculate_bleu(test_data, SRC, TRG, model, device)\n",
        "\n",
        "print(f'BLEU score = {bleu_score*100:.2f}')"
      ],
      "execution_count": null,
      "outputs": []
    },
    {
      "cell_type": "code",
      "metadata": {
        "id": "tBp2QYMzQM4F"
      },
      "source": [
        ""
      ],
      "execution_count": null,
      "outputs": []
    }
  ]
}